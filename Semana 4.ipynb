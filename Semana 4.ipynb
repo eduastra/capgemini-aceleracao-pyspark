{
 "cells": [
  {
   "cell_type": "code",
   "execution_count": 1,
   "metadata": {
    "datalore": {
     "hide_input_from_viewers": false,
     "hide_output_from_viewers": false,
     "type": "CODE"
    }
   },
   "outputs": [
    {
     "name": "stdout",
     "output_type": "stream",
     "text": [
      "Requirement already satisfied: pyspark in /opt/python/envs/default/lib/python3.8/site-packages (3.2.0)\r\n",
      "Requirement already satisfied: py4j==0.10.9.2 in /opt/python/envs/default/lib/python3.8/site-packages (from pyspark) (0.10.9.2)\r\n",
      "\u001b[33mWARNING: You are using pip version 21.3.1; however, version 22.0.4 is available.\r\n",
      "You should consider upgrading via the '/opt/python/envs/default/bin/python -m pip install --upgrade pip' command.\u001b[0m\r\n",
      "Requirement already satisfied: findspark in /opt/python/envs/default/lib/python3.8/site-packages (2.0.1)\r\n",
      "\u001b[33mWARNING: You are using pip version 21.3.1; however, version 22.0.4 is available.\r\n",
      "You should consider upgrading via the '/opt/python/envs/default/bin/python -m pip install --upgrade pip' command.\u001b[0m\r\n"
     ]
    }
   ],
   "source": [
    "!pip install pyspark\n",
    "!pip install findspark\n"
   ]
  },
  {
   "cell_type": "code",
   "execution_count": 2,
   "metadata": {
    "datalore": {
     "hide_input_from_viewers": false,
     "hide_output_from_viewers": false,
     "type": "CODE"
    }
   },
   "outputs": [],
   "source": [
    "import findspark\n",
    "findspark.init()\n",
    "\n",
    "from pyspark import SparkConf, SparkContext\n",
    "from pyspark.sql import SparkSession\n",
    "from pyspark.sql import functions as F\n",
    "from pyspark.sql.types import StringType, StructField, StructType, IntegerType, FloatType\n",
    "from datetime import datetime as dt"
   ]
  },
  {
   "cell_type": "code",
   "execution_count": 3,
   "metadata": {
    "datalore": {
     "hide_input_from_viewers": false,
     "hide_output_from_viewers": false,
     "type": "CODE"
    }
   },
   "outputs": [],
   "source": [
    "sc = SparkContext()\n",
    "\n",
    "spark = (SparkSession.builder.master('local[7]').appName(\"Relatórios - carlos\"))"
   ]
  },
  {
   "cell_type": "code",
   "execution_count": 4,
   "metadata": {
    "datalore": {
     "hide_input_from_viewers": false,
     "hide_output_from_viewers": false,
     "type": "CODE"
    }
   },
   "outputs": [],
   "source": [
    "# Expressoes regulares comuns\n",
    "REGEX_ALPHA    = r'[a-zA-Z]+'\n",
    "REGEX_INTEGER  = r'[0-9]+'\n",
    "REGEX_FLOAT    = r'[0-9]+\\.[0-9]+'\n",
    "REGEX_ALPHANUM = r'[0-9a-zA-Z]+'\n",
    "REGEX_EMPTY_STR= r'[\\t ]+$'\n",
    "REGEX_SPECIAL  = r'[!@#$%&*\\(\\)_]+'\n",
    "REGEX_NNUMBER  = r'^N[1-9][0-9]{2,3}([ABCDEFGHJKLMNPRSTUVXWYZ]{1,2})'\n",
    "REGEX_NNUMBER_INVALID = r'(N0.*$)|(.*[IO].*)'\n",
    "REGEX_TIME_FMT = r'^(([0-1]?[0-9])|(2[0-3]))([0-5][0-9])$'"
   ]
  },
  {
   "cell_type": "code",
   "execution_count": 5,
   "metadata": {
    "datalore": {
     "hide_input_from_viewers": false,
     "hide_output_from_viewers": false,
     "type": "CODE"
    }
   },
   "outputs": [],
   "source": [
    "import re\n",
    "\n",
    "def check_empty_column(col):\n",
    "    return (F.col(col).isNull() | (F.col(col) == '') | (F.col(col).rlike(REGEX_EMPTY_STR) ))"
   ]
  },
  {
   "cell_type": "code",
   "execution_count": 6,
   "metadata": {
    "datalore": {
     "hide_input_from_viewers": false,
     "hide_output_from_viewers": false,
     "type": "CODE"
    }
   },
   "outputs": [],
   "source": [
    "# Lendo arquivo parquet\n",
    "\n",
    "flights_qa = (spark.getOrCreate().read\n",
    "                   .format(\"parquet\")\n",
    "                   .option(\"header\",\"True\")\n",
    "                   .load(\"./parquet_files/qa_outputs/qa_flights.parquet\"))\n",
    "\n",
    "\n",
    "# Lendo arquivo parquet\n",
    "planes_qa = (spark.getOrCreate().read\n",
    "                   .format(\"parquet\")\n",
    "                   .option(\"header\",\"True\")\n",
    "                   .load(\"./parquet_files/qa_outputs/planes_qa.parquet\"))\n",
    "\n",
    "# Lendo arquivo parquet\n",
    "airports_qa = (spark.getOrCreate().read\n",
    "                   .format(\"parquet\")\n",
    "                   .option(\"header\",\"True\")\n",
    "                   .load(\"./parquet_files/qa_outputs/airport_qa.parquet\"))"
   ]
  },
  {
   "cell_type": "code",
   "execution_count": 7,
   "metadata": {
    "datalore": {
     "hide_input_from_viewers": false,
     "hide_output_from_viewers": false,
     "type": "CODE"
    }
   },
   "outputs": [],
   "source": [
    "# Criacao das visões temporarias\n",
    "flights_qa.createOrReplaceTempView('flights')\n",
    "planes_qa.createOrReplaceTempView('planes')\n",
    "airports_qa.createOrReplaceTempView('airports')"
   ]
  },
  {
   "cell_type": "code",
   "execution_count": 8,
   "metadata": {
    "datalore": {
     "hide_input_from_viewers": false,
     "hide_output_from_viewers": false,
     "type": "CODE"
    }
   },
   "outputs": [
    {
     "name": "stdout",
     "output_type": "stream",
     "text": [
      "+-------+----+--------------------+----------------+--------+-------+-----+-----+---------+----------+-------+-------+----------------+--------+----------+--------+--------+---------+\n",
      "|tailnum|year|                type|    manufacturer|   model|engines|seats|speed|   engine|qa_tailnum|qa_year|qa_type| qa_manufacturer|qa_model|qa_engines|qa_seats|qa_speed|qa_engine|\n",
      "+-------+----+--------------------+----------------+--------+-------+-----+-----+---------+----------+-------+-------+----------------+--------+----------+--------+--------+---------+\n",
      "| N102UW|1998|Fixed wing multi ...|AIRBUS INDUSTRIE|A320-214|      2|  182| null|Turbo-fan|         S|   1998|      M|AIRBUS INDUSTRIE|A320-214|         2|       F|       M|Turbo-fan|\n",
      "| N103US|1999|Fixed wing multi ...|AIRBUS INDUSTRIE|A320-214|      2|  182| null|Turbo-fan|         S|   1999|      M|AIRBUS INDUSTRIE|A320-214|         2|       F|       M|Turbo-fan|\n",
      "| N104UW|1999|Fixed wing multi ...|AIRBUS INDUSTRIE|A320-214|      2|  182| null|Turbo-fan|         S|   1999|      M|AIRBUS INDUSTRIE|A320-214|         2|       F|       M|Turbo-fan|\n",
      "| N105UW|1999|Fixed wing multi ...|AIRBUS INDUSTRIE|A320-214|      2|  182| null|Turbo-fan|         S|   1999|      M|AIRBUS INDUSTRIE|A320-214|         2|       F|       M|Turbo-fan|\n",
      "| N107US|1999|Fixed wing multi ...|AIRBUS INDUSTRIE|A320-214|      2|  182| null|Turbo-fan|         S|   1999|      M|AIRBUS INDUSTRIE|A320-214|         2|       F|       M|Turbo-fan|\n",
      "| N108UW|1999|Fixed wing multi ...|AIRBUS INDUSTRIE|A320-214|      2|  182| null|Turbo-fan|         S|   1999|      M|AIRBUS INDUSTRIE|A320-214|         2|       F|       M|Turbo-fan|\n",
      "| N109UW|1999|Fixed wing multi ...|AIRBUS INDUSTRIE|A320-214|      2|  182| null|Turbo-fan|         S|   1999|      M|AIRBUS INDUSTRIE|A320-214|         2|       F|       M|Turbo-fan|\n",
      "| N110UW|1999|Fixed wing multi ...|AIRBUS INDUSTRIE|A320-214|      2|  182| null|Turbo-fan|         S|   1999|      M|AIRBUS INDUSTRIE|A320-214|         2|       F|       M|Turbo-fan|\n",
      "| N111US|1999|Fixed wing multi ...|AIRBUS INDUSTRIE|A320-214|      2|  182| null|Turbo-fan|         S|   1999|      M|AIRBUS INDUSTRIE|A320-214|         2|       F|       M|Turbo-fan|\n",
      "| N11206|2000|Fixed wing multi ...|          BOEING| 737-824|      2|  149| null|Turbo-fan|         S|   2000|      M|          BOEING| 737-824|         2|       F|       M|Turbo-fan|\n",
      "| N112US|1999|Fixed wing multi ...|AIRBUS INDUSTRIE|A320-214|      2|  182| null|Turbo-fan|         S|   1999|      M|AIRBUS INDUSTRIE|A320-214|         2|       F|       M|Turbo-fan|\n",
      "| N113UW|1999|Fixed wing multi ...|AIRBUS INDUSTRIE|A320-214|      2|  182| null|Turbo-fan|         S|   1999|      M|AIRBUS INDUSTRIE|A320-214|         2|       F|       M|Turbo-fan|\n",
      "| N114UW|1999|Fixed wing multi ...|AIRBUS INDUSTRIE|A320-214|      2|  182| null|Turbo-fan|         S|   1999|      M|AIRBUS INDUSTRIE|A320-214|         2|       F|       M|Turbo-fan|\n",
      "| N117UW|2000|Fixed wing multi ...|AIRBUS INDUSTRIE|A320-214|      2|  182| null|Turbo-fan|         S|   2000|      M|AIRBUS INDUSTRIE|A320-214|         2|       F|       M|Turbo-fan|\n",
      "| N118US|2000|Fixed wing multi ...|AIRBUS INDUSTRIE|A320-214|      2|  182| null|Turbo-fan|         S|   2000|      M|AIRBUS INDUSTRIE|A320-214|         2|       F|       M|Turbo-fan|\n",
      "| N119US|2000|Fixed wing multi ...|AIRBUS INDUSTRIE|A320-214|      2|  182| null|Turbo-fan|         S|   2000|      M|AIRBUS INDUSTRIE|A320-214|         2|       F|       M|Turbo-fan|\n",
      "| N1200K|1998|Fixed wing multi ...|          BOEING| 767-332|      2|  330| null|Turbo-fan|         S|   1998|      M|          BOEING| 767-332|         2|       F|       M|Turbo-fan|\n",
      "| N1201P|1998|Fixed wing multi ...|          BOEING| 767-332|      2|  330| null|Turbo-fan|         S|   1998|      M|          BOEING| 767-332|         2|       F|       M|Turbo-fan|\n",
      "| N12114|1995|Fixed wing multi ...|          BOEING| 757-224|      2|  178| null|Turbo-jet|         S|   1995|      M|          BOEING| 757-224|         2|       F|       M|Turbo-jet|\n",
      "| N121DE|1987|Fixed wing multi ...|          BOEING| 767-332|      2|  330| null|Turbo-fan|         S|   1987|      M|          BOEING| 767-332|         2|       F|       M|Turbo-fan|\n",
      "+-------+----+--------------------+----------------+--------+-------+-----+-----+---------+----------+-------+-------+----------------+--------+----------+--------+--------+---------+\n",
      "only showing top 20 rows\n",
      "\n"
     ]
    }
   ],
   "source": [
    "planes_qa.show()"
   ]
  },
  {
   "cell_type": "code",
   "execution_count": 9,
   "metadata": {
    "datalore": {
     "hide_input_from_viewers": false,
     "hide_output_from_viewers": false,
     "type": "CODE"
    }
   },
   "outputs": [
    {
     "name": "stdout",
     "output_type": "stream",
     "text": [
      "+----+-----+---+--------+---------+--------+---------+-------+-------+------+------+-------+--------+--------+----+------+-----------------+--------------+---------------+----------------+----------+---------+--------------+-----------+-----------+----------+\n",
      "|year|month|day|dep_time|dep_delay|arr_time|arr_delay|carrier|tailnum|flight|origin|destiny|air_time|distance|hour|minute|qa_year_month_day|qa_hour_minute|qa_dep_arr_time|qa_dep_arr_delay|qa_carrier|qa_flight|qa_origin_dest|qa_air_time|qa_distance|qa_airtime|\n",
      "+----+-----+---+--------+---------+--------+---------+-------+-------+------+------+-------+--------+--------+----+------+-----------------+--------------+---------------+----------------+----------+---------+--------------+-----------+-----------+----------+\n",
      "|2014|   12|  8|     658|       -7|     935|       -5|     VX| N846VA|  1780|   SEA|    LAX|     132|     954|   6|    58|             null|          null|           null|            null|        VX|     1780|          null|        132|        954|        TL|\n",
      "|2014|    1| 22|    1040|        5|    1505|        5|     AS| N559AS|   851|   SEA|    HNL|     360|    2677|  10|    40|             null|          null|           null|            null|        AS|        F|          null|        360|       2677|        TL|\n",
      "|2014|    3|  9|    1443|       -2|    1652|        2|     VX| N847VA|   755|   SEA|    SFO|     111|     679|  14|    43|             null|          null|           null|            null|        VX|        F|          null|        111|        679|        TL|\n",
      "|2014|    4|  9|    1705|       45|    1839|       34|     WN| N360SW|   344|   PDX|    SJC|      83|     569|  17|     5|             null|          null|           null|            null|        WN|        F|          null|         83|        569|        TR|\n",
      "|2014|    3|  9|     754|       -1|    1015|        1|     AS| N612AS|   522|   SEA|    BUR|     127|     937|   7|    54|             null|          null|           null|            null|        AS|        F|          null|        127|        937|        TL|\n",
      "|2014|    1| 15|    1037|        7|    1352|        2|     WN| N646SW|    48|   PDX|    DEN|     121|     991|  10|    37|             null|          null|           null|            null|        WN|        F|          null|        121|        991|        TR|\n",
      "|2014|    7|  2|     847|       42|    1041|       51|     WN| N422WN|  1520|   PDX|    OAK|      90|     543|   8|    47|             null|          null|           null|            null|        WN|     1520|          null|         90|        543|        TL|\n",
      "|2014|    5| 12|    1655|       -5|    1842|      -18|     VX| N361VA|   755|   SEA|    SFO|      98|     679|  16|    55|             null|          null|           null|            null|        VX|        F|          null|         98|        679|        TL|\n",
      "|2014|    4| 19|    1236|       -4|    1508|       -7|     AS| N309AS|   490|   SEA|    SAN|     135|    1050|  12|    36|             null|          null|           null|            null|        AS|        F|          null|        135|       1050|        TL|\n",
      "|2014|   11| 19|    1812|       -3|    2352|       -4|     AS| N564AS|    26|   SEA|    ORD|     198|    1721|  18|    12|             null|          null|           null|            null|        AS|        F|          null|        198|       1721|        TR|\n",
      "|2014|   11|  8|    1653|       -2|    1924|       -1|     AS| N323AS|   448|   SEA|    LAX|     130|     954|  16|    53|             null|          null|           null|            null|        AS|        F|          null|        130|        954|        TL|\n",
      "|2014|    8|  3|    1120|        0|    1415|        2|     AS| N305AS|   656|   SEA|    PHX|     154|    1107|  11|    20|             null|          null|           null|            null|        AS|        F|          null|        154|       1107|        TL|\n",
      "|2014|   10| 30|     811|       21|    1038|       29|     AS| N433AS|   608|   SEA|    LAS|     127|     867|   8|    11|             null|          null|           null|            null|        AS|        F|          null|        127|        867|        TL|\n",
      "|2014|   11| 12|    2346|       -4|     217|      -28|     AS| N765AS|   121|   SEA|    ANC|     183|    1448|  23|    46|             null|          null|           null|            null|        AS|        F|          null|        183|       1448|        TL|\n",
      "|2014|   10| 31|    1314|       89|    1544|      111|     AS| N713AS|   306|   SEA|    SFO|     129|     679|  13|    14|             null|          null|           null|            null|        AS|        F|          null|        129|        679|        TL|\n",
      "|2014|    1| 29|    2009|        3|    2159|        9|     UA| N27205|  1458|   PDX|    SFO|      90|     550|  20|     9|             null|          null|           null|            null|        UA|     1458|          null|         90|        550|        TL|\n",
      "|2014|   12| 17|    2015|       50|    2150|       41|     AS| N626AS|   368|   SEA|    SMF|      76|     605|  20|    15|             null|          null|           null|            null|        AS|        F|          null|         76|        605|        TR|\n",
      "|2014|    8| 11|    1017|       -3|    1613|       -7|     WN| N8634A|   827|   SEA|    MDW|     216|    1733|  10|    17|             null|          null|           null|            null|        WN|        F|          null|        216|       1733|        TL|\n",
      "|2014|    1| 13|    2156|       -9|     607|      -15|     AS| N597AS|    24|   SEA|    BOS|     290|    2496|  21|    56|             null|          null|           null|            null|        AS|        F|          null|        290|       2496|        TL|\n",
      "|2014|    6|  5|    1733|      -12|    1945|      -10|     OO| N215AG|  3488|   PDX|    BUR|     111|     817|  17|    33|             null|          null|           null|            null|        OO|     3488|          null|        111|        817|        TR|\n",
      "+----+-----+---+--------+---------+--------+---------+-------+-------+------+------+-------+--------+--------+----+------+-----------------+--------------+---------------+----------------+----------+---------+--------------+-----------+-----------+----------+\n",
      "only showing top 20 rows\n",
      "\n"
     ]
    }
   ],
   "source": [
    "flights_qa.show()"
   ]
  },
  {
   "cell_type": "code",
   "execution_count": 10,
   "metadata": {
    "datalore": {
     "hide_input_from_viewers": false,
     "hide_output_from_viewers": false,
     "type": "CODE"
    }
   },
   "outputs": [
    {
     "name": "stdout",
     "output_type": "stream",
     "text": [
      "+---+--------------------+---------+-----------+----+----+---+------+--------------------+---------+-----------+------+-----+------+\n",
      "|faa|                name|      lat|        lon| alt|  tz|dst|qa_faa|             qa_name|   qa_lat|     qa_lon|qa_alt|qa_tz|qa_dst|\n",
      "+---+--------------------+---------+-----------+----+----+---+------+--------------------+---------+-----------+------+-----+------+\n",
      "|04G|   Lansdowne Airport|41.130474|  -80.61958|1044|-5.0|  A|   04G|   Lansdowne Airport|41.130474|  -80.61958|  1044| -5.0|     A|\n",
      "|06A|Moton Field Munic...| 32.46057|  -85.68003| 264|-5.0|  A|   06A|Moton Field Munic...| 32.46057|  -85.68003|   264| -5.0|     A|\n",
      "|06C| Schaumburg Regional| 41.98934|  -88.10124| 801|-6.0|  A|   06C| Schaumburg Regional| 41.98934|  -88.10124|   801| -6.0|     A|\n",
      "|06N|     Randall Airport| 41.43191|  -74.39156| 523|-5.0|  A|   06N|     Randall Airport| 41.43191|  -74.39156|   523| -5.0|     A|\n",
      "|09J|Jekyll Island Air...|31.074472|  -81.42778|  11|-4.0|  A|   09J|Jekyll Island Air...|31.074472|  -81.42778|    11| -4.0|     A|\n",
      "|0A9|Elizabethton Muni...|36.371223| -82.173416|1593|-4.0|  A|   0A9|Elizabethton Muni...|36.371223| -82.173416|  1593| -4.0|     A|\n",
      "|0G6|Williams County A...|41.467304| -84.506775| 730|-5.0|  A|   0G6|Williams County A...|41.467304| -84.506775|   730| -5.0|     A|\n",
      "|0G7|Finger Lakes Regi...|42.883564| -76.781235| 492|-5.0|  A|   0G7|Finger Lakes Regi...|42.883564| -76.781235|   492| -5.0|     A|\n",
      "|0P2|Shoestring Aviati...|39.794823| -76.647194|1000|-5.0|  U|   0P2|Shoestring Aviati...|39.794823| -76.647194|  1000| -5.0|     U|\n",
      "|0S9|Jefferson County ...| 48.05381|-122.810646| 108|-8.0|  A|   0S9|Jefferson County ...| 48.05381|-122.810646|   108| -8.0|     A|\n",
      "|0W3|Harford County Ai...|39.566837|   -76.2024| 409|-5.0|  A|   0W3|Harford County Ai...|39.566837|   -76.2024|   409| -5.0|     A|\n",
      "|10C|  Galt Field Airport| 42.40289| -88.375114| 875|-6.0|  U|   10C|  Galt Field Airport| 42.40289| -88.375114|   875| -6.0|     U|\n",
      "|17G|Port Bucyrus-Craw...|40.781555|  -82.97481|1003|-5.0|  A|   17G|Port Bucyrus-Craw...|40.781555|  -82.97481|  1003| -5.0|     A|\n",
      "|19A|Jackson County Ai...|34.175865|   -83.5616| 951|-4.0|  U|   19A|Jackson County Ai...|34.175865|   -83.5616|   951| -4.0|     U|\n",
      "|1A3|Martin Campbell F...|35.015804|  -84.34683|1789|-4.0|  A|   1A3|Martin Campbell F...|35.015804|  -84.34683|  1789| -4.0|     A|\n",
      "|1B9| Mansfield Municipal|42.000134|  -71.19677| 122|-5.0|  A|   1B9| Mansfield Municipal|42.000134|  -71.19677|   122| -5.0|     A|\n",
      "|1C9|Frazier Lake Airpark|54.013332| -124.76833| 152|-8.0|  A|   1C9|Frazier Lake Airpark|54.013332| -124.76833|   152| -8.0|     A|\n",
      "|1CS|Clow Internationa...|41.695976| -88.129234| 670|-6.0|  U|   1CS|Clow Internationa...|41.695976| -88.129234|   670| -6.0|     U|\n",
      "|1G3|  Kent State Airport| 41.15139|  -81.41511|1134|-4.0|  A|   1G3|  Kent State Airport| 41.15139|  -81.41511|  1134| -4.0|     A|\n",
      "|1OH|     Fortman Airport|40.555325|  -84.38662| 885|-5.0|  U|   1OH|     Fortman Airport|40.555325|  -84.38662|   885| -5.0|     U|\n",
      "+---+--------------------+---------+-----------+----+----+---+------+--------------------+---------+-----------+------+-----+------+\n",
      "only showing top 20 rows\n",
      "\n"
     ]
    }
   ],
   "source": [
    "airports_qa.show()"
   ]
  },
  {
   "cell_type": "code",
   "execution_count": 11,
   "metadata": {
    "datalore": {
     "hide_input_from_viewers": false,
     "hide_output_from_viewers": false,
     "type": "CODE"
    }
   },
   "outputs": [],
   "source": [
    "# Renomeando colunas\n",
    "flights_qa = flights_qa.select(*(F.col(x).alias('fl_' + x ) for x in flights_qa.columns))\n",
    "planes_qa = planes_qa.select(*(F.col(x).alias('pl_' + x ) for x in planes_qa.columns))\n",
    "airports_qa2 = airports_qa.select(*(F.col(x).alias('air2_' + x ) for x in airports_qa.columns))\n",
    "airports_qa = airports_qa.select(*(F.col(x).alias('air_' + x ) for x in airports_qa.columns))"
   ]
  },
  {
   "cell_type": "code",
   "execution_count": 12,
   "metadata": {
    "datalore": {
     "hide_input_from_viewers": false,
     "hide_output_from_viewers": false,
     "type": "CODE"
    }
   },
   "outputs": [
    {
     "name": "stdout",
     "output_type": "stream",
     "text": [
      "+-------+--------+------+-----------+------------+-----------+------------+----------+----------+---------+---------+----------+-----------+-----------+-------+---------+--------------------+-----------------+------------------+-------------------+-------------+------------+-----------------+--------------+--------------+-------------+\n",
      "|fl_year|fl_month|fl_day|fl_dep_time|fl_dep_delay|fl_arr_time|fl_arr_delay|fl_carrier|fl_tailnum|fl_flight|fl_origin|fl_destiny|fl_air_time|fl_distance|fl_hour|fl_minute|fl_qa_year_month_day|fl_qa_hour_minute|fl_qa_dep_arr_time|fl_qa_dep_arr_delay|fl_qa_carrier|fl_qa_flight|fl_qa_origin_dest|fl_qa_air_time|fl_qa_distance|fl_qa_airtime|\n",
      "+-------+--------+------+-----------+------------+-----------+------------+----------+----------+---------+---------+----------+-----------+-----------+-------+---------+--------------------+-----------------+------------------+-------------------+-------------+------------+-----------------+--------------+--------------+-------------+\n",
      "|   2014|      12|     8|        658|          -7|        935|          -5|        VX|    N846VA|     1780|      SEA|       LAX|        132|        954|      6|       58|                null|             null|              null|               null|           VX|        1780|             null|           132|           954|           TL|\n",
      "|   2014|       1|    22|       1040|           5|       1505|           5|        AS|    N559AS|      851|      SEA|       HNL|        360|       2677|     10|       40|                null|             null|              null|               null|           AS|           F|             null|           360|          2677|           TL|\n",
      "|   2014|       3|     9|       1443|          -2|       1652|           2|        VX|    N847VA|      755|      SEA|       SFO|        111|        679|     14|       43|                null|             null|              null|               null|           VX|           F|             null|           111|           679|           TL|\n",
      "|   2014|       4|     9|       1705|          45|       1839|          34|        WN|    N360SW|      344|      PDX|       SJC|         83|        569|     17|        5|                null|             null|              null|               null|           WN|           F|             null|            83|           569|           TR|\n",
      "|   2014|       3|     9|        754|          -1|       1015|           1|        AS|    N612AS|      522|      SEA|       BUR|        127|        937|      7|       54|                null|             null|              null|               null|           AS|           F|             null|           127|           937|           TL|\n",
      "|   2014|       1|    15|       1037|           7|       1352|           2|        WN|    N646SW|       48|      PDX|       DEN|        121|        991|     10|       37|                null|             null|              null|               null|           WN|           F|             null|           121|           991|           TR|\n",
      "|   2014|       7|     2|        847|          42|       1041|          51|        WN|    N422WN|     1520|      PDX|       OAK|         90|        543|      8|       47|                null|             null|              null|               null|           WN|        1520|             null|            90|           543|           TL|\n",
      "|   2014|       5|    12|       1655|          -5|       1842|         -18|        VX|    N361VA|      755|      SEA|       SFO|         98|        679|     16|       55|                null|             null|              null|               null|           VX|           F|             null|            98|           679|           TL|\n",
      "|   2014|       4|    19|       1236|          -4|       1508|          -7|        AS|    N309AS|      490|      SEA|       SAN|        135|       1050|     12|       36|                null|             null|              null|               null|           AS|           F|             null|           135|          1050|           TL|\n",
      "|   2014|      11|    19|       1812|          -3|       2352|          -4|        AS|    N564AS|       26|      SEA|       ORD|        198|       1721|     18|       12|                null|             null|              null|               null|           AS|           F|             null|           198|          1721|           TR|\n",
      "|   2014|      11|     8|       1653|          -2|       1924|          -1|        AS|    N323AS|      448|      SEA|       LAX|        130|        954|     16|       53|                null|             null|              null|               null|           AS|           F|             null|           130|           954|           TL|\n",
      "|   2014|       8|     3|       1120|           0|       1415|           2|        AS|    N305AS|      656|      SEA|       PHX|        154|       1107|     11|       20|                null|             null|              null|               null|           AS|           F|             null|           154|          1107|           TL|\n",
      "|   2014|      10|    30|        811|          21|       1038|          29|        AS|    N433AS|      608|      SEA|       LAS|        127|        867|      8|       11|                null|             null|              null|               null|           AS|           F|             null|           127|           867|           TL|\n",
      "|   2014|      11|    12|       2346|          -4|        217|         -28|        AS|    N765AS|      121|      SEA|       ANC|        183|       1448|     23|       46|                null|             null|              null|               null|           AS|           F|             null|           183|          1448|           TL|\n",
      "|   2014|      10|    31|       1314|          89|       1544|         111|        AS|    N713AS|      306|      SEA|       SFO|        129|        679|     13|       14|                null|             null|              null|               null|           AS|           F|             null|           129|           679|           TL|\n",
      "|   2014|       1|    29|       2009|           3|       2159|           9|        UA|    N27205|     1458|      PDX|       SFO|         90|        550|     20|        9|                null|             null|              null|               null|           UA|        1458|             null|            90|           550|           TL|\n",
      "|   2014|      12|    17|       2015|          50|       2150|          41|        AS|    N626AS|      368|      SEA|       SMF|         76|        605|     20|       15|                null|             null|              null|               null|           AS|           F|             null|            76|           605|           TR|\n",
      "|   2014|       8|    11|       1017|          -3|       1613|          -7|        WN|    N8634A|      827|      SEA|       MDW|        216|       1733|     10|       17|                null|             null|              null|               null|           WN|           F|             null|           216|          1733|           TL|\n",
      "|   2014|       1|    13|       2156|          -9|        607|         -15|        AS|    N597AS|       24|      SEA|       BOS|        290|       2496|     21|       56|                null|             null|              null|               null|           AS|           F|             null|           290|          2496|           TL|\n",
      "|   2014|       6|     5|       1733|         -12|       1945|         -10|        OO|    N215AG|     3488|      PDX|       BUR|        111|        817|     17|       33|                null|             null|              null|               null|           OO|        3488|             null|           111|           817|           TR|\n",
      "+-------+--------+------+-----------+------------+-----------+------------+----------+----------+---------+---------+----------+-----------+-----------+-------+---------+--------------------+-----------------+------------------+-------------------+-------------+------------+-----------------+--------------+--------------+-------------+\n",
      "only showing top 20 rows\n",
      "\n"
     ]
    }
   ],
   "source": [
    "flights_qa.show()"
   ]
  },
  {
   "cell_type": "code",
   "execution_count": 13,
   "metadata": {
    "datalore": {
     "hide_input_from_viewers": false,
     "hide_output_from_viewers": false,
     "type": "CODE"
    }
   },
   "outputs": [],
   "source": [
    "joined_dfs   = spark.getOrCreate().read.parquet(\"parquet_files/newjoin.parquet\")\n",
    "\n",
    "myjoined_dfs = spark.getOrCreate().read.parquet(\"parquet_files/joined_data_new.parquet\")\n",
    "transformation_c_dfs = spark.getOrCreate().read.parquet(\"parquet_files/transformed_join.parquet\")"
   ]
  },
  {
   "cell_type": "code",
   "execution_count": 14,
   "metadata": {
    "datalore": {
     "hide_input_from_viewers": false,
     "hide_output_from_viewers": false,
     "type": "CODE"
    }
   },
   "outputs": [
    {
     "name": "stdout",
     "output_type": "stream",
     "text": [
      "14025\n",
      "11395\n"
     ]
    }
   ],
   "source": [
    "print(joined_dfs.count())\n",
    "print(myjoined_dfs.count())"
   ]
  },
  {
   "attachments": {},
   "cell_type": "markdown",
   "metadata": {
    "datalore": {
     "hide_input_from_viewers": false,
     "hide_output_from_viewers": false,
     "type": "MD"
    }
   },
   "source": [
    "\n",
    "\n",
    "# Perguntas para qualidade\n",
    "\n",
    "## 1."
   ]
  },
  {
   "cell_type": "code",
   "execution_count": 15,
   "metadata": {
    "datalore": {
     "hide_input_from_viewers": false,
     "hide_output_from_viewers": false,
     "type": "CODE"
    }
   },
   "outputs": [],
   "source": [
    "#3 joins com planilha renomeadas em airports_qualidade2\n",
    "qa_challenge_df = flights_qa.join(airports_qa, (flights_qa.fl_origin == airports_qa.air_faa) ,'left')\\\n",
    "                            .join(airports_qa2, (flights_qa.fl_destiny  == airports_qa2.air2_faa),'left')\\\n",
    "                            .join(planes_qa, (flights_qa.fl_tailnum == planes_qa.pl_tailnum),'left')"
   ]
  },
  {
   "cell_type": "code",
   "execution_count": 16,
   "metadata": {
    "datalore": {
     "hide_input_from_viewers": false,
     "hide_output_from_viewers": false,
     "type": "CODE"
    }
   },
   "outputs": [
    {
     "name": "stdout",
     "output_type": "stream",
     "text": [
      "+-------+--------+------+-----------+------------+-----------+------------+----------+----------+---------+---------+----------+-----------+-----------+-------+---------+--------------------+-----------------+------------------+-------------------+-------------+------------+-----------------+--------------+--------------+-------------+-------+-------------------+---------+---------+-------+------+-------+----------+-------------------+----------+----------+----------+---------+----------+--------+--------------------+---------+-----------+--------+-------+--------+-----------+--------------------+-----------+-----------+-----------+----------+-----------+----------+-------+--------------------+---------------+-----------+----------+--------+--------+---------+-------------+----------+----------+------------------+-----------+-------------+-----------+-----------+------------+\n",
      "|fl_year|fl_month|fl_day|fl_dep_time|fl_dep_delay|fl_arr_time|fl_arr_delay|fl_carrier|fl_tailnum|fl_flight|fl_origin|fl_destiny|fl_air_time|fl_distance|fl_hour|fl_minute|fl_qa_year_month_day|fl_qa_hour_minute|fl_qa_dep_arr_time|fl_qa_dep_arr_delay|fl_qa_carrier|fl_qa_flight|fl_qa_origin_dest|fl_qa_air_time|fl_qa_distance|fl_qa_airtime|air_faa|           air_name|  air_lat|  air_lon|air_alt|air_tz|air_dst|air_qa_faa|        air_qa_name|air_qa_lat|air_qa_lon|air_qa_alt|air_qa_tz|air_qa_dst|air2_faa|           air2_name| air2_lat|   air2_lon|air2_alt|air2_tz|air2_dst|air2_qa_faa|        air2_qa_name|air2_qa_lat|air2_qa_lon|air2_qa_alt|air2_qa_tz|air2_qa_dst|pl_tailnum|pl_year|             pl_type|pl_manufacturer|   pl_model|pl_engines|pl_seats|pl_speed|pl_engine|pl_qa_tailnum|pl_qa_year|pl_qa_type|pl_qa_manufacturer|pl_qa_model|pl_qa_engines|pl_qa_seats|pl_qa_speed|pl_qa_engine|\n",
      "+-------+--------+------+-----------+------------+-----------+------------+----------+----------+---------+---------+----------+-----------+-----------+-------+---------+--------------------+-----------------+------------------+-------------------+-------------+------------+-----------------+--------------+--------------+-------------+-------+-------------------+---------+---------+-------+------+-------+----------+-------------------+----------+----------+----------+---------+----------+--------+--------------------+---------+-----------+--------+-------+--------+-----------+--------------------+-----------+-----------+-----------+----------+-----------+----------+-------+--------------------+---------------+-----------+----------+--------+--------+---------+-------------+----------+----------+------------------+-----------+-------------+-----------+-----------+------------+\n",
      "|   2014|      12|     8|        658|          -7|        935|          -5|        VX|    N846VA|     1780|      SEA|       LAX|        132|        954|      6|       58|                null|             null|              null|               null|           VX|        1780|             null|           132|           954|           TL|    SEA|Seattle Tacoma Intl|   47.449|-122.3093|    433|  -8.0|      A|         F|Seattle Tacoma Intl|    47.449| -122.3093|       433|     -8.0|         A|     LAX|    Los Angeles Intl|33.942535| -118.40807|     126|   -8.0|       A|          F|    Los Angeles Intl|  33.942535| -118.40807|        126|      -8.0|          A|    N846VA|   2011|Fixed wing multi ...|         AIRBUS|   A320-214|         2|     182|    null|Turbo-fan|            S|      2011|         M|            AIRBUS|   A320-214|            2|          F|          M|   Turbo-fan|\n",
      "|   2014|       1|    22|       1040|           5|       1505|           5|        AS|    N559AS|      851|      SEA|       HNL|        360|       2677|     10|       40|                null|             null|              null|               null|           AS|           F|             null|           360|          2677|           TL|    SEA|Seattle Tacoma Intl|   47.449|-122.3093|    433|  -8.0|      A|         F|Seattle Tacoma Intl|    47.449| -122.3093|       433|     -8.0|         A|     HNL|       Honolulu Intl|21.318682| -157.92242|      13|  -10.0|       N|          F|       Honolulu Intl|  21.318682| -157.92242|         13|     -10.0|          N|    N559AS|   2006|Fixed wing multi ...|         BOEING|    737-890|         2|     149|    null|Turbo-fan|            S|      2006|         M|            BOEING|    737-890|            2|          F|          M|   Turbo-fan|\n",
      "|   2014|       3|     9|       1443|          -2|       1652|           2|        VX|    N847VA|      755|      SEA|       SFO|        111|        679|     14|       43|                null|             null|              null|               null|           VX|           F|             null|           111|           679|           TL|    SEA|Seattle Tacoma Intl|   47.449|-122.3093|    433|  -8.0|      A|         F|Seattle Tacoma Intl|    47.449| -122.3093|       433|     -8.0|         A|     SFO|  San Francisco Intl|37.618973|-122.374886|      13|   -8.0|       A|          F|  San Francisco Intl|  37.618973|-122.374886|         13|      -8.0|          A|    N847VA|   2011|Fixed wing multi ...|         AIRBUS|   A320-214|         2|     182|    null|Turbo-fan|            S|      2011|         M|            AIRBUS|   A320-214|            2|          F|          M|   Turbo-fan|\n",
      "|   2014|       4|     9|       1705|          45|       1839|          34|        WN|    N360SW|      344|      PDX|       SJC|         83|        569|     17|        5|                null|             null|              null|               null|           WN|           F|             null|            83|           569|           TR|    PDX|      Portland Intl|45.588722|-122.5975|     30|  -8.0|      A|         F|      Portland Intl| 45.588722| -122.5975|        30|     -8.0|         A|     SJC|Norman Y Mineta S...|  37.3626| -121.92902|      62|   -8.0|       A|          F|Norman Y Mineta S...|    37.3626| -121.92902|         62|      -8.0|          A|    N360SW|   1992|Fixed wing multi ...|         BOEING|    737-3H4|         2|     149|    null|Turbo-fan|            S|      1992|         M|            BOEING|    737-3H4|            2|          F|          M|   Turbo-fan|\n",
      "|   2014|       3|     9|        754|          -1|       1015|           1|        AS|    N612AS|      522|      SEA|       BUR|        127|        937|      7|       54|                null|             null|              null|               null|           AS|           F|             null|           127|           937|           TL|    SEA|Seattle Tacoma Intl|   47.449|-122.3093|    433|  -8.0|      A|         F|Seattle Tacoma Intl|    47.449| -122.3093|       433|     -8.0|         A|     BUR|            Bob Hope| 34.20067|-118.358665|     778|   -8.0|       A|          F|            Bob Hope|   34.20067|-118.358665|        778|      -8.0|          A|    N612AS|   1999|Fixed wing multi ...|         BOEING|    737-790|         2|     151|    null|Turbo-jet|            S|      1999|         M|            BOEING|    737-790|            2|          F|          M|   Turbo-jet|\n",
      "|   2014|       1|    15|       1037|           7|       1352|           2|        WN|    N646SW|       48|      PDX|       DEN|        121|        991|     10|       37|                null|             null|              null|               null|           WN|           F|             null|           121|           991|           TR|    PDX|      Portland Intl|45.588722|-122.5975|     30|  -8.0|      A|         F|      Portland Intl| 45.588722| -122.5975|        30|     -8.0|         A|     DEN|         Denver Intl|39.861656| -104.67318|    5431|   -7.0|       A|          F|         Denver Intl|  39.861656| -104.67318|       5431|      -7.0|          A|    N646SW|   1997|Fixed wing multi ...|         BOEING|    737-3H4|         2|     149|    null|Turbo-fan|            S|      1997|         M|            BOEING|    737-3H4|            2|          F|          M|   Turbo-fan|\n",
      "|   2014|       7|     2|        847|          42|       1041|          51|        WN|    N422WN|     1520|      PDX|       OAK|         90|        543|      8|       47|                null|             null|              null|               null|           WN|        1520|             null|            90|           543|           TL|    PDX|      Portland Intl|45.588722|-122.5975|     30|  -8.0|      A|         F|      Portland Intl| 45.588722| -122.5975|        30|     -8.0|         A|     OAK|Metropolitan Oakl...| 37.72128| -122.22072|       9|   -8.0|       A|          F|Metropolitan Oakl...|   37.72128| -122.22072|          9|      -8.0|          A|    N422WN|   2002|Fixed wing multi ...|         BOEING|    737-7H4|         2|     140|    null|Turbo-fan|            S|      2002|         M|            BOEING|    737-7H4|            2|          F|          M|   Turbo-fan|\n",
      "|   2014|       5|    12|       1655|          -5|       1842|         -18|        VX|    N361VA|      755|      SEA|       SFO|         98|        679|     16|       55|                null|             null|              null|               null|           VX|           F|             null|            98|           679|           TL|    SEA|Seattle Tacoma Intl|   47.449|-122.3093|    433|  -8.0|      A|         F|Seattle Tacoma Intl|    47.449| -122.3093|       433|     -8.0|         A|     SFO|  San Francisco Intl|37.618973|-122.374886|      13|   -8.0|       A|          F|  San Francisco Intl|  37.618973|-122.374886|         13|      -8.0|          A|    N361VA|   2013|Fixed wing multi ...|         AIRBUS|   A320-214|         2|     182|    null|Turbo-fan|            S|      2013|         M|            AIRBUS|   A320-214|            2|          F|          M|   Turbo-fan|\n",
      "|   2014|       4|    19|       1236|          -4|       1508|          -7|        AS|    N309AS|      490|      SEA|       SAN|        135|       1050|     12|       36|                null|             null|              null|               null|           AS|           F|             null|           135|          1050|           TL|    SEA|Seattle Tacoma Intl|   47.449|-122.3093|    433|  -8.0|      A|         F|Seattle Tacoma Intl|    47.449| -122.3093|       433|     -8.0|         A|     SAN|      San Diego Intl|32.733555| -117.18967|      17|   -8.0|       A|          F|      San Diego Intl|  32.733555| -117.18967|         17|      -8.0|          A|    N309AS|   2001|Fixed wing multi ...|         BOEING|    737-990|         2|     149|    null|Turbo-jet|            S|      2001|         M|            BOEING|    737-990|            2|          F|          M|   Turbo-jet|\n",
      "|   2014|      11|    19|       1812|          -3|       2352|          -4|        AS|    N564AS|       26|      SEA|       ORD|        198|       1721|     18|       12|                null|             null|              null|               null|           AS|           F|             null|           198|          1721|           TR|    SEA|Seattle Tacoma Intl|   47.449|-122.3093|    433|  -8.0|      A|         F|Seattle Tacoma Intl|    47.449| -122.3093|       433|     -8.0|         A|     ORD|  Chicago Ohare Intl|41.978603|  -87.90484|     668|   -6.0|       A|          F|  Chicago Ohare Intl|  41.978603|  -87.90484|        668|      -6.0|          A|    N564AS|   2006|Fixed wing multi ...|         BOEING|    737-890|         2|     149|    null|Turbo-fan|            S|      2006|         M|            BOEING|    737-890|            2|          F|          M|   Turbo-fan|\n",
      "|   2014|      11|     8|       1653|          -2|       1924|          -1|        AS|    N323AS|      448|      SEA|       LAX|        130|        954|     16|       53|                null|             null|              null|               null|           AS|           F|             null|           130|           954|           TL|    SEA|Seattle Tacoma Intl|   47.449|-122.3093|    433|  -8.0|      A|         F|Seattle Tacoma Intl|    47.449| -122.3093|       433|     -8.0|         A|     LAX|    Los Angeles Intl|33.942535| -118.40807|     126|   -8.0|       A|          F|    Los Angeles Intl|  33.942535| -118.40807|        126|      -8.0|          A|    N323AS|   2004|Fixed wing multi ...|         BOEING|    737-990|         2|     149|    null|Turbo-jet|            S|      2004|         M|            BOEING|    737-990|            2|          F|          M|   Turbo-jet|\n",
      "|   2014|       8|     3|       1120|           0|       1415|           2|        AS|    N305AS|      656|      SEA|       PHX|        154|       1107|     11|       20|                null|             null|              null|               null|           AS|           F|             null|           154|          1107|           TL|    SEA|Seattle Tacoma Intl|   47.449|-122.3093|    433|  -8.0|      A|         F|Seattle Tacoma Intl|    47.449| -122.3093|       433|     -8.0|         A|     PHX|Phoenix Sky Harbo...|33.434277| -112.01158|    1135|   -7.0|       N|          F|Phoenix Sky Harbo...|  33.434277| -112.01158|       1135|      -7.0|          N|    N305AS|   2001|Fixed wing multi ...|         BOEING|    737-990|         2|     149|    null|Turbo-jet|            S|      2001|         M|            BOEING|    737-990|            2|          F|          M|   Turbo-jet|\n",
      "|   2014|      10|    30|        811|          21|       1038|          29|        AS|    N433AS|      608|      SEA|       LAS|        127|        867|      8|       11|                null|             null|              null|               null|           AS|           F|             null|           127|           867|           TL|    SEA|Seattle Tacoma Intl|   47.449|-122.3093|    433|  -8.0|      A|         F|Seattle Tacoma Intl|    47.449| -122.3093|       433|     -8.0|         A|     LAS|      Mc Carran Intl|36.080055| -115.15225|    2141|   -8.0|       A|          F|      Mc Carran Intl|  36.080055| -115.15225|       2141|      -8.0|          A|    N433AS|   2013|Fixed wing multi ...|         BOEING|  737-990ER|         2|     222|    null|Turbo-fan|            S|      2013|         M|            BOEING|  737-990ER|            2|          F|          M|   Turbo-fan|\n",
      "|   2014|      11|    12|       2346|          -4|        217|         -28|        AS|    N765AS|      121|      SEA|       ANC|        183|       1448|     23|       46|                null|             null|              null|               null|           AS|           F|             null|           183|          1448|           TL|    SEA|Seattle Tacoma Intl|   47.449|-122.3093|    433|  -8.0|      A|         F|Seattle Tacoma Intl|    47.449| -122.3093|       433|     -8.0|         A|     ANC|Ted Stevens Ancho...|61.174362| -149.99637|     152|   -9.0|       A|          F|Ted Stevens Ancho...|  61.174362| -149.99637|        152|      -9.0|          A|    N765AS|   1992|Fixed wing multi ...|         BOEING|    737-4Q8|         2|     149|    null|Turbo-fan|            S|      1992|         M|            BOEING|    737-4Q8|            2|          F|          M|   Turbo-fan|\n",
      "|   2014|      10|    31|       1314|          89|       1544|         111|        AS|    N713AS|      306|      SEA|       SFO|        129|        679|     13|       14|                null|             null|              null|               null|           AS|           F|             null|           129|           679|           TL|    SEA|Seattle Tacoma Intl|   47.449|-122.3093|    433|  -8.0|      A|         F|Seattle Tacoma Intl|    47.449| -122.3093|       433|     -8.0|         A|     SFO|  San Francisco Intl|37.618973|-122.374886|      13|   -8.0|       A|          F|  San Francisco Intl|  37.618973|-122.374886|         13|      -8.0|          A|    N713AS|   1999|Fixed wing multi ...|         BOEING|    737-490|         2|     149|    null|Turbo-jet|            S|      1999|         M|            BOEING|    737-490|            2|          F|          M|   Turbo-jet|\n",
      "|   2014|       1|    29|       2009|           3|       2159|           9|        UA|    N27205|     1458|      PDX|       SFO|         90|        550|     20|        9|                null|             null|              null|               null|           UA|        1458|             null|            90|           550|           TL|    PDX|      Portland Intl|45.588722|-122.5975|     30|  -8.0|      A|         F|      Portland Intl| 45.588722| -122.5975|        30|     -8.0|         A|     SFO|  San Francisco Intl|37.618973|-122.374886|      13|   -8.0|       A|          F|  San Francisco Intl|  37.618973|-122.374886|         13|      -8.0|          A|    N27205|   2000|Fixed wing multi ...|         BOEING|    737-824|         2|     149|    null|Turbo-fan|            S|      2000|         M|            BOEING|    737-824|            2|          F|          M|   Turbo-fan|\n",
      "|   2014|      12|    17|       2015|          50|       2150|          41|        AS|    N626AS|      368|      SEA|       SMF|         76|        605|     20|       15|                null|             null|              null|               null|           AS|           F|             null|            76|           605|           TR|    SEA|Seattle Tacoma Intl|   47.449|-122.3093|    433|  -8.0|      A|         F|Seattle Tacoma Intl|    47.449| -122.3093|       433|     -8.0|         A|     SMF|     Sacramento Intl|38.695415|-121.590775|      27|   -8.0|       A|          F|     Sacramento Intl|  38.695415|-121.590775|         27|      -8.0|          A|    N626AS|   2001|Fixed wing multi ...|         BOEING|    737-790|         2|     151|    null|Turbo-jet|            S|      2001|         M|            BOEING|    737-790|            2|          F|          M|   Turbo-jet|\n",
      "|   2014|       8|    11|       1017|          -3|       1613|          -7|        WN|    N8634A|      827|      SEA|       MDW|        216|       1733|     10|       17|                null|             null|              null|               null|           WN|           F|             null|           216|          1733|           TL|    SEA|Seattle Tacoma Intl|   47.449|-122.3093|    433|  -8.0|      A|         F|Seattle Tacoma Intl|    47.449| -122.3093|       433|     -8.0|         A|     MDW| Chicago Midway Intl|41.785973|  -87.75242|     620|   -6.0|       A|          F| Chicago Midway Intl|  41.785973|  -87.75242|        620|      -6.0|          A|    N8634A|   2014|Fixed wing multi ...|         BOEING|    737-8H4|         2|     140|    null|Turbo-fan|            S|      2014|         M|            BOEING|    737-8H4|            2|          F|          M|   Turbo-fan|\n",
      "|   2014|       1|    13|       2156|          -9|        607|         -15|        AS|    N597AS|       24|      SEA|       BOS|        290|       2496|     21|       56|                null|             null|              null|               null|           AS|           F|             null|           290|          2496|           TL|    SEA|Seattle Tacoma Intl|   47.449|-122.3093|    433|  -8.0|      A|         F|Seattle Tacoma Intl|    47.449| -122.3093|       433|     -8.0|         A|     BOS|General Edward La...|42.364346|  -71.00518|      19|   -5.0|       A|          F|General Edward La...|  42.364346|  -71.00518|         19|      -5.0|          A|    N597AS|   2008|Fixed wing multi ...|         BOEING|    737-890|         2|     149|    null|Turbo-fan|            S|      2008|         M|            BOEING|    737-890|            2|          F|          M|   Turbo-fan|\n",
      "|   2014|       6|     5|       1733|         -12|       1945|         -10|        OO|    N215AG|     3488|      PDX|       BUR|        111|        817|     17|       33|                null|             null|              null|               null|           OO|        3488|             null|           111|           817|           TR|    PDX|      Portland Intl|45.588722|-122.5975|     30|  -8.0|      A|         F|      Portland Intl| 45.588722| -122.5975|        30|     -8.0|         A|     BUR|            Bob Hope| 34.20067|-118.358665|     778|   -8.0|       A|          F|            Bob Hope|   34.20067|-118.358665|        778|      -8.0|          A|    N215AG|   2001|Fixed wing multi ...| BOMBARDIER INC|CL-600-2C10|         2|      80|    null|Turbo-fan|            S|      2001|         M|    BOMBARDIER INC|CL-600-2C10|            2|          F|          M|   Turbo-fan|\n",
      "+-------+--------+------+-----------+------------+-----------+------------+----------+----------+---------+---------+----------+-----------+-----------+-------+---------+--------------------+-----------------+------------------+-------------------+-------------+------------+-----------------+--------------+--------------+-------------+-------+-------------------+---------+---------+-------+------+-------+----------+-------------------+----------+----------+----------+---------+----------+--------+--------------------+---------+-----------+--------+-------+--------+-----------+--------------------+-----------+-----------+-----------+----------+-----------+----------+-------+--------------------+---------------+-----------+----------+--------+--------+---------+-------------+----------+----------+------------------+-----------+-------------+-----------+-----------+------------+\n",
      "only showing top 20 rows\n",
      "\n"
     ]
    }
   ],
   "source": [
    "qa_challenge_df.show()"
   ]
  },
  {
   "cell_type": "code",
   "execution_count": 17,
   "metadata": {
    "datalore": {
     "hide_input_from_viewers": false,
     "hide_output_from_viewers": false,
     "type": "CODE"
    }
   },
   "outputs": [],
   "source": [
    "#criando no um novo DF \n",
    "all_cols_join = spark.getOrCreate().read.parquet(\"parquet_files/all_join.parquet\")"
   ]
  },
  {
   "cell_type": "code",
   "execution_count": 18,
   "metadata": {
    "datalore": {
     "hide_input_from_viewers": false,
     "hide_output_from_viewers": false,
     "type": "CODE"
    }
   },
   "outputs": [
    {
     "name": "stdout",
     "output_type": "stream",
     "text": [
      "+----+----+----+------+---+----+---+------+-------+------+------+------+-----+------+\n",
      "| faa|name| lat|   lon|alt|  tz|dst|qa_faa|qa_name|qa_lat|qa_lon|qa_alt|qa_tz|qa_dst|\n",
      "+----+----+----+------+---+----+---+------+-------+------+------+------+-----+------+\n",
      "|2014|  12| 8.0| 658.0| -7| 935| -5|     F|   null|     I|  null|     I|    A|     C|\n",
      "|2014|   1|22.0|1040.0|  5|1505|  5|     F|   null|     I|  null|     A|    A|     C|\n",
      "|2014|   3| 9.0|1443.0| -2|1652|  2|     F|   null|     I|  null|     I|    A|     C|\n",
      "|2014|   4| 9.0|1705.0| 45|1839| 34|     F|   null|     I|  null|     A|    A|     C|\n",
      "|2014|   3| 9.0| 754.0| -1|1015|  1|     F|   null|     I|  null|     I|    A|     C|\n",
      "|2014|   1|15.0|1037.0|  7|1352|  2|     F|   null|     I|  null|     A|    A|     C|\n",
      "|2014|   7| 2.0| 847.0| 42|1041| 51|     F|   null|     I|  null|     A|    A|     C|\n",
      "|2014|   5|12.0|1655.0| -5|1842|-18|     F|   null|     I|  null|     I|    A|     C|\n",
      "|2014|   4|19.0|1236.0| -4|1508| -7|     F|   null|     I|  null|     I|    A|     C|\n",
      "|2014|  11|19.0|1812.0| -3|2352| -4|     F|   null|     I|  null|     I|    A|     C|\n",
      "|2014|  11| 8.0|1653.0| -2|1924| -1|     F|   null|     I|  null|     I|    A|     C|\n",
      "|2014|   8| 3.0|1120.0|  0|1415|  2|     F|   null|     I|  null|     A|    A|     C|\n",
      "|2014|  10|30.0| 811.0| 21|1038| 29|     F|   null|     I|  null|     A|    A|     C|\n",
      "|2014|  11|12.0|2346.0| -4| 217|-28|     F|   null|     I|  null|     I|    A|     C|\n",
      "|2014|  10|31.0|1314.0| 89|1544|111|     F|   null|     I|  null|     A|    A|     C|\n",
      "|2014|   1|29.0|2009.0|  3|2159|  9|     F|   null|     I|  null|     A|    A|     C|\n",
      "|2014|  12|17.0|2015.0| 50|2150| 41|     F|   null|     I|  null|     A|    A|     C|\n",
      "|2014|   8|11.0|1017.0| -3|1613| -7|     F|   null|     I|  null|     I|    A|     C|\n",
      "|2014|   1|13.0|2156.0| -9| 607|-15|     F|   null|     I|  null|     I|    A|     C|\n",
      "|2014|   6| 5.0|1733.0|-12|1945|-10|     F|   null|     I|  null|     I|    A|     C|\n",
      "+----+----+----+------+---+----+---+------+-------+------+------+------+-----+------+\n",
      "only showing top 20 rows\n",
      "\n"
     ]
    }
   ],
   "source": [
    "#joined_dfs   = spark.getOrCreate().read.parquet(\"parquet_files/newjoin.parquet\") lá em cima\n",
    "joined_dfs.show()\n",
    "joined_dfs.createOrReplaceTempView('reports_view')"
   ]
  },
  {
   "attachments": {},
   "cell_type": "markdown",
   "metadata": {
    "datalore": {
     "hide_input_from_viewers": false,
     "hide_output_from_viewers": false,
     "type": "MD"
    }
   },
   "source": [
    "## 2."
   ]
  },
  {
   "cell_type": "code",
   "execution_count": 19,
   "metadata": {
    "datalore": {
     "hide_input_from_viewers": false,
     "hide_output_from_viewers": false,
     "type": "CODE"
    }
   },
   "outputs": [
    {
     "name": "stdout",
     "output_type": "stream",
     "text": [
      "root\n",
      " |-- faa: string (nullable = true)\n",
      " |-- name: string (nullable = true)\n",
      " |-- lat: float (nullable = true)\n",
      " |-- lon: float (nullable = true)\n",
      " |-- alt: integer (nullable = true)\n",
      " |-- tz: integer (nullable = true)\n",
      " |-- dst: string (nullable = true)\n",
      " |-- qa_faa: string (nullable = true)\n",
      " |-- qa_name: string (nullable = true)\n",
      " |-- qa_lat: string (nullable = true)\n",
      " |-- qa_lon: string (nullable = true)\n",
      " |-- qa_alt: string (nullable = true)\n",
      " |-- qa_tz: string (nullable = true)\n",
      " |-- qa_dst: string (nullable = true)\n",
      "\n"
     ]
    }
   ],
   "source": [
    "#from collections import Counter\n",
    "#import json\n",
    "\n",
    "joined_dfs.printSchema( )"
   ]
  },
  {
   "cell_type": "code",
   "execution_count": 73,
   "metadata": {
    "datalore": {
     "hide_input_from_viewers": false,
     "hide_output_from_viewers": false,
     "type": "CODE"
    }
   },
   "outputs": [
    {
     "name": "stdout",
     "output_type": "stream",
     "text": [
      "M\n",
      "+-------+--------+------+-----------+------------+-----------+------------+----------+----------+---------+---------+----------+-----------+-----------+-------+---------+--------------------+-----------------+------------------+-------------------+-------------+------------+-----------------+--------------+--------------+-------------+-------+--------+-------+-------+-------+------+-------+----------+-----------+----------+----------+----------+---------+----------+--------+---------+--------+--------+--------+-------+--------+-----------+------------+-----------+-----------+-----------+----------+-----------+----------+-------+-------+---------------+--------+----------+--------+--------+---------+-------------+----------+----------+------------------+-----------+-------------+-----------+-----------+------------+\n",
      "|fl_year|fl_month|fl_day|fl_dep_time|fl_dep_delay|fl_arr_time|fl_arr_delay|fl_carrier|fl_tailnum|fl_flight|fl_origin|fl_destiny|fl_air_time|fl_distance|fl_hour|fl_minute|fl_qa_year_month_day|fl_qa_hour_minute|fl_qa_dep_arr_time|fl_qa_dep_arr_delay|fl_qa_carrier|fl_qa_flight|fl_qa_origin_dest|fl_qa_air_time|fl_qa_distance|fl_qa_airtime|air_faa|air_name|air_lat|air_lon|air_alt|air_tz|air_dst|air_qa_faa|air_qa_name|air_qa_lat|air_qa_lon|air_qa_alt|air_qa_tz|air_qa_dst|air2_faa|air2_name|air2_lat|air2_lon|air2_alt|air2_tz|air2_dst|air2_qa_faa|air2_qa_name|air2_qa_lat|air2_qa_lon|air2_qa_alt|air2_qa_tz|air2_qa_dst|pl_tailnum|pl_year|pl_type|pl_manufacturer|pl_model|pl_engines|pl_seats|pl_speed|pl_engine|pl_qa_tailnum|pl_qa_year|pl_qa_type|pl_qa_manufacturer|pl_qa_model|pl_qa_engines|pl_qa_seats|pl_qa_speed|pl_qa_engine|\n",
      "+-------+--------+------+-----------+------------+-----------+------------+----------+----------+---------+---------+----------+-----------+-----------+-------+---------+--------------------+-----------------+------------------+-------------------+-------------+------------+-----------------+--------------+--------------+-------------+-------+--------+-------+-------+-------+------+-------+----------+-----------+----------+----------+----------+---------+----------+--------+---------+--------+--------+--------+-------+--------+-----------+------------+-----------+-----------+-----------+----------+-----------+----------+-------+-------+---------------+--------+----------+--------+--------+---------+-------------+----------+----------+------------------+-----------+-------------+-----------+-----------+------------+\n",
      "|      0|       0|     0|          0|           0|          0|           0|         0|         0|        0|        0|         0|          0|          0|      0|        0|                   0|                0|                 0|                  0|            0|           0|                0|            75|             0|           75|      0|       0|      0|      0|      0|     0|      0|         0|          0|         0|         0|         0|        0|         0|       0|        0|       0|       0|       0|      0|       0|          0|           0|          0|          0|          0|         0|          0|         0|      0|      0|              0|       0|         0|       0|       0|        0|            0|        94|      9444|                 0|          1|            0|          0|       9443|           0|\n",
      "+-------+--------+------+-----------+------------+-----------+------------+----------+----------+---------+---------+----------+-----------+-----------+-------+---------+--------------------+-----------------+------------------+-------------------+-------------+------------+-----------------+--------------+--------------+-------------+-------+--------+-------+-------+-------+------+-------+----------+-----------+----------+----------+----------+---------+----------+--------+---------+--------+--------+--------+-------+--------+-----------+------------+-----------+-----------+-----------+----------+-----------+----------+-------+-------+---------------+--------+----------+--------+--------+---------+-------------+----------+----------+------------------+-----------+-------------+-----------+-----------+------------+\n",
      "\n",
      "F\n",
      "+-------+--------+------+-----------+------------+-----------+------------+----------+----------+---------+---------+----------+-----------+-----------+-------+---------+--------------------+-----------------+------------------+-------------------+-------------+------------+-----------------+--------------+--------------+-------------+-------+--------+-------+-------+-------+------+-------+----------+-----------+----------+----------+----------+---------+----------+--------+---------+--------+--------+--------+-------+--------+-----------+------------+-----------+-----------+-----------+----------+-----------+----------+-------+-------+---------------+--------+----------+--------+--------+---------+-------------+----------+----------+------------------+-----------+-------------+-----------+-----------+------------+\n",
      "|fl_year|fl_month|fl_day|fl_dep_time|fl_dep_delay|fl_arr_time|fl_arr_delay|fl_carrier|fl_tailnum|fl_flight|fl_origin|fl_destiny|fl_air_time|fl_distance|fl_hour|fl_minute|fl_qa_year_month_day|fl_qa_hour_minute|fl_qa_dep_arr_time|fl_qa_dep_arr_delay|fl_qa_carrier|fl_qa_flight|fl_qa_origin_dest|fl_qa_air_time|fl_qa_distance|fl_qa_airtime|air_faa|air_name|air_lat|air_lon|air_alt|air_tz|air_dst|air_qa_faa|air_qa_name|air_qa_lat|air_qa_lon|air_qa_alt|air_qa_tz|air_qa_dst|air2_faa|air2_name|air2_lat|air2_lon|air2_alt|air2_tz|air2_dst|air2_qa_faa|air2_qa_name|air2_qa_lat|air2_qa_lon|air2_qa_alt|air2_qa_tz|air2_qa_dst|pl_tailnum|pl_year|pl_type|pl_manufacturer|pl_model|pl_engines|pl_seats|pl_speed|pl_engine|pl_qa_tailnum|pl_qa_year|pl_qa_type|pl_qa_manufacturer|pl_qa_model|pl_qa_engines|pl_qa_seats|pl_qa_speed|pl_qa_engine|\n",
      "+-------+--------+------+-----------+------------+-----------+------------+----------+----------+---------+---------+----------+-----------+-----------+-------+---------+--------------------+-----------------+------------------+-------------------+-------------+------------+-----------------+--------------+--------------+-------------+-------+--------+-------+-------+-------+------+-------+----------+-----------+----------+----------+----------+---------+----------+--------+---------+--------+--------+--------+-------+--------+-----------+------------+-----------+-----------+-----------+----------+-----------+----------+-------+-------+---------------+--------+----------+--------+--------+---------+-------------+----------+----------+------------------+-----------+-------------+-----------+-----------+------------+\n",
      "|      0|       0|     0|          0|           0|          0|           0|         0|         0|        0|        0|         0|          0|          0|      0|        0|                   0|                0|                 0|                  0|            0|        6158|                0|             0|             0|            0|      0|       0|      0|      0|      0|     0|      0|     10000|          0|         0|         0|         0|        0|         0|       0|        0|       0|       0|       0|      0|       0|      10000|           0|          0|          0|          0|         0|          0|         0|      0|      0|              0|       0|         0|       0|       0|        0|            0|         0|         0|                 0|         64|            0|       9448|          5|           0|\n",
      "+-------+--------+------+-----------+------------+-----------+------------+----------+----------+---------+---------+----------+-----------+-----------+-------+---------+--------------------+-----------------+------------------+-------------------+-------------+------------+-----------------+--------------+--------------+-------------+-------+--------+-------+-------+-------+------+-------+----------+-----------+----------+----------+----------+---------+----------+--------+---------+--------+--------+--------+-------+--------+-----------+------------+-----------+-----------+-----------+----------+-----------+----------+-------+-------+---------------+--------+----------+--------+--------+---------+-------------+----------+----------+------------------+-----------+-------------+-----------+-----------+------------+\n",
      "\n",
      "I\n",
      "+-------+--------+------+-----------+------------+-----------+------------+----------+----------+---------+---------+----------+-----------+-----------+-------+---------+--------------------+-----------------+------------------+-------------------+-------------+------------+-----------------+--------------+--------------+-------------+-------+--------+-------+-------+-------+------+-------+----------+-----------+----------+----------+----------+---------+----------+--------+---------+--------+--------+--------+-------+--------+-----------+------------+-----------+-----------+-----------+----------+-----------+----------+-------+-------+---------------+--------+----------+--------+--------+---------+-------------+----------+----------+------------------+-----------+-------------+-----------+-----------+------------+\n",
      "|fl_year|fl_month|fl_day|fl_dep_time|fl_dep_delay|fl_arr_time|fl_arr_delay|fl_carrier|fl_tailnum|fl_flight|fl_origin|fl_destiny|fl_air_time|fl_distance|fl_hour|fl_minute|fl_qa_year_month_day|fl_qa_hour_minute|fl_qa_dep_arr_time|fl_qa_dep_arr_delay|fl_qa_carrier|fl_qa_flight|fl_qa_origin_dest|fl_qa_air_time|fl_qa_distance|fl_qa_airtime|air_faa|air_name|air_lat|air_lon|air_alt|air_tz|air_dst|air_qa_faa|air_qa_name|air_qa_lat|air_qa_lon|air_qa_alt|air_qa_tz|air_qa_dst|air2_faa|air2_name|air2_lat|air2_lon|air2_alt|air2_tz|air2_dst|air2_qa_faa|air2_qa_name|air2_qa_lat|air2_qa_lon|air2_qa_alt|air2_qa_tz|air2_qa_dst|pl_tailnum|pl_year|pl_type|pl_manufacturer|pl_model|pl_engines|pl_seats|pl_speed|pl_engine|pl_qa_tailnum|pl_qa_year|pl_qa_type|pl_qa_manufacturer|pl_qa_model|pl_qa_engines|pl_qa_seats|pl_qa_speed|pl_qa_engine|\n",
      "+-------+--------+------+-----------+------------+-----------+------------+----------+----------+---------+---------+----------+-----------+-----------+-------+---------+--------------------+-----------------+------------------+-------------------+-------------+------------+-----------------+--------------+--------------+-------------+-------+--------+-------+-------+-------+------+-------+----------+-----------+----------+----------+----------+---------+----------+--------+---------+--------+--------+--------+-------+--------+-----------+------------+-----------+-----------+-----------+----------+-----------+----------+-------+-------+---------------+--------+----------+--------+--------+---------+-------------+----------+----------+------------------+-----------+-------------+-----------+-----------+------------+\n",
      "|      0|       0|     0|          0|           0|          0|           0|         0|         0|        0|        0|         0|          0|          0|      0|        0|                   0|                0|                 0|                  0|            0|           0|                0|             0|             0|            0|      0|       0|      0|      0|      0|     0|      0|         0|          0|         0|         0|         0|        0|         0|       0|        0|       0|       0|       0|      0|       0|          0|           0|          0|          0|          0|         0|          0|         0|      0|      0|              0|       0|         0|       0|       0|        0|            0|         8|         0|                 0|          0|            0|          0|          0|           0|\n",
      "+-------+--------+------+-----------+------------+-----------+------------+----------+----------+---------+---------+----------+-----------+-----------+-------+---------+--------------------+-----------------+------------------+-------------------+-------------+------------+-----------------+--------------+--------------+-------------+-------+--------+-------+-------+-------+------+-------+----------+-----------+----------+----------+----------+---------+----------+--------+---------+--------+--------+--------+-------+--------+-----------+------------+-----------+-----------+-----------+----------+-----------+----------+-------+-------+---------------+--------+----------+--------+--------+---------+-------------+----------+----------+------------------+-----------+-------------+-----------+-----------+------------+\n",
      "\n",
      "S\n",
      "+-------+--------+------+-----------+------------+-----------+------------+----------+----------+---------+---------+----------+-----------+-----------+-------+---------+--------------------+-----------------+------------------+-------------------+-------------+------------+-----------------+--------------+--------------+-------------+-------+--------+-------+-------+-------+------+-------+----------+-----------+----------+----------+----------+---------+----------+--------+---------+--------+--------+--------+-------+--------+-----------+------------+-----------+-----------+-----------+----------+-----------+----------+-------+-------+---------------+--------+----------+--------+--------+---------+-------------+----------+----------+------------------+-----------+-------------+-----------+-----------+------------+\n",
      "|fl_year|fl_month|fl_day|fl_dep_time|fl_dep_delay|fl_arr_time|fl_arr_delay|fl_carrier|fl_tailnum|fl_flight|fl_origin|fl_destiny|fl_air_time|fl_distance|fl_hour|fl_minute|fl_qa_year_month_day|fl_qa_hour_minute|fl_qa_dep_arr_time|fl_qa_dep_arr_delay|fl_qa_carrier|fl_qa_flight|fl_qa_origin_dest|fl_qa_air_time|fl_qa_distance|fl_qa_airtime|air_faa|air_name|air_lat|air_lon|air_alt|air_tz|air_dst|air_qa_faa|air_qa_name|air_qa_lat|air_qa_lon|air_qa_alt|air_qa_tz|air_qa_dst|air2_faa|air2_name|air2_lat|air2_lon|air2_alt|air2_tz|air2_dst|air2_qa_faa|air2_qa_name|air2_qa_lat|air2_qa_lon|air2_qa_alt|air2_qa_tz|air2_qa_dst|pl_tailnum|pl_year|pl_type|pl_manufacturer|pl_model|pl_engines|pl_seats|pl_speed|pl_engine|pl_qa_tailnum|pl_qa_year|pl_qa_type|pl_qa_manufacturer|pl_qa_model|pl_qa_engines|pl_qa_seats|pl_qa_speed|pl_qa_engine|\n",
      "+-------+--------+------+-----------+------------+-----------+------------+----------+----------+---------+---------+----------+-----------+-----------+-------+---------+--------------------+-----------------+------------------+-------------------+-------------+------------+-----------------+--------------+--------------+-------------+-------+--------+-------+-------+-------+------+-------+----------+-----------+----------+----------+----------+---------+----------+--------+---------+--------+--------+--------+-------+--------+-----------+------------+-----------+-----------+-----------+----------+-----------+----------+-------+-------+---------------+--------+----------+--------+--------+---------+-------------+----------+----------+------------------+-----------+-------------+-----------+-----------+------------+\n",
      "|      0|       0|     0|          0|           0|          0|           0|         0|         0|        0|        0|         0|          0|          0|      0|        0|                   0|                0|                 0|                  0|            0|           0|                0|             0|             0|            0|      0|       0|      0|      0|      0|     0|      0|         0|          0|         0|         0|         0|        0|         0|       0|        0|       0|       0|       0|      0|       0|          0|           0|          0|          0|          0|         0|          0|         0|      0|      0|              0|       0|         0|       0|       0|        0|         9404|         0|         0|                 0|          0|            0|          0|          0|           0|\n",
      "+-------+--------+------+-----------+------------+-----------+------------+----------+----------+---------+---------+----------+-----------+-----------+-------+---------+--------------------+-----------------+------------------+-------------------+-------------+------------+-----------------+--------------+--------------+-------------+-------+--------+-------+-------+-------+------+-------+----------+-----------+----------+----------+----------+---------+----------+--------+---------+--------+--------+--------+-------+--------+-----------+------------+-----------+-----------+-----------+----------+-----------+----------+-------+-------+---------------+--------+----------+--------+--------+---------+-------------+----------+----------+------------------+-----------+-------------+-----------+-----------+------------+\n",
      "\n",
      "T\n",
      "+-------+--------+------+-----------+------------+-----------+------------+----------+----------+---------+---------+----------+-----------+-----------+-------+---------+--------------------+-----------------+------------------+-------------------+-------------+------------+-----------------+--------------+--------------+-------------+-------+--------+-------+-------+-------+------+-------+----------+-----------+----------+----------+----------+---------+----------+--------+---------+--------+--------+--------+-------+--------+-----------+------------+-----------+-----------+-----------+----------+-----------+----------+-------+-------+---------------+--------+----------+--------+--------+---------+-------------+----------+----------+------------------+-----------+-------------+-----------+-----------+------------+\n",
      "|fl_year|fl_month|fl_day|fl_dep_time|fl_dep_delay|fl_arr_time|fl_arr_delay|fl_carrier|fl_tailnum|fl_flight|fl_origin|fl_destiny|fl_air_time|fl_distance|fl_hour|fl_minute|fl_qa_year_month_day|fl_qa_hour_minute|fl_qa_dep_arr_time|fl_qa_dep_arr_delay|fl_qa_carrier|fl_qa_flight|fl_qa_origin_dest|fl_qa_air_time|fl_qa_distance|fl_qa_airtime|air_faa|air_name|air_lat|air_lon|air_alt|air_tz|air_dst|air_qa_faa|air_qa_name|air_qa_lat|air_qa_lon|air_qa_alt|air_qa_tz|air_qa_dst|air2_faa|air2_name|air2_lat|air2_lon|air2_alt|air2_tz|air2_dst|air2_qa_faa|air2_qa_name|air2_qa_lat|air2_qa_lon|air2_qa_alt|air2_qa_tz|air2_qa_dst|pl_tailnum|pl_year|pl_type|pl_manufacturer|pl_model|pl_engines|pl_seats|pl_speed|pl_engine|pl_qa_tailnum|pl_qa_year|pl_qa_type|pl_qa_manufacturer|pl_qa_model|pl_qa_engines|pl_qa_seats|pl_qa_speed|pl_qa_engine|\n",
      "+-------+--------+------+-----------+------------+-----------+------------+----------+----------+---------+---------+----------+-----------+-----------+-------+---------+--------------------+-----------------+------------------+-------------------+-------------+------------+-----------------+--------------+--------------+-------------+-------+--------+-------+-------+-------+------+-------+----------+-----------+----------+----------+----------+---------+----------+--------+---------+--------+--------+--------+-------+--------+-----------+------------+-----------+-----------+-----------+----------+-----------+----------+-------+-------+---------------+--------+----------+--------+--------+---------+-------------+----------+----------+------------------+-----------+-------------+-----------+-----------+------------+\n",
      "|      0|       0|     0|          0|           0|          0|           0|         0|         0|        0|        0|         0|          0|          0|      0|        0|                   0|                0|                 0|                  0|            0|           0|                0|             0|             0|            0|      0|       0|      0|      0|      0|     0|      0|         0|          0|         0|         0|         0|        0|         0|       0|        0|       0|       0|       0|      0|       0|          0|           0|          0|          0|          0|         0|          0|         0|      0|      0|              0|       0|         0|       0|       0|        0|            0|         0|         0|                 0|          0|            0|          0|          0|           0|\n",
      "+-------+--------+------+-----------+------------+-----------+------------+----------+----------+---------+---------+----------+-----------+-----------+-------+---------+--------------------+-----------------+------------------+-------------------+-------------+------------+-----------------+--------------+--------------+-------------+-------+--------+-------+-------+-------+------+-------+----------+-----------+----------+----------+----------+---------+----------+--------+---------+--------+--------+--------+-------+--------+-----------+------------+-----------+-----------+-----------+----------+-----------+----------+-------+-------+---------------+--------+----------+--------+--------+---------+-------------+----------+----------+------------------+-----------+-------------+-----------+-----------+------------+\n",
      "\n"
     ]
    }
   ],
   "source": [
    "#transformation_c_dfs = spark.getOrCreate().read.parquet(\"parquet_files/transformed_join.parquet\") lá em cima\n",
    "for i in ['M', 'F', 'I', 'S', 'T']:\n",
    "    print(i)\n",
    "    qa_challenge_df.select([F.count(F.when(F.col(c) ==i, 1)).alias(c) \n",
    "    for c in \n",
    "    qa_challenge_df.columns]).show()"
   ]
  },
  {
   "attachments": {},
   "cell_type": "markdown",
   "metadata": {
    "datalore": {
     "hide_input_from_viewers": false,
     "hide_output_from_viewers": false,
     "type": "MD"
    }
   },
   "source": [
    "## 3."
   ]
  },
  {
   "cell_type": "code",
   "execution_count": 74,
   "metadata": {
    "datalore": {
     "hide_input_from_viewers": false,
     "hide_output_from_viewers": false,
     "type": "CODE"
    }
   },
   "outputs": [
    {
     "name": "stdout",
     "output_type": "stream",
     "text": [
      "  tem maior aparições:  9444\n"
     ]
    }
   ],
   "source": [
    "i, most_M = float('-inf'), '' #most_M = dados faltantes\n",
    "results = []\n",
    "\n",
    "for c in qa_challenge_df.columns:\n",
    "    if 'qa' in c:\n",
    "        results.append(qa_challenge_df.filter(~check_empty_column(c) & \n",
    "        (F.col(c) =='M')).groupBy(F.substring(c, 1, 1)\n",
    "        .alias(c)).count().toPandas())\n",
    "\n",
    "for _row in results:\n",
    "    c = _row.columns[0]\n",
    "    if _row.values.size:\n",
    "        v = _row.values[0]\n",
    "        if v[1] > i:\n",
    "            i = v[1]\n",
    "            most_F = c\n",
    "\n",
    "print(most_M, ' tem maior aparições: ' ,i)"
   ]
  },
  {
   "attachments": {},
   "cell_type": "markdown",
   "metadata": {
    "datalore": {
     "hide_input_from_viewers": false,
     "hide_output_from_viewers": false,
     "type": "MD"
    }
   },
   "source": [
    "\n",
    "## 4."
   ]
  },
  {
   "cell_type": "code",
   "execution_count": 22,
   "metadata": {
    "datalore": {
     "hide_input_from_viewers": false,
     "hide_output_from_viewers": false,
     "type": "CODE"
    }
   },
   "outputs": [
    {
     "name": "stdout",
     "output_type": "stream",
     "text": [
      "air_qa_faa  tem o maior valor:  10000\n"
     ]
    }
   ],
   "source": [
    "i, most_F = float('-inf'), ''\n",
    "results = []\n",
    "for c in qa_challenge_df.columns:\n",
    "    if 'qa' in c:\n",
    "        results.append(qa_challenge_df.filter((F.col(c)!='') & \n",
    "        (F.col(c) =='F')).groupBy(F.substring(c, 1, 1).alias(c)).count().toPandas())\n",
    "\n",
    "for _row in results:\n",
    "    c = _row.columns[0]\n",
    "    if _row.values.size:\n",
    "        v = _row.values[0]\n",
    "        if v[1] > i:\n",
    "            i = v[1]\n",
    "            most_F = c\n",
    "\n",
    "print(most_F, ' tem o maior valor: ' ,i)"
   ]
  },
  {
   "attachments": {},
   "cell_type": "markdown",
   "metadata": {
    "datalore": {
     "hide_input_from_viewers": false,
     "hide_output_from_viewers": false,
     "type": "MD"
    }
   },
   "source": [
    "\n",
    "## 5."
   ]
  },
  {
   "cell_type": "code",
   "execution_count": 23,
   "metadata": {
    "datalore": {
     "hide_input_from_viewers": false,
     "hide_output_from_viewers": false,
     "type": "CODE"
    }
   },
   "outputs": [],
   "source": [
    "results = []\n",
    "# joins com planilha renomeadas em airports_qualidade2\n",
    "# 5. Qual variável apresenta maior número de formatos errados?\n",
    "for c in qa_challenge_df.columns:\n",
    "    if 'qa' in c:\n",
    "        results.append(qa_challenge_df.filter((F.col(c)!='') & \n",
    "        (F.col(c) =='I')).groupBy(F.substring(c, 1, 1).alias(c)).count().toPandas())"
   ]
  },
  {
   "cell_type": "code",
   "execution_count": 24,
   "metadata": {
    "datalore": {
     "hide_input_from_viewers": false,
     "hide_output_from_viewers": false,
     "type": "CODE"
    }
   },
   "outputs": [
    {
     "name": "stdout",
     "output_type": "stream",
     "text": [
      "  tem  8 aparições fora do intervalo\n"
     ]
    }
   ],
   "source": [
    "i, most_I = float('-inf'), '' \n",
    "for _row in results:\n",
    "    c = _row.columns[0]\n",
    "    if _row.values.size:\n",
    "        v = _row.values[0]\n",
    "        if v[1] > i:\n",
    "            i = v[1]\n",
    "            most_F = c\n",
    "\n",
    "print(most_I, ' tem ' ,i , 'aparições fora do intervalo')"
   ]
  },
  {
   "attachments": {},
   "cell_type": "markdown",
   "metadata": {
    "datalore": {
     "hide_input_from_viewers": false,
     "hide_output_from_viewers": false,
     "type": "MD"
    }
   },
   "source": [
    "\n",
    "# Perguntas para negócio\n",
    "\n",
    "## 1."
   ]
  },
  {
   "cell_type": "code",
   "execution_count": 25,
   "metadata": {
    "datalore": {
     "hide_input_from_viewers": false,
     "hide_output_from_viewers": false,
     "type": "CODE"
    }
   },
   "outputs": [],
   "source": [
    "# Lendo arquivo parquet\n",
    "\n",
    "flights_transform = (spark.getOrCreate().read\n",
    "                          .format(\"parquet\")\n",
    "                          .option(\"header\",\"True\")\n",
    "                          .load(\"./parquet_files/transformation_proc/flights_proc.parquet\"))\n",
    "\n",
    "\n",
    "# Lendo arquivo parquet\n",
    "planes_transform = (spark.getOrCreate().read\n",
    "                         .format(\"parquet\")\n",
    "                         .option(\"header\",\"True\")\n",
    "                         .load(\"./parquet_files/transformation_proc/planes_proc.parquet\"))\n",
    "\n",
    "# Lendo arquivo parquet\n",
    "airports_transform = (spark.getOrCreate().read\n",
    "                           .format(\"parquet\")\n",
    "                           .option(\"header\",\"True\")\n",
    "                           .load(\"./parquet_files/transformation_proc/airports_proc.parquet\"))"
   ]
  },
  {
   "cell_type": "code",
   "execution_count": 26,
   "metadata": {
    "datalore": {
     "hide_input_from_viewers": false,
     "hide_output_from_viewers": false,
     "type": "CODE"
    }
   },
   "outputs": [],
   "source": [
    "# Renomeando colunas\n",
    "flights_transform = flights_transform.select(*(F.col(x).alias('fl_' + x ) for x in flights_transform.columns))\n",
    "planes_transform = planes_transform.select(*(F.col(x).alias('pl_' + x ) for x in planes_transform.columns))\n",
    "airports_transform2 = airports_transform.select(*(F.col(x).alias('air2_' + x ) for x in airports_transform.columns))\n",
    "airports_transform = airports_transform.select(*(F.col(x).alias('air_' + x ) for x in airports_transform.columns))"
   ]
  },
  {
   "cell_type": "code",
   "execution_count": 27,
   "metadata": {
    "datalore": {
     "hide_input_from_viewers": false,
     "hide_output_from_viewers": false,
     "type": "CODE"
    }
   },
   "outputs": [
    {
     "name": "stdout",
     "output_type": "stream",
     "text": [
      "+-----------+-----------+------------+------------+----------+----------+---------+---------+-------+-----------+-----------+-------------------+---------------------+--------------------+----------------+-------------+---------------------+\n",
      "|fl_dep_time|fl_arr_time|fl_dep_delay|fl_arr_delay|fl_carrier|fl_tailnum|fl_flight|fl_origin|fl_dest|fl_air_time|fl_distance|    fl_dep_datetime|fl_air_time_projected|fl_air_time_expected|fl_haul_duration|fl_dep_season|fl_dep_delay_category|\n",
      "+-----------+-----------+------------+------------+----------+----------+---------+---------+-------+-----------+-----------+-------------------+---------------------+--------------------+----------------+-------------+---------------------+\n",
      "|        658|        935|          -7|          -5|        VX|    N846VA|     1780|      SEA|    LAX|        132|        954|2014-12-08 08:58:00|                  115|                 126|      SHORT-HAUL|         FALL|          ANTECIPATED|\n",
      "|       1040|       1505|           5|           5|        AS|    N559AS|      851|      SEA|    HNL|        360|       2677|2014-01-22 12:40:00|                  287|                 343|     MEDIUM-HAUL|       WINTER|                MINOR|\n",
      "|       1443|       1652|          -2|           2|        VX|    N847VA|      755|      SEA|    SFO|        111|        679|2014-03-09 17:43:00|                   87|                 101|      SHORT-HAUL|       WINTER|          ANTECIPATED|\n",
      "|       1705|       1839|          45|          34|        WN|    N360SW|      344|      PDX|    SJC|         83|        569|2014-04-09 20:05:00|                   76|                  85|      SHORT-HAUL|       SPRING|                MINOR|\n",
      "|        754|       1015|          -1|           1|        AS|    N612AS|      522|      SEA|    BUR|        127|        937|2014-03-09 10:54:00|                  113|                 122|      SHORT-HAUL|       WINTER|          ANTECIPATED|\n",
      "|       1037|       1352|           7|           2|        WN|    N646SW|       48|      PDX|    DEN|        121|        991|2014-01-15 12:37:00|                  119|                 123|      SHORT-HAUL|       WINTER|                MINOR|\n",
      "|        847|       1041|          42|          51|        WN|    N422WN|     1520|      PDX|    OAK|         90|        543|2014-07-02 11:47:00|                   74|                  81|      SHORT-HAUL|       SUMMER|                MINOR|\n",
      "|       1655|       1842|          -5|         -18|        VX|    N361VA|      755|      SEA|    SFO|         98|        679|2014-05-12 19:55:00|                   87|                 101|      SHORT-HAUL|       SPRING|          ANTECIPATED|\n",
      "|       1236|       1508|          -4|          -7|        AS|    N309AS|      490|      SEA|    SAN|        135|       1050|2014-04-19 15:36:00|                  125|                 137|      SHORT-HAUL|       SPRING|          ANTECIPATED|\n",
      "|       1812|       2352|          -3|          -4|        AS|    N564AS|       26|      SEA|    ORD|        198|       1721|2014-11-19 20:12:00|                  192|                 202|     MEDIUM-HAUL|         FALL|          ANTECIPATED|\n",
      "|       1653|       1924|          -2|          -1|        AS|    N323AS|      448|      SEA|    LAX|        130|        954|2014-11-08 18:53:00|                  115|                 126|      SHORT-HAUL|         FALL|          ANTECIPATED|\n",
      "|       1120|       1415|           0|           2|        AS|    N305AS|      656|      SEA|    PHX|        154|       1107|2014-08-03 14:20:00|                  130|                 141|      SHORT-HAUL|       SUMMER|               INTIME|\n",
      "|        811|       1038|          21|          29|        AS|    N433AS|      608|      SEA|    LAS|        127|        867|2014-10-30 10:11:00|                  106|                 118|      SHORT-HAUL|         FALL|                MINOR|\n",
      "|       2346|        217|          -4|         -28|        AS|    N765AS|      121|      SEA|    ANC|        183|       1448|2014-11-13 01:46:00|                  164|                 190|     MEDIUM-HAUL|         FALL|          ANTECIPATED|\n",
      "|       1314|       1544|          89|         111|        AS|    N713AS|      306|      SEA|    SFO|        129|        679|2014-10-31 15:14:00|                   87|                 101|      SHORT-HAUL|         FALL|                MAJOR|\n",
      "|       2009|       2159|           3|           9|        UA|    N27205|     1458|      PDX|    SFO|         90|        550|2014-01-29 22:09:00|                   75|                  85|      SHORT-HAUL|       WINTER|                MINOR|\n",
      "|       2015|       2150|          50|          41|        AS|    N626AS|      368|      SEA|    SMF|         76|        605|2014-12-17 22:15:00|                   80|                  82|      SHORT-HAUL|         FALL|                MINOR|\n",
      "|       1017|       1613|          -3|          -7|        WN|    N8634A|      827|      SEA|    MDW|        216|       1733|2014-08-11 13:17:00|                  193|                 214|     MEDIUM-HAUL|       SUMMER|          ANTECIPATED|\n",
      "|       2156|        607|          -9|         -15|        AS|    N597AS|       24|      SEA|    BOS|        290|       2496|2014-01-13 23:56:00|                  269|                 286|     MEDIUM-HAUL|       WINTER|          ANTECIPATED|\n",
      "|       1733|       1945|         -12|         -10|        OO|    N215AG|     3488|      PDX|    BUR|        111|        817|2014-06-05 20:33:00|                  101|                 108|      SHORT-HAUL|       SPRING|          ANTECIPATED|\n",
      "+-----------+-----------+------------+------------+----------+----------+---------+---------+-------+-----------+-----------+-------------------+---------------------+--------------------+----------------+-------------+---------------------+\n",
      "only showing top 20 rows\n",
      "\n"
     ]
    }
   ],
   "source": [
    "flights_transform.show()"
   ]
  },
  {
   "cell_type": "code",
   "execution_count": 28,
   "metadata": {
    "datalore": {
     "hide_input_from_viewers": false,
     "hide_output_from_viewers": false,
     "type": "CODE"
    }
   },
   "outputs": [],
   "source": [
    "transform_proc_df = flights_transform.join(airports_transform,  (flights_transform.fl_origin == airports_transform.air_faa) ,'left')\\\n",
    "                                     .join(airports_transform2, (flights_transform.fl_dest  == airports_transform2.air2_faa),'left')\\\n",
    "                                     .join(planes_transform,    (flights_transform.fl_tailnum == planes_transform.pl_tailnum),'left')"
   ]
  },
  {
   "cell_type": "code",
   "execution_count": 29,
   "metadata": {
    "datalore": {
     "hide_input_from_viewers": false,
     "hide_output_from_viewers": false,
     "type": "CODE"
    }
   },
   "outputs": [
    {
     "name": "stdout",
     "output_type": "stream",
     "text": [
      "+-----------+-----------+------------+------------+----------+----------+---------+---------+-------+-----------+-----------+-------------------+---------------------+--------------------+----------------+-------------+---------------------+-------+-------------------+---------+---------+-------+------+-------+-------------+--------+------------+------------------+--------+--------------------+---------+-----------+--------+-------+--------+-------------+---------+-------------+-------------------+----------+-------+---------+---------------+-----------+----------+--------+--------+---------+-----------+------+--------------+\n",
      "|fl_dep_time|fl_arr_time|fl_dep_delay|fl_arr_delay|fl_carrier|fl_tailnum|fl_flight|fl_origin|fl_dest|fl_air_time|fl_distance|    fl_dep_datetime|fl_air_time_projected|fl_air_time_expected|fl_haul_duration|fl_dep_season|fl_dep_delay_category|air_faa|           air_name|  air_lat|  air_lon|air_alt|air_tz|air_dst|   air_region|air_type|air_military|air_administration|air2_faa|           air2_name| air2_lat|   air2_lon|air2_alt|air2_tz|air2_dst|  air2_region|air2_type|air2_military|air2_administration|pl_tailnum|pl_year|  pl_type|pl_manufacturer|   pl_model|pl_engines|pl_seats|pl_speed|pl_engine|pl_tailchar|pl_age|pl_engine_type|\n",
      "+-----------+-----------+------------+------------+----------+----------+---------+---------+-------+-----------+-----------+-------------------+---------------------+--------------------+----------------+-------------+---------------------+-------+-------------------+---------+---------+-------+------+-------+-------------+--------+------------+------------------+--------+--------------------+---------+-----------+--------+-------+--------+-------------+---------+-------------+-------------------+----------+-------+---------+---------------+-----------+----------+--------+--------+---------+-----------+------+--------------+\n",
      "|        658|        935|          -7|          -5|        VX|    N846VA|     1780|      SEA|    LAX|        132|        954|2014-12-08 08:58:00|                  115|                 126|      SHORT-HAUL|         FALL|          ANTECIPATED|    SEA|Seattle Tacoma Intl|   47.449|-122.3093|    433|  -8.0|      A|MAINLAND-WEST|     NaN|       false|                 I|     LAX|    Los Angeles Intl|33.942535| -118.40807|     126|   -8.0|       A|MAINLAND-WEST|      NaN|        false|                  I|    N846VA|   2011|MULTI_ENG|         AIRBUS|   A320-214|         2|     182|       0|Turbo-fan|         VA|    11|           FAN|\n",
      "|       1040|       1505|           5|           5|        AS|    N559AS|      851|      SEA|    HNL|        360|       2677|2014-01-22 12:40:00|                  287|                 343|     MEDIUM-HAUL|       WINTER|                MINOR|    SEA|Seattle Tacoma Intl|   47.449|-122.3093|    433|  -8.0|      A|MAINLAND-WEST|     NaN|       false|                 I|     HNL|       Honolulu Intl|21.318682| -157.92242|      13|  -10.0|       N|       ALASKA|      NaN|        false|                  I|    N559AS|   2006|MULTI_ENG|         BOEING|    737-890|         2|     149|       0|Turbo-fan|         AS|    16|           FAN|\n",
      "|       1443|       1652|          -2|           2|        VX|    N847VA|      755|      SEA|    SFO|        111|        679|2014-03-09 17:43:00|                   87|                 101|      SHORT-HAUL|       WINTER|          ANTECIPATED|    SEA|Seattle Tacoma Intl|   47.449|-122.3093|    433|  -8.0|      A|MAINLAND-WEST|     NaN|       false|                 I|     SFO|  San Francisco Intl|37.618973|-122.374886|      13|   -8.0|       A|MAINLAND-WEST|      NaN|        false|                  I|    N847VA|   2011|MULTI_ENG|         AIRBUS|   A320-214|         2|     182|       0|Turbo-fan|         VA|    11|           FAN|\n",
      "|       1705|       1839|          45|          34|        WN|    N360SW|      344|      PDX|    SJC|         83|        569|2014-04-09 20:05:00|                   76|                  85|      SHORT-HAUL|       SPRING|                MINOR|    PDX|      Portland Intl|45.588722|-122.5975|     30|  -8.0|      A|MAINLAND-WEST|     NaN|       false|                 I|     SJC|Norman Y Mineta S...|  37.3626| -121.92902|      62|   -8.0|       A|MAINLAND-WEST|      NaN|        false|                  I|    N360SW|   1992|MULTI_ENG|         BOEING|    737-3H4|         2|     149|       0|Turbo-fan|         SW|    30|           FAN|\n",
      "|        754|       1015|          -1|           1|        AS|    N612AS|      522|      SEA|    BUR|        127|        937|2014-03-09 10:54:00|                  113|                 122|      SHORT-HAUL|       WINTER|          ANTECIPATED|    SEA|Seattle Tacoma Intl|   47.449|-122.3093|    433|  -8.0|      A|MAINLAND-WEST|     NaN|       false|                 I|     BUR|            Bob Hope| 34.20067|-118.358665|     778|   -8.0|       A|MAINLAND-WEST|      NaN|        false|                NaN|    N612AS|   1999|MULTI_ENG|         BOEING|    737-790|         2|     151|       0|Turbo-jet|         AS|    23|           JET|\n",
      "|       1037|       1352|           7|           2|        WN|    N646SW|       48|      PDX|    DEN|        121|        991|2014-01-15 12:37:00|                  119|                 123|      SHORT-HAUL|       WINTER|                MINOR|    PDX|      Portland Intl|45.588722|-122.5975|     30|  -8.0|      A|MAINLAND-WEST|     NaN|       false|                 I|     DEN|         Denver Intl|39.861656| -104.67318|    5431|   -7.0|       A|MAINLAND-WEST|      NaN|        false|                  I|    N646SW|   1997|MULTI_ENG|         BOEING|    737-3H4|         2|     149|       0|Turbo-fan|         SW|    25|           FAN|\n",
      "|        847|       1041|          42|          51|        WN|    N422WN|     1520|      PDX|    OAK|         90|        543|2014-07-02 11:47:00|                   74|                  81|      SHORT-HAUL|       SUMMER|                MINOR|    PDX|      Portland Intl|45.588722|-122.5975|     30|  -8.0|      A|MAINLAND-WEST|     NaN|       false|                 I|     OAK|Metropolitan Oakl...| 37.72128| -122.22072|       9|   -8.0|       A|MAINLAND-WEST|      NaN|        false|                  I|    N422WN|   2002|MULTI_ENG|         BOEING|    737-7H4|         2|     140|       0|Turbo-fan|         WN|    20|           FAN|\n",
      "|       1655|       1842|          -5|         -18|        VX|    N361VA|      755|      SEA|    SFO|         98|        679|2014-05-12 19:55:00|                   87|                 101|      SHORT-HAUL|       SPRING|          ANTECIPATED|    SEA|Seattle Tacoma Intl|   47.449|-122.3093|    433|  -8.0|      A|MAINLAND-WEST|     NaN|       false|                 I|     SFO|  San Francisco Intl|37.618973|-122.374886|      13|   -8.0|       A|MAINLAND-WEST|      NaN|        false|                  I|    N361VA|   2013|MULTI_ENG|         AIRBUS|   A320-214|         2|     182|       0|Turbo-fan|         VA|     9|           FAN|\n",
      "|       1236|       1508|          -4|          -7|        AS|    N309AS|      490|      SEA|    SAN|        135|       1050|2014-04-19 15:36:00|                  125|                 137|      SHORT-HAUL|       SPRING|          ANTECIPATED|    SEA|Seattle Tacoma Intl|   47.449|-122.3093|    433|  -8.0|      A|MAINLAND-WEST|     NaN|       false|                 I|     SAN|      San Diego Intl|32.733555| -117.18967|      17|   -8.0|       A|MAINLAND-WEST|      NaN|        false|                  I|    N309AS|   2001|MULTI_ENG|         BOEING|    737-990|         2|     149|       0|Turbo-jet|         AS|    21|           JET|\n",
      "|       1812|       2352|          -3|          -4|        AS|    N564AS|       26|      SEA|    ORD|        198|       1721|2014-11-19 20:12:00|                  192|                 202|     MEDIUM-HAUL|         FALL|          ANTECIPATED|    SEA|Seattle Tacoma Intl|   47.449|-122.3093|    433|  -8.0|      A|MAINLAND-WEST|     NaN|       false|                 I|     ORD|  Chicago Ohare Intl|41.978603|  -87.90484|     668|   -6.0|       A|MAINLAND-EAST|      NaN|        false|                  I|    N564AS|   2006|MULTI_ENG|         BOEING|    737-890|         2|     149|       0|Turbo-fan|         AS|    16|           FAN|\n",
      "|       1653|       1924|          -2|          -1|        AS|    N323AS|      448|      SEA|    LAX|        130|        954|2014-11-08 18:53:00|                  115|                 126|      SHORT-HAUL|         FALL|          ANTECIPATED|    SEA|Seattle Tacoma Intl|   47.449|-122.3093|    433|  -8.0|      A|MAINLAND-WEST|     NaN|       false|                 I|     LAX|    Los Angeles Intl|33.942535| -118.40807|     126|   -8.0|       A|MAINLAND-WEST|      NaN|        false|                  I|    N323AS|   2004|MULTI_ENG|         BOEING|    737-990|         2|     149|       0|Turbo-jet|         AS|    18|           JET|\n",
      "|       1120|       1415|           0|           2|        AS|    N305AS|      656|      SEA|    PHX|        154|       1107|2014-08-03 14:20:00|                  130|                 141|      SHORT-HAUL|       SUMMER|               INTIME|    SEA|Seattle Tacoma Intl|   47.449|-122.3093|    433|  -8.0|      A|MAINLAND-WEST|     NaN|       false|                 I|     PHX|Phoenix Sky Harbo...|33.434277| -112.01158|    1135|   -7.0|       A|MAINLAND-WEST|      NaN|        false|                  I|    N305AS|   2001|MULTI_ENG|         BOEING|    737-990|         2|     149|       0|Turbo-jet|         AS|    21|           JET|\n",
      "|        811|       1038|          21|          29|        AS|    N433AS|      608|      SEA|    LAS|        127|        867|2014-10-30 10:11:00|                  106|                 118|      SHORT-HAUL|         FALL|                MINOR|    SEA|Seattle Tacoma Intl|   47.449|-122.3093|    433|  -8.0|      A|MAINLAND-WEST|     NaN|       false|                 I|     LAS|      Mc Carran Intl|36.080055| -115.15225|    2141|   -8.0|       A|MAINLAND-WEST|      NaN|        false|                  I|    N433AS|   2013|MULTI_ENG|         BOEING|  737-990ER|         2|     222|       0|Turbo-fan|         AS|     9|           FAN|\n",
      "|       2346|        217|          -4|         -28|        AS|    N765AS|      121|      SEA|    ANC|        183|       1448|2014-11-13 01:46:00|                  164|                 190|     MEDIUM-HAUL|         FALL|          ANTECIPATED|    SEA|Seattle Tacoma Intl|   47.449|-122.3093|    433|  -8.0|      A|MAINLAND-WEST|     NaN|       false|                 I|     ANC|Ted Stevens Ancho...|61.174362| -149.99637|     152|   -9.0|       A|       ALASKA|      NaN|        false|                  I|    N765AS|   1992|MULTI_ENG|         BOEING|    737-4Q8|         2|     149|       0|Turbo-fan|         AS|    30|           FAN|\n",
      "|       1314|       1544|          89|         111|        AS|    N713AS|      306|      SEA|    SFO|        129|        679|2014-10-31 15:14:00|                   87|                 101|      SHORT-HAUL|         FALL|                MAJOR|    SEA|Seattle Tacoma Intl|   47.449|-122.3093|    433|  -8.0|      A|MAINLAND-WEST|     NaN|       false|                 I|     SFO|  San Francisco Intl|37.618973|-122.374886|      13|   -8.0|       A|MAINLAND-WEST|      NaN|        false|                  I|    N713AS|   1999|MULTI_ENG|         BOEING|    737-490|         2|     149|       0|Turbo-jet|         AS|    23|           JET|\n",
      "|       2009|       2159|           3|           9|        UA|    N27205|     1458|      PDX|    SFO|         90|        550|2014-01-29 22:09:00|                   75|                  85|      SHORT-HAUL|       WINTER|                MINOR|    PDX|      Portland Intl|45.588722|-122.5975|     30|  -8.0|      A|MAINLAND-WEST|     NaN|       false|                 I|     SFO|  San Francisco Intl|37.618973|-122.374886|      13|   -8.0|       A|MAINLAND-WEST|      NaN|        false|                  I|    N27205|   2000|MULTI_ENG|         BOEING|    737-824|         2|     149|       0|Turbo-fan|           |    22|           FAN|\n",
      "|       2015|       2150|          50|          41|        AS|    N626AS|      368|      SEA|    SMF|         76|        605|2014-12-17 22:15:00|                   80|                  82|      SHORT-HAUL|         FALL|                MINOR|    SEA|Seattle Tacoma Intl|   47.449|-122.3093|    433|  -8.0|      A|MAINLAND-WEST|     NaN|       false|                 I|     SMF|     Sacramento Intl|38.695415|-121.590775|      27|   -8.0|       A|MAINLAND-WEST|      NaN|        false|                  I|    N626AS|   2001|MULTI_ENG|         BOEING|    737-790|         2|     151|       0|Turbo-jet|         AS|    21|           JET|\n",
      "|       1017|       1613|          -3|          -7|        WN|    N8634A|      827|      SEA|    MDW|        216|       1733|2014-08-11 13:17:00|                  193|                 214|     MEDIUM-HAUL|       SUMMER|          ANTECIPATED|    SEA|Seattle Tacoma Intl|   47.449|-122.3093|    433|  -8.0|      A|MAINLAND-WEST|     NaN|       false|                 I|     MDW| Chicago Midway Intl|41.785973|  -87.75242|     620|   -6.0|       A|MAINLAND-EAST|      NaN|        false|                  I|    N8634A|   2014|MULTI_ENG|         BOEING|    737-8H4|         2|     140|       0|Turbo-fan|          A|     8|           FAN|\n",
      "|       2156|        607|          -9|         -15|        AS|    N597AS|       24|      SEA|    BOS|        290|       2496|2014-01-13 23:56:00|                  269|                 286|     MEDIUM-HAUL|       WINTER|          ANTECIPATED|    SEA|Seattle Tacoma Intl|   47.449|-122.3093|    433|  -8.0|      A|MAINLAND-WEST|     NaN|       false|                 I|     BOS|General Edward La...|42.364346|  -71.00518|      19|   -5.0|       A|MAINLAND-EAST|      NaN|        false|                  I|    N597AS|   2008|MULTI_ENG|         BOEING|    737-890|         2|     149|       0|Turbo-fan|         AS|    14|           FAN|\n",
      "|       1733|       1945|         -12|         -10|        OO|    N215AG|     3488|      PDX|    BUR|        111|        817|2014-06-05 20:33:00|                  101|                 108|      SHORT-HAUL|       SPRING|          ANTECIPATED|    PDX|      Portland Intl|45.588722|-122.5975|     30|  -8.0|      A|MAINLAND-WEST|     NaN|       false|                 I|     BUR|            Bob Hope| 34.20067|-118.358665|     778|   -8.0|       A|MAINLAND-WEST|      NaN|        false|                NaN|    N215AG|   2001|MULTI_ENG|     BOMBARDIER|CL-600-2C10|         2|      80|       0|Turbo-fan|         AG|    21|           FAN|\n",
      "+-----------+-----------+------------+------------+----------+----------+---------+---------+-------+-----------+-----------+-------------------+---------------------+--------------------+----------------+-------------+---------------------+-------+-------------------+---------+---------+-------+------+-------+-------------+--------+------------+------------------+--------+--------------------+---------+-----------+--------+-------+--------+-------------+---------+-------------+-------------------+----------+-------+---------+---------------+-----------+----------+--------+--------+---------+-----------+------+--------------+\n",
      "only showing top 20 rows\n",
      "\n"
     ]
    }
   ],
   "source": [
    "transform_proc_df.show()"
   ]
  },
  {
   "attachments": {},
   "cell_type": "markdown",
   "metadata": {
    "datalore": {
     "hide_input_from_viewers": false,
     "hide_output_from_viewers": false,
     "type": "MD"
    }
   },
   "source": [
    "\n",
    "\n",
    "## 2."
   ]
  },
  {
   "cell_type": "code",
   "execution_count": 30,
   "metadata": {
    "datalore": {
     "hide_input_from_viewers": false,
     "hide_output_from_viewers": false,
     "type": "CODE"
    }
   },
   "outputs": [
    {
     "name": "stdout",
     "output_type": "stream",
     "text": [
      "+-------------+---------------------+\n",
      "|      regiões|aeroportos por região|\n",
      "+-------------+---------------------+\n",
      "|       ALASKA|                    9|\n",
      "|MAINLAND-EAST|                   24|\n",
      "|MAINLAND-WEST|                   36|\n",
      "+-------------+---------------------+\n",
      "\n"
     ]
    }
   ],
   "source": [
    "# transform_proc_df.select(F.countDistinct('air_name')).groupBy('air_re   gion').orderBy('region').show() | #.agg(F.expr('count(distinct air_name)').alias(\"Aeroportos por regiao\")).show()\n",
    "#groupby e agregate\n",
    "\n",
    "transform_proc_df.groupBy(F.col('air2_region').alias('regiões')).agg(F.expr('count(distinct air2_name)').alias('aeroportos por região')).show()"
   ]
  },
  {
   "attachments": {},
   "cell_type": "markdown",
   "metadata": {
    "datalore": {
     "hide_input_from_viewers": false,
     "hide_output_from_viewers": false,
     "type": "MD"
    }
   },
   "source": [
    "\n",
    "## 3."
   ]
  },
  {
   "cell_type": "code",
   "execution_count": 31,
   "metadata": {
    "datalore": {
     "hide_input_from_viewers": false,
     "hide_output_from_viewers": false,
     "type": "CODE"
    }
   },
   "outputs": [
    {
     "name": "stdout",
     "output_type": "stream",
     "text": [
      "+--------------------------+\n",
      "|Maior diferença de altiude|\n",
      "+--------------------------+\n",
      "|                       429|\n",
      "+--------------------------+\n",
      "\n"
     ]
    }
   ],
   "source": [
    "transform_proc_df.agg(F.max(F.col('air_alt')-\n",
    "F.col('air2_alt')).alias(\"Maior diferença de altiude\")).show() "
   ]
  },
  {
   "attachments": {},
   "cell_type": "markdown",
   "metadata": {
    "datalore": {
     "hide_input_from_viewers": false,
     "hide_output_from_viewers": false,
     "type": "MD"
    }
   },
   "source": [
    "## 4."
   ]
  },
  {
   "cell_type": "code",
   "execution_count": 32,
   "metadata": {
    "datalore": {
     "hide_input_from_viewers": false,
     "hide_output_from_viewers": false,
     "type": "CODE"
    }
   },
   "outputs": [
    {
     "name": "stdout",
     "output_type": "stream",
     "text": [
      "+--------------------------------------+\n",
      "|Atraso médio das chegadas (em minutos)|\n",
      "+--------------------------------------+\n",
      "|                      24.6496644295302|\n",
      "+--------------------------------------+\n",
      "\n",
      "+------------------------------------+\n",
      "|Atraso médio de partida (em minutos)|\n",
      "+------------------------------------+\n",
      "|                    25.5242774566474|\n",
      "+------------------------------------+\n",
      "\n"
     ]
    }
   ],
   "source": [
    "transform_proc_df.filter(transform_proc_df['fl_arr_delay'] > 0).agg(F.avg('fl_arr_delay').alias('Atraso médio das chegadas (em minutos)')).show()\n",
    "transform_proc_df.filter(transform_proc_df['fl_dep_delay'] > 0).agg(F.avg('fl_dep_delay').alias('Atraso médio de partida (em minutos)')).show()\n",
    "#.groupBy('fl_carrier') + agregate em fl_arr_delay e median"
   ]
  },
  {
   "attachments": {},
   "cell_type": "markdown",
   "metadata": {
    "datalore": {
     "hide_input_from_viewers": false,
     "hide_output_from_viewers": false,
     "type": "MD"
    }
   },
   "source": [
    "\n",
    "\n",
    "## 5."
   ]
  },
  {
   "cell_type": "code",
   "execution_count": 33,
   "metadata": {
    "datalore": {
     "hide_input_from_viewers": false,
     "hide_output_from_viewers": false,
     "type": "CODE"
    }
   },
   "outputs": [
    {
     "name": "stdout",
     "output_type": "stream",
     "text": [
      "+-------------+------------------------------------+\n",
      "|      regiões|Atraso médio de chegada (em minutos)|\n",
      "+-------------+------------------------------------+\n",
      "|       ALASKA|                                  23|\n",
      "|MAINLAND-EAST|                                  29|\n",
      "|MAINLAND-WEST|                                  24|\n",
      "+-------------+------------------------------------+\n",
      "\n",
      "+-------------+------------------------------------+\n",
      "|      regiões|Atraso médio de partida (em minutos)|\n",
      "+-------------+------------------------------------+\n",
      "|       ALASKA|                                  21|\n",
      "|MAINLAND-EAST|                                  27|\n",
      "|MAINLAND-WEST|                                  26|\n",
      "+-------------+------------------------------------+\n",
      "\n"
     ]
    }
   ],
   "source": [
    "transform_proc_df.filter(transform_proc_df['fl_arr_delay'] > 0).groupBy(F.col('air2_region').alias('regiões')).agg(F.ceil(F.avg('fl_arr_delay')).alias('Atraso médio de chegada (em minutos)')).show()\n",
    "transform_proc_df.filter(transform_proc_df['fl_dep_delay'] > 0).groupBy(F.col('air2_region').alias('regiões')).agg(F.ceil(F.avg('fl_dep_delay')).alias('Atraso médio de partida (em minutos)')).show()"
   ]
  },
  {
   "attachments": {},
   "cell_type": "markdown",
   "metadata": {
    "datalore": {
     "hide_input_from_viewers": false,
     "hide_output_from_viewers": false,
     "type": "MD"
    }
   },
   "source": [
    "\n",
    "# 6."
   ]
  },
  {
   "cell_type": "code",
   "execution_count": 36,
   "metadata": {
    "datalore": {
     "hide_input_from_viewers": false,
     "hide_output_from_viewers": false,
     "type": "CODE"
    }
   },
   "outputs": [
    {
     "name": "stdout",
     "output_type": "stream",
     "text": [
      "+----+----------------------------------------+\n",
      "| Ano|Atraso de partida acumulado (em minutos)|\n",
      "+----+----------------------------------------+\n",
      "|2015|                                       6|\n",
      "|2014|                                  166792|\n",
      "+----+----------------------------------------+\n",
      "\n"
     ]
    }
   ],
   "source": [
    "transform_proc_df.filter((transform_proc_df['fl_arr_delay'] > 0) | (transform_proc_df['fl_dep_delay'] > 0)).groupBy(F.year(F.col('fl_dep_datetime')).alias('Ano')).agg((F.sum('fl_dep_delay') + F.sum('fl_arr_delay')).alias('Atraso de partida acumulado (em minutos)')).show()"
   ]
  },
  {
   "attachments": {},
   "cell_type": "markdown",
   "metadata": {
    "datalore": {
     "hide_input_from_viewers": false,
     "hide_output_from_viewers": false,
     "type": "MD"
    }
   },
   "source": [
    "\n",
    "## 7."
   ]
  },
  {
   "cell_type": "code",
   "execution_count": 37,
   "metadata": {
    "datalore": {
     "hide_input_from_viewers": false,
     "hide_output_from_viewers": false,
     "type": "CODE"
    }
   },
   "outputs": [
    {
     "name": "stdout",
     "output_type": "stream",
     "text": [
      "+----+-------------+------------------------------------+\n",
      "| Ano|       Região|Atraso origem acumulado (em minutos)|\n",
      "+----+-------------+------------------------------------+\n",
      "|2015|MAINLAND-WEST|                                   6|\n",
      "|2014|MAINLAND-WEST|                               82751|\n",
      "+----+-------------+------------------------------------+\n",
      "\n",
      "+----+-------------+-------------------------------------+\n",
      "| Ano|       Região|Atraso destino acumulado (em minutos)|\n",
      "+----+-------------+-------------------------------------+\n",
      "|2014|       ALASKA|                                 4435|\n",
      "|2014|MAINLAND-EAST|                                21618|\n",
      "|2015|MAINLAND-WEST|                                    6|\n",
      "|2014|MAINLAND-WEST|                                56698|\n",
      "+----+-------------+-------------------------------------+\n",
      "\n"
     ]
    }
   ],
   "source": [
    "transform_proc_df.groupBy(F.year(F.col('fl_dep_datetime')).alias('Ano'), F.col('air_region').alias('Região')).agg((F.sum('fl_dep_delay') + \n",
    "F.sum('fl_arr_delay')).alias('Atraso origem acumulado (em minutos)')).show()\n",
    "transform_proc_df.groupBy(F.year(F.col('fl_dep_datetime')).alias('Ano'), F.col('air2_region').alias('Região')).agg((F.sum('fl_dep_delay') + \n",
    "F.sum('fl_arr_delay')).alias('Atraso destino acumulado (em minutos)')).show()"
   ]
  },
  {
   "attachments": {},
   "cell_type": "markdown",
   "metadata": {
    "datalore": {
     "hide_input_from_viewers": false,
     "hide_output_from_viewers": false,
     "type": "MD"
    }
   },
   "source": [
    "\n",
    "## 8."
   ]
  },
  {
   "cell_type": "code",
   "execution_count": 38,
   "metadata": {
    "datalore": {
     "hide_input_from_viewers": false,
     "hide_output_from_viewers": false,
     "type": "CODE"
    }
   },
   "outputs": [
    {
     "name": "stdout",
     "output_type": "stream",
     "text": [
      "+-------------------------------+\n",
      "|Tempo médio de vôo (em minutos)|\n",
      "+-------------------------------+\n",
      "|                            153|\n",
      "+-------------------------------+\n",
      "\n"
     ]
    }
   ],
   "source": [
    "transform_proc_df.agg(F.ceil(F.avg('fl_air_time')).alias('Tempo médio de vôo (em minutos)')).show()"
   ]
  },
  {
   "attachments": {},
   "cell_type": "markdown",
   "metadata": {
    "datalore": {
     "hide_input_from_viewers": false,
     "hide_output_from_viewers": false,
     "type": "MD"
    }
   },
   "source": [
    "\n",
    "## 9."
   ]
  },
  {
   "cell_type": "code",
   "execution_count": 39,
   "metadata": {
    "datalore": {
     "hide_input_from_viewers": false,
     "hide_output_from_viewers": false,
     "type": "CODE"
    }
   },
   "outputs": [
    {
     "name": "stdout",
     "output_type": "stream",
     "text": [
      "+-------------+-------------------------------+\n",
      "|      regiões|Tempo médio de vôo (em minutos)|\n",
      "+-------------+-------------------------------+\n",
      "|       ALASKA|                            228|\n",
      "|MAINLAND-EAST|                            238|\n",
      "|MAINLAND-WEST|                            116|\n",
      "+-------------+-------------------------------+\n",
      "\n"
     ]
    }
   ],
   "source": [
    "transform_proc_df.groupBy(F.col('air2_region').alias('regiões')).agg(F.ceil(F.avg('fl_air_time')).alias('Tempo médio de vôo (em minutos)')).show()"
   ]
  },
  {
   "attachments": {},
   "cell_type": "markdown",
   "metadata": {
    "datalore": {
     "hide_input_from_viewers": false,
     "hide_output_from_viewers": false,
     "type": "MD"
    }
   },
   "source": [
    "\n",
    "## 10."
   ]
  },
  {
   "cell_type": "code",
   "execution_count": 40,
   "metadata": {
    "datalore": {
     "hide_input_from_viewers": false,
     "hide_output_from_viewers": false,
     "type": "CODE"
    }
   },
   "outputs": [
    {
     "name": "stdout",
     "output_type": "stream",
     "text": [
      "+------+-------+-------------------------------+\n",
      "|Origem|Destino|Tempo médio de vôo (em minutos)|\n",
      "+------+-------+-------------------------------+\n",
      "|   SEA|    RNO|                             75|\n",
      "|   SEA|    DTW|                            220|\n",
      "|   SEA|    CLE|                            234|\n",
      "|   SEA|    LAX|                            127|\n",
      "|   PDX|    SEA|                             35|\n",
      "|   SEA|    BLI|                             23|\n",
      "|   PDX|    IAH|                            214|\n",
      "|   PDX|    PHX|                            131|\n",
      "|   SEA|    SLC|                             89|\n",
      "|   SEA|    SBA|                            119|\n",
      "|   SEA|    BWI|                            270|\n",
      "|   PDX|    IAD|                            268|\n",
      "|   PDX|    SFO|                             86|\n",
      "|   SEA|    KOA|                            348|\n",
      "|   PDX|    MCI|                            175|\n",
      "|   SEA|    SJC|                            104|\n",
      "|   SEA|    ABQ|                            143|\n",
      "|   SEA|    SAT|                            209|\n",
      "|   PDX|    ONT|                            112|\n",
      "|   SEA|    LAS|                            119|\n",
      "|   SEA|    GEG|                             38|\n",
      "|   SEA|    ANC|                            191|\n",
      "|   PDX|    DEN|                            124|\n",
      "|   PDX|    JFK|                            287|\n",
      "|   PDX|    ATL|                            248|\n",
      "|   PDX|    MDW|                            215|\n",
      "|   PDX|    LMT|                             54|\n",
      "|   SEA|    HDN|                            118|\n",
      "|   SEA|    PHL|                            280|\n",
      "|   PDX|    PHL|                            284|\n",
      "|   SEA|    SMF|                             83|\n",
      "|   PDX|    SJC|                             86|\n",
      "|   SEA|    MSP|                            165|\n",
      "|   SEA|    HOU|                            230|\n",
      "|   SEA|    SFO|                            102|\n",
      "|   SEA|    PDX|                             33|\n",
      "|   SEA|    CLT|                            260|\n",
      "|   SEA|    IAH|                            221|\n",
      "|   SEA|    PSP|                            130|\n",
      "|   SEA|    DCA|                            269|\n",
      "|   PDX|    KOA|                            358|\n",
      "|   SEA|    TUS|                            152|\n",
      "|   PDX|    SBA|                            106|\n",
      "|   PDX|    SAN|                            124|\n",
      "|   PDX|    EWR|                            282|\n",
      "|   PDX|    BOS|                            292|\n",
      "|   SEA|    LIH|                            348|\n",
      "|   PDX|    DCA|                            270|\n",
      "|   SEA|    COS|                            134|\n",
      "|   PDX|    LGB|                            117|\n",
      "|   SEA|    HNL|                            344|\n",
      "|   PDX|    ANC|                            203|\n",
      "|   PDX|    STL|                            205|\n",
      "|   PDX|    HNL|                            330|\n",
      "|   PDX|    LIH|                            341|\n",
      "|   PDX|    RNO|                             60|\n",
      "|   PDX|    OAK|                             82|\n",
      "|   SEA|    DEN|                            128|\n",
      "|   PDX|    ABQ|                            137|\n",
      "|   SEA|    PHX|                            142|\n",
      "|   SEA|    LGB|                            132|\n",
      "|   SEA|    FLL|                            318|\n",
      "|   PDX|    LAX|                            115|\n",
      "|   PDX|    SMF|                             69|\n",
      "|   SEA|    MCI|                            176|\n",
      "|   PDX|    FAI|                            206|\n",
      "|   SEA|    ATL|                            246|\n",
      "|   SEA|    ORD|                            203|\n",
      "|   PDX|    DTW|                            222|\n",
      "|   SEA|    BOS|                            287|\n",
      "|   SEA|    MSY|                            243|\n",
      "|   PDX|    DFW|                            192|\n",
      "|   SEA|    FAT|                             99|\n",
      "|   SEA|    OGG|                            340|\n",
      "|   PDX|    BWI|                            276|\n",
      "|   PDX|    LAS|                            106|\n",
      "|   SEA|    SAN|                            138|\n",
      "|   SEA|    MDW|                            215|\n",
      "|   PDX|    OGG|                            335|\n",
      "|   SEA|    TPA|                            294|\n",
      "|   PDX|    CLT|                            258|\n",
      "|   PDX|    MSP|                            171|\n",
      "|   SEA|    OMA|                            159|\n",
      "|   SEA|    MKE|                            199|\n",
      "|   PDX|    AUS|                            205|\n",
      "|   SEA|    JNU|                            129|\n",
      "|   SEA|    AUS|                            210|\n",
      "|   PDX|    SLC|                             83|\n",
      "|   PDX|    ORD|                            206|\n",
      "|   PDX|    PSP|                            119|\n",
      "|   PDX|    RDM|                             30|\n",
      "|   SEA|    CVG|                            223|\n",
      "|   SEA|    DFW|                            196|\n",
      "|   SEA|    ONT|                            126|\n",
      "|   SEA|    KTN|                             99|\n",
      "|   SEA|    SIT|                            122|\n",
      "|   SEA|    SNA|                            134|\n",
      "|   SEA|    BUR|                            123|\n",
      "|   SEA|    EWR|                            278|\n",
      "|   PDX|    TUS|                            139|\n",
      "|   PDX|    EUG|                             28|\n",
      "|   SEA|    IAD|                            264|\n",
      "|   SEA|    STL|                            202|\n",
      "|   SEA|    BNA|                            235|\n",
      "|   PDX|    BOI|                             50|\n",
      "|   SEA|    OAK|                            100|\n",
      "|   PDX|    SNA|                            121|\n",
      "|   SEA|    MIA|                            309|\n",
      "|   SEA|    JFK|                            282|\n",
      "|   SEA|    FAI|                            199|\n",
      "|   PDX|    HOU|                            227|\n",
      "|   PDX|    BUR|                            109|\n",
      "|   SEA|    MCO|                            299|\n",
      "+------+-------+-------------------------------+\n",
      "\n"
     ]
    }
   ],
   "source": [
    "transform_proc_df.groupBy(F.col('fl_origin').alias('Origem'), F.col('fl_dest').alias('Destino')).agg(F.ceil(F.avg('fl_air_time')).alias('Tempo médio de vôo (em minutos)')).show(200)"
   ]
  },
  {
   "attachments": {},
   "cell_type": "markdown",
   "metadata": {
    "datalore": {
     "hide_input_from_viewers": false,
     "hide_output_from_viewers": false,
     "type": "MD"
    }
   },
   "source": [
    "\n",
    "## 11."
   ]
  },
  {
   "cell_type": "code",
   "execution_count": 41,
   "metadata": {
    "datalore": {
     "hide_input_from_viewers": false,
     "hide_output_from_viewers": false,
     "type": "CODE"
    }
   },
   "outputs": [
    {
     "name": "stdout",
     "output_type": "stream",
     "text": [
      "+----+-------------------------------+\n",
      "| Ano|Tempo médio de vôo (em minutos)|\n",
      "+----+-------------------------------+\n",
      "|2015|                             43|\n",
      "|2014|                            153|\n",
      "+----+-------------------------------+\n",
      "\n"
     ]
    }
   ],
   "source": [
    "transform_proc_df.groupBy(F.year(F.col('fl_dep_datetime')).alias('Ano')).agg(F.ceil(F.avg('fl_air_time')).alias('Tempo médio de vôo (em minutos)')).show()"
   ]
  },
  {
   "attachments": {},
   "cell_type": "markdown",
   "metadata": {
    "datalore": {
     "hide_input_from_viewers": false,
     "hide_output_from_viewers": false,
     "type": "MD"
    }
   },
   "source": [
    "\n",
    "## 12."
   ]
  },
  {
   "cell_type": "code",
   "execution_count": 42,
   "metadata": {
    "datalore": {
     "hide_input_from_viewers": false,
     "hide_output_from_viewers": false,
     "type": "CODE"
    }
   },
   "outputs": [
    {
     "name": "stdout",
     "output_type": "stream",
     "text": [
      "+-------------+-----------------------------------+\n",
      "|      regiões|Tempo de vôo acumulado (em minutos)|\n",
      "+-------------+-----------------------------------+\n",
      "|       ALASKA|                             230602|\n",
      "|MAINLAND-EAST|                             508344|\n",
      "|MAINLAND-WEST|                             789679|\n",
      "+-------------+-----------------------------------+\n",
      "\n"
     ]
    }
   ],
   "source": [
    "transform_proc_df.groupBy(F.col('air2_region').alias('regiões')).agg(F.sum('fl_air_time').alias('Tempo de vôo acumulado (em minutos)')).show()"
   ]
  },
  {
   "attachments": {},
   "cell_type": "markdown",
   "metadata": {
    "datalore": {
     "hide_input_from_viewers": false,
     "hide_output_from_viewers": false,
     "type": "MD"
    }
   },
   "source": [
    "\n",
    "## 13."
   ]
  },
  {
   "cell_type": "code",
   "execution_count": 43,
   "metadata": {
    "datalore": {
     "hide_input_from_viewers": false,
     "hide_output_from_viewers": false,
     "type": "CODE"
    }
   },
   "outputs": [
    {
     "name": "stdout",
     "output_type": "stream",
     "text": [
      "+----------------------------------+\n",
      "|Distância de vôo médio (em milhas)|\n",
      "+----------------------------------+\n",
      "|                            1208.0|\n",
      "+----------------------------------+\n",
      "\n"
     ]
    }
   ],
   "source": [
    "transform_proc_df.agg(F.round(F.avg('fl_distance')).alias('Distância de vôo médio (em milhas)')).show()"
   ]
  },
  {
   "attachments": {},
   "cell_type": "markdown",
   "metadata": {
    "datalore": {
     "hide_input_from_viewers": false,
     "hide_output_from_viewers": false,
     "type": "MD"
    }
   },
   "source": [
    "\n",
    "## 14."
   ]
  },
  {
   "attachments": {},
   "cell_type": "markdown",
   "metadata": {
    "datalore": {
     "hide_input_from_viewers": false,
     "hide_output_from_viewers": false,
     "type": "MD"
    }
   },
   "source": [
    "*Considerando que a distância dos vôos é dada pela distância total entre os aeroportos*:"
   ]
  },
  {
   "cell_type": "code",
   "execution_count": 44,
   "metadata": {
    "datalore": {
     "hide_input_from_viewers": false,
     "hide_output_from_viewers": false,
     "type": "CODE"
    }
   },
   "outputs": [
    {
     "name": "stdout",
     "output_type": "stream",
     "text": [
      "+-------------+----------------------------------+\n",
      "|      regiões|Distância de vôo médio (em milhas)|\n",
      "+-------------+----------------------------------+\n",
      "|       ALASKA|                            1742.0|\n",
      "|MAINLAND-EAST|                            2042.0|\n",
      "|MAINLAND-WEST|                             868.0|\n",
      "+-------------+----------------------------------+\n",
      "\n"
     ]
    }
   ],
   "source": [
    "transform_proc_df.groupBy(F.col('air2_region').alias('regiões')).agg(F.round(F.avg('fl_distance')).alias('Distância de vôo médio (em milhas)')).show()"
   ]
  },
  {
   "attachments": {},
   "cell_type": "markdown",
   "metadata": {
    "datalore": {
     "hide_input_from_viewers": false,
     "hide_output_from_viewers": false,
     "type": "MD"
    }
   },
   "source": [
    "\n",
    "## 15."
   ]
  },
  {
   "cell_type": "code",
   "execution_count": 45,
   "metadata": {
    "datalore": {
     "hide_input_from_viewers": false,
     "hide_output_from_viewers": false,
     "type": "CODE"
    }
   },
   "outputs": [
    {
     "name": "stdout",
     "output_type": "stream",
     "text": [
      "+------+-------+----------------------------------+\n",
      "|Origem|Destino|Distância de vôo médio (em milhas)|\n",
      "+------+-------+----------------------------------+\n",
      "|   SEA|    RNO|                         564.0 mls|\n",
      "|   SEA|    DTW|                        1927.0 mls|\n",
      "|   SEA|    CLE|                        2021.0 mls|\n",
      "|   SEA|    LAX|                         954.0 mls|\n",
      "|   PDX|    SEA|                         129.0 mls|\n",
      "|   SEA|    BLI|                          93.0 mls|\n",
      "|   PDX|    IAH|                        1825.0 mls|\n",
      "|   PDX|    PHX|                        1009.0 mls|\n",
      "|   SEA|    SLC|                         689.0 mls|\n",
      "|   SEA|    SBA|                         908.0 mls|\n",
      "|   SEA|    BWI|                        2335.0 mls|\n",
      "|   PDX|    IAD|                        2327.0 mls|\n",
      "|   PDX|    SFO|                         550.0 mls|\n",
      "|   SEA|    KOA|                        2688.0 mls|\n",
      "|   PDX|    MCI|                        1482.0 mls|\n",
      "|   SEA|    SJC|                         697.0 mls|\n",
      "|   SEA|    ABQ|                        1180.0 mls|\n",
      "|   SEA|    SAT|                        1774.0 mls|\n",
      "|   PDX|    ONT|                         838.0 mls|\n",
      "|   SEA|    LAS|                         867.0 mls|\n",
      "+------+-------+----------------------------------+\n",
      "only showing top 20 rows\n",
      "\n"
     ]
    }
   ],
   "source": [
    "transform_proc_df.groupBy(F.col('fl_origin').alias('Origem'), F.col('fl_dest').alias('Destino')).agg(F.concat(F.round(F.avg('fl_distance')), F.lit(' mls')).alias('Distância de vôo médio (em milhas)')).show()"
   ]
  },
  {
   "attachments": {},
   "cell_type": "markdown",
   "metadata": {
    "datalore": {
     "hide_input_from_viewers": false,
     "hide_output_from_viewers": false,
     "type": "MD"
    }
   },
   "source": [
    "\n",
    "## 16."
   ]
  },
  {
   "cell_type": "code",
   "execution_count": 46,
   "metadata": {
    "datalore": {
     "hide_input_from_viewers": false,
     "hide_output_from_viewers": false,
     "type": "CODE"
    }
   },
   "outputs": [
    {
     "name": "stdout",
     "output_type": "stream",
     "text": [
      "+----+--------------------------------------+\n",
      "| Ano|Distância de vôo acumulado (em milhas)|\n",
      "+----+--------------------------------------+\n",
      "|2015|                          224.0 milhas|\n",
      "|2014|                   12,081,292.0 milhas|\n",
      "+----+--------------------------------------+\n",
      "\n"
     ]
    }
   ],
   "source": [
    "transform_proc_df.groupBy(F.year(F.col('fl_dep_datetime')).alias('Ano')).agg(F.concat(F.format_number(F.sum('fl_distance'), 1), F.lit(' milhas')).alias('Distância de vôo acumulado (em milhas)')).show()\n",
    "#.agg(F.format_number(F.sum('fl_distance'), 1).alias('Distância de vôo acumulado (em milhas)')).show()"
   ]
  },
  {
   "attachments": {},
   "cell_type": "markdown",
   "metadata": {
    "datalore": {
     "hide_input_from_viewers": false,
     "hide_output_from_viewers": false,
     "type": "MD"
    }
   },
   "source": [
    "\n",
    "## 17."
   ]
  },
  {
   "cell_type": "code",
   "execution_count": 47,
   "metadata": {
    "datalore": {
     "hide_input_from_viewers": false,
     "hide_output_from_viewers": false,
     "type": "CODE"
    }
   },
   "outputs": [
    {
     "name": "stdout",
     "output_type": "stream",
     "text": [
      "+-------------+--------------------------------------+\n",
      "|      regiões|Distância de vôo acumulado (em milhas)|\n",
      "+-------------+--------------------------------------+\n",
      "|       ALASKA|                        1,762,553.0mls|\n",
      "|MAINLAND-EAST|                        4,378,902.0mls|\n",
      "|MAINLAND-WEST|                        5,940,061.0mls|\n",
      "+-------------+--------------------------------------+\n",
      "\n"
     ]
    }
   ],
   "source": [
    "transform_proc_df.groupBy(F.col('air2_region').alias('regiões')).agg(F.concat(F.format_number(F.sum('fl_distance'), 1), F.lit('mls')).alias('Distância de vôo acumulado (em milhas)')).show()"
   ]
  },
  {
   "attachments": {},
   "cell_type": "markdown",
   "metadata": {
    "datalore": {
     "hide_input_from_viewers": false,
     "hide_output_from_viewers": false,
     "type": "MD"
    }
   },
   "source": [
    "\n",
    "## 18."
   ]
  },
  {
   "attachments": {},
   "cell_type": "markdown",
   "metadata": {
    "datalore": {
     "hide_input_from_viewers": false,
     "hide_output_from_viewers": false,
     "type": "MD"
    }
   },
   "source": [
    "*Considerando que todos os aviões dos vôos estão em sua capacidade máxima de assentos*: "
   ]
  },
  {
   "cell_type": "code",
   "execution_count": 48,
   "metadata": {
    "datalore": {
     "hide_input_from_viewers": false,
     "hide_output_from_viewers": false,
     "type": "CODE"
    }
   },
   "outputs": [
    {
     "name": "stdout",
     "output_type": "stream",
     "text": [
      "+------+-------+------------------------------------+\n",
      "|Origem|Destino|Número médio de passageiros por rota|\n",
      "+------+-------+------------------------------------+\n",
      "|   SEA|    RNO|                                 142|\n",
      "|   SEA|    DTW|                                 213|\n",
      "|   SEA|    CLE|                                 182|\n",
      "|   SEA|    LAX|                                 155|\n",
      "|   PDX|    SEA|                                  65|\n",
      "|   SEA|    BLI|                                 164|\n",
      "|   PDX|    IAH|                                 183|\n",
      "|   PDX|    PHX|                                 196|\n",
      "|   SEA|    SLC|                                 166|\n",
      "|   SEA|    SBA|                                  80|\n",
      "|   SEA|    BWI|                                 152|\n",
      "|   PDX|    IAD|                                 188|\n",
      "|   PDX|    SFO|                                 139|\n",
      "|   SEA|    KOA|                                 171|\n",
      "|   PDX|    MCI|                                 147|\n",
      "|   SEA|    SJC|                                 137|\n",
      "|   SEA|    ABQ|                                 145|\n",
      "|   SEA|    SAT|                                 158|\n",
      "|   PDX|    ONT|                                  80|\n",
      "|   SEA|    LAS|                                 147|\n",
      "+------+-------+------------------------------------+\n",
      "only showing top 20 rows\n",
      "\n"
     ]
    }
   ],
   "source": [
    "transform_proc_df.groupBy(F.col('fl_origin').alias('Origem'), F.col('fl_dest').alias('Destino') ).agg(F.format_number(F.ceil(F.avg('pl_seats')), 0).alias('Número médio de passageiros por rota')).show()"
   ]
  },
  {
   "attachments": {},
   "cell_type": "markdown",
   "metadata": {
    "datalore": {
     "hide_input_from_viewers": false,
     "hide_output_from_viewers": false,
     "type": "MD"
    }
   },
   "source": [
    "\n",
    "## 19."
   ]
  },
  {
   "cell_type": "code",
   "execution_count": 49,
   "metadata": {
    "datalore": {
     "hide_input_from_viewers": false,
     "hide_output_from_viewers": false,
     "type": "CODE"
    }
   },
   "outputs": [
    {
     "name": "stdout",
     "output_type": "stream",
     "text": [
      "+----+---------------------------------------+\n",
      "| Ano|Número acumulado de passageiros por ano|\n",
      "+----+---------------------------------------+\n",
      "|2015|                                    149|\n",
      "|2014|                              1,509,395|\n",
      "+----+---------------------------------------+\n",
      "\n"
     ]
    }
   ],
   "source": [
    "transform_proc_df.groupBy(F.year(F.to_timestamp('fl_dep_datetime')).alias('Ano')).agg(F.format_number(F.ceil(F.sum('pl_seats')), 0).alias('Número acumulado de passageiros por ano')).show()"
   ]
  },
  {
   "attachments": {},
   "cell_type": "markdown",
   "metadata": {
    "datalore": {
     "hide_input_from_viewers": false,
     "hide_output_from_viewers": false,
     "type": "MD"
    }
   },
   "source": [
    "\n",
    "## 20."
   ]
  },
  {
   "cell_type": "code",
   "execution_count": 50,
   "metadata": {
    "datalore": {
     "hide_input_from_viewers": false,
     "hide_output_from_viewers": false,
     "type": "CODE"
    }
   },
   "outputs": [
    {
     "name": "stdout",
     "output_type": "stream",
     "text": [
      "+-------+---------------------+\n",
      "|Destino|Quantidade de viagens|\n",
      "+-------+---------------------+\n",
      "|    SFO|                  787|\n",
      "+-------+---------------------+\n",
      "only showing top 1 row\n",
      "\n"
     ]
    }
   ],
   "source": [
    "transform_proc_df.groupBy(F.col('fl_dest').alias('Destino')).count().orderBy(F.col('count').desc()).withColumnRenamed('count', 'Quantidade de viagens').show(1)"
   ]
  },
  {
   "attachments": {},
   "cell_type": "markdown",
   "metadata": {
    "datalore": {
     "hide_input_from_viewers": false,
     "hide_output_from_viewers": false,
     "type": "MD"
    }
   },
   "source": [
    "# 21."
   ]
  },
  {
   "cell_type": "code",
   "execution_count": 51,
   "metadata": {
    "datalore": {
     "hide_input_from_viewers": false,
     "hide_output_from_viewers": false,
     "type": "CODE"
    }
   },
   "outputs": [
    {
     "name": "stdout",
     "output_type": "stream",
     "text": [
      "+-------+-------------------------+\n",
      "|Destino|Quantidade de passageiros|\n",
      "+-------+-------------------------+\n",
      "|    SFO|                   119635|\n",
      "+-------+-------------------------+\n",
      "only showing top 1 row\n",
      "\n"
     ]
    }
   ],
   "source": [
    "transform_proc_df.groupBy(F.col('fl_dest').alias('Destino')).agg(F.sum('pl_seats').alias('sum_seats')).orderBy(F.col('sum_seats').desc()).withColumnRenamed('sum_seats', 'Quantidade de passageiros').show(1)"
   ]
  },
  {
   "attachments": {},
   "cell_type": "markdown",
   "metadata": {
    "datalore": {
     "hide_input_from_viewers": false,
     "hide_output_from_viewers": false,
     "type": "MD"
    }
   },
   "source": [
    "\n",
    "## 22."
   ]
  },
  {
   "cell_type": "code",
   "execution_count": 52,
   "metadata": {
    "datalore": {
     "hide_input_from_viewers": false,
     "hide_output_from_viewers": false,
     "type": "CODE"
    }
   },
   "outputs": [
    {
     "name": "stdout",
     "output_type": "stream",
     "text": [
      "+------+-------+-------------------+\n",
      "|Origem|Destino|Distância em milhas|\n",
      "+------+-------+-------------------+\n",
      "|   PDX|    LIH|        2,631.0 mls|\n",
      "+------+-------+-------------------+\n",
      "only showing top 1 row\n",
      "\n"
     ]
    }
   ],
   "source": [
    "transform_proc_df.select(F.col('fl_origin').alias('Origem'),F.col('fl_dest').alias('Destino'),F.concat(F.format_number(F.col('fl_distance'), 1), F.lit(' mls')).alias('Distância em milhas')).filter((F.col('fl_origin') == 'PDX')| \n",
    "(F.col('fl_dest') == 'PDX')).orderBy(F.col('fl_distance').desc()).show(1)"
   ]
  },
  {
   "attachments": {},
   "cell_type": "markdown",
   "metadata": {
    "datalore": {
     "hide_input_from_viewers": false,
     "hide_output_from_viewers": false,
     "type": "MD"
    }
   },
   "source": [
    "\n",
    "## 23."
   ]
  },
  {
   "cell_type": "code",
   "execution_count": 53,
   "metadata": {
    "datalore": {
     "hide_input_from_viewers": false,
     "hide_output_from_viewers": false,
     "type": "CODE"
    }
   },
   "outputs": [
    {
     "name": "stdout",
     "output_type": "stream",
     "text": [
      "+-------+----------------+\n",
      "|Destino|Total de viagens|\n",
      "+-------+----------------+\n",
      "|    SFO|             787|\n",
      "+-------+----------------+\n",
      "only showing top 1 row\n",
      "\n"
     ]
    }
   ],
   "source": [
    "transform_proc_df.groupBy(F.col('fl_dest').alias('Destino')).count().orderBy(F.col('count').desc()).withColumnRenamed('count', 'Total de viagens').show(1)"
   ]
  },
  {
   "attachments": {},
   "cell_type": "markdown",
   "metadata": {
    "datalore": {
     "hide_input_from_viewers": false,
     "hide_output_from_viewers": false,
     "type": "MD"
    }
   },
   "source": [
    "\n",
    "## 24."
   ]
  },
  {
   "cell_type": "code",
   "execution_count": 54,
   "metadata": {
    "datalore": {
     "hide_input_from_viewers": false,
     "hide_output_from_viewers": false,
     "type": "CODE"
    }
   },
   "outputs": [
    {
     "name": "stdout",
     "output_type": "stream",
     "text": [
      "+-------+----------+\n",
      "| Modelo|Quantidade|\n",
      "+-------+----------+\n",
      "|737-890|      1463|\n",
      "+-------+----------+\n",
      "only showing top 1 row\n",
      "\n"
     ]
    }
   ],
   "source": [
    "transform_proc_df.select('*').groupBy(F.col('pl_model').alias('Modelo')).count().orderBy(F.col('count').desc()).withColumnRenamed('count', 'Quantidade').show(1)"
   ]
  },
  {
   "attachments": {},
   "cell_type": "markdown",
   "metadata": {
    "datalore": {
     "hide_input_from_viewers": false,
     "hide_output_from_viewers": false,
     "type": "MD"
    }
   },
   "source": [
    "\n",
    "## 25."
   ]
  },
  {
   "cell_type": "code",
   "execution_count": 55,
   "metadata": {
    "datalore": {
     "hide_input_from_viewers": false,
     "hide_output_from_viewers": false,
     "type": "CODE"
    }
   },
   "outputs": [
    {
     "name": "stdout",
     "output_type": "stream",
     "text": [
      "+-------+-------+----------+\n",
      "|Destino| Modelo|Quantidade|\n",
      "+-------+-------+----------+\n",
      "|    OAK|737-7H4|       141|\n",
      "+-------+-------+----------+\n",
      "only showing top 1 row\n",
      "\n"
     ]
    }
   ],
   "source": [
    "transform_proc_df.filter(F.col('pl_model').isNotNull()).groupBy(F.col('fl_dest').alias('Destino'), F.col('pl_model').alias('Modelo')).count().orderBy(F.col('count').desc()).withColumnRenamed('count', 'Quantidade').show(1)"
   ]
  },
  {
   "attachments": {},
   "cell_type": "markdown",
   "metadata": {
    "datalore": {
     "hide_input_from_viewers": false,
     "hide_output_from_viewers": false,
     "type": "MD"
    }
   },
   "source": [
    "\n",
    "## 26."
   ]
  },
  {
   "cell_type": "code",
   "execution_count": 56,
   "metadata": {
    "datalore": {
     "hide_input_from_viewers": false,
     "hide_output_from_viewers": false,
     "type": "CODE"
    }
   },
   "outputs": [
    {
     "name": "stdout",
     "output_type": "stream",
     "text": [
      "+-------------+-----------------------+\n",
      "|Haul Duration|Número médio de motores|\n",
      "+-------------+-----------------------+\n",
      "|    LONG-HAUL|                      2|\n",
      "|  MEDIUM-HAUL|                      2|\n",
      "|   SHORT-HAUL|                      2|\n",
      "+-------------+-----------------------+\n",
      "\n"
     ]
    }
   ],
   "source": [
    "transform_proc_df.groupBy(F.col('fl_haul_duration').alias('Haul Duration')).agg(F.ceil(F.avg('pl_engines')).alias('Número médio de motores')).show()"
   ]
  },
  {
   "attachments": {},
   "cell_type": "markdown",
   "metadata": {
    "datalore": {
     "hide_input_from_viewers": false,
     "hide_output_from_viewers": false,
     "type": "MD"
    }
   },
   "source": [
    "\n",
    "## 27."
   ]
  },
  {
   "cell_type": "code",
   "execution_count": 57,
   "metadata": {
    "datalore": {
     "hide_input_from_viewers": false,
     "hide_output_from_viewers": false,
     "type": "CODE"
    }
   },
   "outputs": [
    {
     "name": "stdout",
     "output_type": "stream",
     "text": [
      "+--------------+------------------+\n",
      "|Estação do ano|Quantidade de vôos|\n",
      "+--------------+------------------+\n",
      "|        SUMMER|              2918|\n",
      "+--------------+------------------+\n",
      "only showing top 1 row\n",
      "\n"
     ]
    }
   ],
   "source": [
    "transform_proc_df.groupBy(F.col('fl_dep_season').alias('Estação do ano')).count().orderBy(F.col('count').desc()).withColumnRenamed('count', 'Quantidade de vôos').show(1) "
   ]
  },
  {
   "attachments": {},
   "cell_type": "markdown",
   "metadata": {
    "datalore": {
     "hide_input_from_viewers": false,
     "hide_output_from_viewers": false,
     "type": "MD"
    }
   },
   "source": [
    "\n",
    "## 28."
   ]
  },
  {
   "cell_type": "code",
   "execution_count": 58,
   "metadata": {
    "datalore": {
     "hide_input_from_viewers": false,
     "hide_output_from_viewers": false,
     "type": "CODE"
    }
   },
   "outputs": [],
   "source": [
    "data = transform_proc_df.groupBy(F.col('fl_dep_season'), F.col('fl_dest')).count().orderBy(F.col('count').desc())"
   ]
  },
  {
   "cell_type": "code",
   "execution_count": 59,
   "metadata": {
    "datalore": {
     "hide_input_from_viewers": false,
     "hide_output_from_viewers": false,
     "type": "CODE"
    }
   },
   "outputs": [],
   "source": [
    "maxs =  data.groupBy(F.col('fl_dest').alias('max_fl_dest')).agg(F.max('count').alias('max')).alias('maxs')\n",
    "\n",
    "result = data.join(maxs,\n",
    "             F.col('count') == F.col('max') \n",
    "         ).select('*')"
   ]
  },
  {
   "cell_type": "code",
   "execution_count": 60,
   "metadata": {
    "datalore": {
     "hide_input_from_viewers": false,
     "hide_output_from_viewers": false,
     "type": "CODE"
    }
   },
   "outputs": [
    {
     "name": "stdout",
     "output_type": "stream",
     "text": [
      "+--------------+-------+----------+\n",
      "|Estação do Ano|Destino|Quantidade|\n",
      "+--------------+-------+----------+\n",
      "|        SUMMER|    SFO|       217|\n",
      "|        SPRING|    LAX|       176|\n",
      "|        SUMMER|    DEN|       172|\n",
      "|        SPRING|    PHX|       148|\n",
      "|        SPRING|    LAS|       145|\n",
      "|          FALL|    DEN|       145|\n",
      "|        SPRING|    LAS|       145|\n",
      "|        SUMMER|    ANC|       145|\n",
      "|          FALL|    DEN|       145|\n",
      "|        SUMMER|    ANC|       145|\n",
      "|        SUMMER|    ORD|       129|\n",
      "|        SUMMER|    DFW|       122|\n",
      "|        SUMMER|    SJC|       120|\n",
      "|        SPRING|    SLC|       107|\n",
      "|        SUMMER|    SAN|       100|\n",
      "|          FALL|    OAK|        96|\n",
      "|        SUMMER|    SMF|        91|\n",
      "|        SUMMER|    ATL|        86|\n",
      "|        SPRING|    DFW|        86|\n",
      "|          FALL|    MSP|        68|\n",
      "+--------------+-------+----------+\n",
      "only showing top 20 rows\n",
      "\n"
     ]
    }
   ],
   "source": [
    "result.select(F.col('fl_dep_season').alias('Estação do Ano'), F.col('fl_dest').alias('Destino'), F.col('count').alias('Quantidade')).orderBy(F.col('max').desc()).show()"
   ]
  },
  {
   "attachments": {},
   "cell_type": "markdown",
   "metadata": {
    "datalore": {
     "hide_input_from_viewers": false,
     "hide_output_from_viewers": false,
     "type": "MD"
    }
   },
   "source": [
    "\n",
    "## 29."
   ]
  },
  {
   "cell_type": "code",
   "execution_count": 68,
   "metadata": {
    "datalore": {
     "hide_input_from_viewers": false,
     "hide_output_from_viewers": false,
     "type": "CODE"
    }
   },
   "outputs": [
    {
     "name": "stdout",
     "output_type": "stream",
     "text": [
      "+---------------------+----------+\n",
      "|fl_dep_delay_category|Quantidade|\n",
      "+---------------------+----------+\n",
      "|          ANTECIPATED|      5894|\n",
      "|                MINOR|      3065|\n",
      "|               INTIME|       646|\n",
      "|                MAJOR|       395|\n",
      "+---------------------+----------+\n",
      "\n"
     ]
    }
   ],
   "source": [
    "\n",
    "transform_proc_df.groupBy('fl_dep_delay_category').count().orderBy(F.col('count').desc()).withColumnRenamed('count', 'Quantidade').show()"
   ]
  },
  {
   "cell_type": "code",
   "execution_count": 56,
   "metadata": {
    "datalore": {
     "hide_input_from_viewers": false,
     "hide_output_from_viewers": false,
     "type": "CODE"
    }
   },
   "outputs": [
    {
     "name": "stdout",
     "output_type": "stream",
     "text": [
      "+-------+--------+------+-----------+------------+-----------+------------+----------+----------+---------+---------+----------+-----------+-----------+-------+---------+--------------------+-----------------+------------------+-------------------+-------------+------------+-----------------+--------------+--------------+-------------+\n",
      "|fl_year|fl_month|fl_day|fl_dep_time|fl_dep_delay|fl_arr_time|fl_arr_delay|fl_carrier|fl_tailnum|fl_flight|fl_origin|fl_destiny|fl_air_time|fl_distance|fl_hour|fl_minute|fl_qa_year_month_day|fl_qa_hour_minute|fl_qa_dep_arr_time|fl_qa_dep_arr_delay|fl_qa_carrier|fl_qa_flight|fl_qa_origin_dest|fl_qa_air_time|fl_qa_distance|fl_qa_airtime|\n",
      "+-------+--------+------+-----------+------------+-----------+------------+----------+----------+---------+---------+----------+-----------+-----------+-------+---------+--------------------+-----------------+------------------+-------------------+-------------+------------+-----------------+--------------+--------------+-------------+\n",
      "|   2014|      12|     8|        658|          -7|        935|          -5|        VX|    N846VA|     1780|      SEA|       LAX|        132|        954|      6|       58|                null|             null|              null|               null|           VX|        1780|             null|           132|           954|           TL|\n",
      "|   2014|       1|    22|       1040|           5|       1505|           5|        AS|    N559AS|      851|      SEA|       HNL|        360|       2677|     10|       40|                null|             null|              null|               null|           AS|           F|             null|           360|          2677|           TL|\n",
      "|   2014|       3|     9|       1443|          -2|       1652|           2|        VX|    N847VA|      755|      SEA|       SFO|        111|        679|     14|       43|                null|             null|              null|               null|           VX|           F|             null|           111|           679|           TL|\n",
      "|   2014|       4|     9|       1705|          45|       1839|          34|        WN|    N360SW|      344|      PDX|       SJC|         83|        569|     17|        5|                null|             null|              null|               null|           WN|           F|             null|            83|           569|           TR|\n",
      "|   2014|       3|     9|        754|          -1|       1015|           1|        AS|    N612AS|      522|      SEA|       BUR|        127|        937|      7|       54|                null|             null|              null|               null|           AS|           F|             null|           127|           937|           TL|\n",
      "|   2014|       1|    15|       1037|           7|       1352|           2|        WN|    N646SW|       48|      PDX|       DEN|        121|        991|     10|       37|                null|             null|              null|               null|           WN|           F|             null|           121|           991|           TR|\n",
      "|   2014|       7|     2|        847|          42|       1041|          51|        WN|    N422WN|     1520|      PDX|       OAK|         90|        543|      8|       47|                null|             null|              null|               null|           WN|        1520|             null|            90|           543|           TL|\n",
      "|   2014|       5|    12|       1655|          -5|       1842|         -18|        VX|    N361VA|      755|      SEA|       SFO|         98|        679|     16|       55|                null|             null|              null|               null|           VX|           F|             null|            98|           679|           TL|\n",
      "|   2014|       4|    19|       1236|          -4|       1508|          -7|        AS|    N309AS|      490|      SEA|       SAN|        135|       1050|     12|       36|                null|             null|              null|               null|           AS|           F|             null|           135|          1050|           TL|\n",
      "|   2014|      11|    19|       1812|          -3|       2352|          -4|        AS|    N564AS|       26|      SEA|       ORD|        198|       1721|     18|       12|                null|             null|              null|               null|           AS|           F|             null|           198|          1721|           TR|\n",
      "|   2014|      11|     8|       1653|          -2|       1924|          -1|        AS|    N323AS|      448|      SEA|       LAX|        130|        954|     16|       53|                null|             null|              null|               null|           AS|           F|             null|           130|           954|           TL|\n",
      "|   2014|       8|     3|       1120|           0|       1415|           2|        AS|    N305AS|      656|      SEA|       PHX|        154|       1107|     11|       20|                null|             null|              null|               null|           AS|           F|             null|           154|          1107|           TL|\n",
      "|   2014|      10|    30|        811|          21|       1038|          29|        AS|    N433AS|      608|      SEA|       LAS|        127|        867|      8|       11|                null|             null|              null|               null|           AS|           F|             null|           127|           867|           TL|\n",
      "|   2014|      11|    12|       2346|          -4|        217|         -28|        AS|    N765AS|      121|      SEA|       ANC|        183|       1448|     23|       46|                null|             null|              null|               null|           AS|           F|             null|           183|          1448|           TL|\n",
      "|   2014|      10|    31|       1314|          89|       1544|         111|        AS|    N713AS|      306|      SEA|       SFO|        129|        679|     13|       14|                null|             null|              null|               null|           AS|           F|             null|           129|           679|           TL|\n",
      "|   2014|       1|    29|       2009|           3|       2159|           9|        UA|    N27205|     1458|      PDX|       SFO|         90|        550|     20|        9|                null|             null|              null|               null|           UA|        1458|             null|            90|           550|           TL|\n",
      "|   2014|      12|    17|       2015|          50|       2150|          41|        AS|    N626AS|      368|      SEA|       SMF|         76|        605|     20|       15|                null|             null|              null|               null|           AS|           F|             null|            76|           605|           TR|\n",
      "|   2014|       8|    11|       1017|          -3|       1613|          -7|        WN|    N8634A|      827|      SEA|       MDW|        216|       1733|     10|       17|                null|             null|              null|               null|           WN|           F|             null|           216|          1733|           TL|\n",
      "|   2014|       1|    13|       2156|          -9|        607|         -15|        AS|    N597AS|       24|      SEA|       BOS|        290|       2496|     21|       56|                null|             null|              null|               null|           AS|           F|             null|           290|          2496|           TL|\n",
      "|   2014|       6|     5|       1733|         -12|       1945|         -10|        OO|    N215AG|     3488|      PDX|       BUR|        111|        817|     17|       33|                null|             null|              null|               null|           OO|        3488|             null|           111|           817|           TR|\n",
      "+-------+--------+------+-----------+------------+-----------+------------+----------+----------+---------+---------+----------+-----------+-----------+-------+---------+--------------------+-----------------+------------------+-------------------+-------------+------------+-----------------+--------------+--------------+-------------+\n",
      "only showing top 20 rows\n",
      "\n"
     ]
    }
   ],
   "source": [
    "\n",
    "flights_qa.show()"
   ]
  },
  {
   "attachments": {},
   "cell_type": "markdown",
   "metadata": {
    "datalore": {
     "hide_input_from_viewers": false,
     "hide_output_from_viewers": false,
     "type": "MD"
    }
   },
   "source": [
    "\n",
    "## 30."
   ]
  },
  {
   "cell_type": "code",
   "execution_count": 69,
   "metadata": {
    "datalore": {
     "hide_input_from_viewers": false,
     "hide_output_from_viewers": false,
     "type": "CODE"
    }
   },
   "outputs": [],
   "source": [
    "data = transform_proc_df.groupBy(F.col('fl_dep_delay_category'), F.col('fl_origin'), F.col('fl_dest'))\\\n",
    "                        .count()\\\n",
    "                        .orderBy(F.col('count').desc())"
   ]
  },
  {
   "cell_type": "code",
   "execution_count": 70,
   "metadata": {
    "datalore": {
     "hide_input_from_viewers": false,
     "hide_output_from_viewers": false,
     "type": "CODE"
    }
   },
   "outputs": [],
   "source": [
    "maxs =  data.groupBy(F.col('fl_origin').alias('max_fl_origin'), F.col('fl_dest').alias('max_fl_dest')).agg(F.max('count').alias('max')).alias('maxs')\n",
    "\n",
    "results = data.join(maxs,data['count'] == maxs['max'], 'inner')"
   ]
  },
  {
   "cell_type": "code",
   "execution_count": 71,
   "metadata": {
    "datalore": {
     "hide_input_from_viewers": false,
     "hide_output_from_viewers": false,
     "type": "CODE"
    }
   },
   "outputs": [
    {
     "name": "stdout",
     "output_type": "stream",
     "text": [
      "+-----------+------+-------+----------+\n",
      "|  Categoria|Origem|Destino|Quantidade|\n",
      "+-----------+------+-------+----------+\n",
      "|ANTECIPATED|   SEA|    LAX|       293|\n",
      "|ANTECIPATED|   SEA|    SFO|       245|\n",
      "|ANTECIPATED|   SEA|    LAS|       228|\n",
      "|ANTECIPATED|   SEA|    PHX|       195|\n",
      "|ANTECIPATED|   SEA|    ANC|       192|\n",
      "|ANTECIPATED|   PDX|    SFO|       174|\n",
      "|ANTECIPATED|   SEA|    DEN|       169|\n",
      "|ANTECIPATED|   SEA|    ORD|       167|\n",
      "|ANTECIPATED|   PDX|    PHX|       136|\n",
      "|ANTECIPATED|   SEA|    SJC|       135|\n",
      "|ANTECIPATED|   PDX|    DEN|       135|\n",
      "|ANTECIPATED|   PDX|    DEN|       135|\n",
      "|ANTECIPATED|   SEA|    SJC|       135|\n",
      "|ANTECIPATED|   SEA|    DFW|       134|\n",
      "|ANTECIPATED|   PDX|    LAX|       126|\n",
      "|ANTECIPATED|   PDX|    LAX|       126|\n",
      "|ANTECIPATED|   PDX|    LAX|       126|\n",
      "|ANTECIPATED|   SEA|    SLC|       126|\n",
      "|ANTECIPATED|   SEA|    SLC|       126|\n",
      "|ANTECIPATED|   SEA|    PDX|       126|\n",
      "+-----------+------+-------+----------+\n",
      "only showing top 20 rows\n",
      "\n"
     ]
    }
   ],
   "source": [
    "\n",
    "results.select(F.col('fl_dep_delay_category').alias('Categoria'), F.col('fl_origin').alias('Origem'), F.col('fl_dest').alias('Destino'), F.col('count').alias('Quantidade'))\\\n",
    "       .orderBy(F.col('count').desc())\\\n",
    "       .show()"
   ]
  }
 ],
 "metadata": {
  "datalore": {
   "base_environment": "default",
   "computation_mode": "JUPYTER",
   "package_manager": "pip",
   "packages": [],
   "version": 1
  },
  "language_info": {
   "name": "python"
  }
 },
 "nbformat": 4,
 "nbformat_minor": 4
}
