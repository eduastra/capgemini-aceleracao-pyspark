{
 "cells": [
  {
   "attachments": {},
   "cell_type": "markdown",
   "metadata": {
    "datalore": {
     "hide_input_from_viewers": false,
     "hide_output_from_viewers": false,
     "type": "MD"
    }
   },
   "source": [
    "Considere o dataset airports.csv para realizar as seguintes tarefas:"
   ]
  },
  {
   "attachments": {},
   "cell_type": "markdown",
   "metadata": {
    "datalore": {
     "hide_input_from_viewers": false,
     "hide_output_from_viewers": false,
     "type": "MD"
    }
   },
   "source": [
    "# STARTUP"
   ]
  },
  {
   "cell_type": "code",
   "execution_count": 2,
   "metadata": {
    "datalore": {
     "hide_input_from_viewers": false,
     "hide_output_from_viewers": false,
     "type": "CODE"
    }
   },
   "outputs": [
    {
     "name": "stdout",
     "output_type": "stream",
     "text": [
      "Requirement already satisfied: pyspark in /opt/python/envs/default/lib/python3.8/site-packages (3.2.0)\r\n",
      "Requirement already satisfied: py4j==0.10.9.2 in /opt/python/envs/default/lib/python3.8/site-packages (from pyspark) (0.10.9.2)\r\n",
      "\u001b[33mWARNING: You are using pip version 21.3.1; however, version 22.0.4 is available.\r\n",
      "You should consider upgrading via the '/opt/python/envs/default/bin/python -m pip install --upgrade pip' command.\u001b[0m\r\n",
      "Collecting findspark\r\n",
      "  Downloading findspark-2.0.1-py2.py3-none-any.whl (4.4 kB)\r\n",
      "Installing collected packages: findspark\r\n",
      "Successfully installed findspark-2.0.1\r\n",
      "\u001b[33mWARNING: You are using pip version 21.3.1; however, version 22.0.4 is available.\r\n",
      "You should consider upgrading via the '/opt/python/envs/default/bin/python -m pip install --upgrade pip' command.\u001b[0m\r\n"
     ]
    }
   ],
   "source": [
    "# Installing required packages\n",
    "!pip install pyspark\n",
    "!pip install findspark"
   ]
  },
  {
   "cell_type": "code",
   "execution_count": 3,
   "metadata": {
    "datalore": {
     "hide_input_from_viewers": false,
     "hide_output_from_viewers": false,
     "type": "CODE"
    }
   },
   "outputs": [],
   "source": [
    "import findspark\n",
    "findspark.init()"
   ]
  },
  {
   "cell_type": "code",
   "execution_count": 4,
   "metadata": {
    "datalore": {
     "hide_input_from_viewers": false,
     "hide_output_from_viewers": false,
     "type": "CODE"
    }
   },
   "outputs": [],
   "source": [
    "import re\n",
    "from pyspark import SparkContext, SparkConf\n",
    "from pyspark.sql import SparkSession\n",
    "from pyspark.sql import functions as F\n",
    "from pyspark.sql.types import StructType, StructField, StringType, IntegerType, FloatType"
   ]
  },
  {
   "cell_type": "code",
   "execution_count": 5,
   "metadata": {
    "datalore": {
     "hide_input_from_viewers": false,
     "hide_output_from_viewers": false,
     "type": "CODE"
    }
   },
   "outputs": [],
   "source": [
    "# Expressoes regulares comuns, pode-ser melhoradda\n",
    "REGEX_ALPHA    = r'[:aplha:]+'\n",
    "REGEX_INTEGER  = r'[:digit:]+'\n",
    "REGEX_FLOAT    = r'[:digit:]+\\.[:digit:]+'\n",
    "REGEX_ALPHANUM = r'[:alnum:]+'\n",
    "REGEX_EMPTY_STR= r'[:space:]+$'\n",
    "REGEX_SPECIAL  = r'[:punct:]+'\n",
    "REGEX_NNUMBER  = r'^N[1-9][0-9]{2,3}([ABCDEFGHJKLMNPRSTUVXWYZ]{1,2})'\n",
    "REGEX_NNUMBER_INVALID = r'(N0.*$)|(.*[IO].*)'\n",
    "#no inicio da linha pode ser [0-1]?[0-9])|(2[0-3]), no final ([0-5][0-9])$\n",
    "REGEX_TIME_FMT = r'^(([0-1]?[0-9])|(2[0-3]))([0-5][0-9])$'"
   ]
  },
  {
   "cell_type": "code",
   "execution_count": 6,
   "metadata": {
    "datalore": {
     "hide_input_from_viewers": false,
     "hide_output_from_viewers": false,
     "type": "CODE"
    }
   },
   "outputs": [],
   "source": [
    "# Criar o contexto do spark\n",
    "sc = SparkContext()\n",
    "\n",
    "# Instancia do criador de sessao do spark\n",
    "spark = (SparkSession.builder\n",
    "                     .master(\"local[]\")\n",
    "                     .appName(\"Desafio Transformação - Week 3\"))"
   ]
  },
  {
   "cell_type": "code",
   "execution_count": 7,
   "metadata": {
    "datalore": {
     "hide_input_from_viewers": false,
     "hide_output_from_viewers": false,
     "type": "CODE"
    }
   },
   "outputs": [],
   "source": [
    "import re\n",
    "#helper functions\n",
    "def check_empty_column(col):\n",
    "    return (F.col(col).isNull() | (F.col(col) == '') | F.col(col).rlike(REGEX_EMPTY_STR))\n",
    "\n",
    "def check_column_range(col, from_value, to_value ):#, leftInclusive = False, rightIncluse = False):\n",
    "    check_range_expression = \"(\" + str(F.col(col)) + (\" >= \" if leftInclusive else \" > \") + str(from_value) + \" and \" \\\n",
    "                                 + str(F.col(col)) + (\" <= \" if rightIncluse  else \" < \") +\")\" \n",
    "    return eval(check_range_expression)\n",
    "    \n",
    "def create_regex_from_list(_list):\n",
    "    return r'|'.join(map(lambda x : f\".*({x}).*\", _list))\n",
    "\n",
    "tailnum_chars = F.udf(lambda value: ''.join([c for c in value if not c.isdigit()])[1:])\n",
    "\n",
    "@F.udf\n",
    "def get_byregex_and_extract(r_pattern, col_to_search):\n",
    "    return (getattr(re.search(r_pattern, F.col(col_to_search), re.IGNORECASE), 'groups', lambda:[\"\"])()[0].upper())\n",
    "\n",
    "getbyreg = F.udf(lambda r_pattern,col_to_search: getattr(re.search(r_pattern, col_to_search, re.IGNORECASE), 'groups', lambda:[u\"\"])()[0].upper())"
   ]
  },
  {
   "cell_type": "code",
   "execution_count": 8,
   "metadata": {
    "datalore": {
     "hide_input_from_viewers": false,
     "hide_output_from_viewers": false,
     "type": "CODE"
    }
   },
   "outputs": [],
   "source": [
    "schema_airports = StructType([\n",
    "    StructField(\"faa\",  StringType(),  True),\n",
    "    StructField(\"name\", StringType(),  True),\n",
    "    StructField(\"lat\",  FloatType(),   True),\n",
    "    StructField(\"lon\",  FloatType(),   True),\n",
    "    StructField(\"alt\",  IntegerType(), True),\n",
    "    StructField(\"tz\",   IntegerType(), True),\n",
    "    StructField(\"dst\",  StringType(),  True)\n",
    "])\n",
    "\n",
    "schema_planes = StructType([\n",
    "    StructField(\"tailnum\",      StringType(),  True),\n",
    "    StructField(\"year\",         IntegerType(), True),\n",
    "    StructField(\"type\",         StringType(),  True),\n",
    "    StructField(\"manufacturer\", StringType(),  True),\n",
    "    StructField(\"model\",        StringType(),  True),\n",
    "    StructField(\"engines\",      IntegerType(), True),\n",
    "    StructField(\"seats\",        IntegerType(), True),\n",
    "    StructField(\"speed\",        IntegerType(), True),\n",
    "    StructField(\"engine\",       StringType(),  True)\n",
    "])\n",
    "\n",
    "schema_flights = StructType([\n",
    "    StructField(\"year\",      IntegerType(), True),\n",
    "    StructField(\"month\",     IntegerType(), True),\n",
    "    StructField(\"day\",       IntegerType(), True),\n",
    "    StructField(\"dep_time\",  StringType(),  True),\n",
    "    StructField(\"dep_delay\", IntegerType(), True),\n",
    "    StructField(\"arr_time\",  StringType(),  True),\n",
    "    StructField(\"arr_delay\", IntegerType(), True),\n",
    "    StructField(\"carrier\",   StringType(),  True),\n",
    "    StructField(\"tailnum\",   StringType(),  True),\n",
    "    StructField(\"flight\",    StringType(),  True),\n",
    "    StructField(\"origin\",    StringType(),  True),\n",
    "    StructField(\"dest\",      StringType(),  True),\n",
    "    StructField(\"air_time\",  IntegerType(), True),\n",
    "    StructField(\"distance\",  IntegerType(), True),\n",
    "    StructField(\"hour\",      IntegerType(), True),\n",
    "    StructField(\"minute\",    IntegerType(), True),\n",
    "])"
   ]
  },
  {
   "cell_type": "code",
   "execution_count": 9,
   "metadata": {
    "datalore": {
     "hide_input_from_viewers": false,
     "hide_output_from_viewers": false,
     "type": "CODE"
    }
   },
   "outputs": [],
   "source": [
    "df_airports = (spark.getOrCreate().read\n",
    "               .format('csv')\n",
    "               .option(\"inferSchema\", \"false\") \n",
    "               .option('header', \"true\")\n",
    "               .schema(schema_airports)\n",
    "               .load('./airports.csv'))\n",
    "df_planes = (spark.getOrCreate().read\n",
    "             .format('csv')\n",
    "             .option('inferSchema', 'false')\n",
    "             .option('header', 'true')\n",
    "             .schema(schema_planes)\n",
    "             .load('./planes.csv'))\n",
    "df_flights = (spark.getOrCreate().read\n",
    "              .format('csv')\n",
    "              .option(\"inferSchema\", \"false\")\n",
    "              .option(\"header\", \"true\")\n",
    "              .load('./flights.csv'))"
   ]
  },
  {
   "cell_type": "code",
   "execution_count": 10,
   "metadata": {
    "datalore": {
     "hide_input_from_viewers": false,
     "hide_output_from_viewers": false,
     "type": "CODE"
    }
   },
   "outputs": [],
   "source": [
    "df_airports.createOrReplaceTempView('airports_view')\n",
    "df_flights.createOrReplaceTempView('flights_view')\n",
    "df_planes.createOrReplaceTempView('planes_view')"
   ]
  },
  {
   "cell_type": "code",
   "execution_count": 11,
   "metadata": {
    "datalore": {
     "hide_input_from_viewers": false,
     "hide_output_from_viewers": false,
     "type": "CODE"
    }
   },
   "outputs": [],
   "source": [
    "#RDDs\n",
    "rdd_airports   = df_airports.rdd\n",
    "rdd_df_planes  = df_planes.rdd\n",
    "rdd_df_flights = df_flights.rdd"
   ]
  },
  {
   "cell_type": "code",
   "execution_count": 12,
   "metadata": {
    "datalore": {
     "hide_input_from_viewers": false,
     "hide_output_from_viewers": false,
     "type": "CODE"
    }
   },
   "outputs": [
    {
     "name": "stdout",
     "output_type": "stream",
     "text": [
      "+---+--------------------+---------+-----------+----+---+---+\n",
      "|faa|                name|      lat|        lon| alt| tz|dst|\n",
      "+---+--------------------+---------+-----------+----+---+---+\n",
      "|04G|   Lansdowne Airport|41.130474|  -80.61958|1044| -5|  A|\n",
      "|06A|Moton Field Munic...| 32.46057|  -85.68003| 264| -5|  A|\n",
      "|06C| Schaumburg Regional| 41.98934|  -88.10124| 801| -6|  A|\n",
      "|06N|     Randall Airport| 41.43191|  -74.39156| 523| -5|  A|\n",
      "|09J|Jekyll Island Air...|31.074472|  -81.42778|  11| -4|  A|\n",
      "|0A9|Elizabethton Muni...|36.371223| -82.173416|1593| -4|  A|\n",
      "|0G6|Williams County A...|41.467304| -84.506775| 730| -5|  A|\n",
      "|0G7|Finger Lakes Regi...|42.883564| -76.781235| 492| -5|  A|\n",
      "|0P2|Shoestring Aviati...|39.794823| -76.647194|1000| -5|  U|\n",
      "|0S9|Jefferson County ...| 48.05381|-122.810646| 108| -8|  A|\n",
      "|0W3|Harford County Ai...|39.566837|   -76.2024| 409| -5|  A|\n",
      "|10C|  Galt Field Airport| 42.40289| -88.375114| 875| -6|  U|\n",
      "|17G|Port Bucyrus-Craw...|40.781555|  -82.97481|1003| -5|  A|\n",
      "|19A|Jackson County Ai...|34.175865|   -83.5616| 951| -4|  U|\n",
      "|1A3|Martin Campbell F...|35.015804|  -84.34683|1789| -4|  A|\n",
      "|1B9| Mansfield Municipal|42.000134|  -71.19677| 122| -5|  A|\n",
      "|1C9|Frazier Lake Airpark|54.013332| -124.76833| 152| -8|  A|\n",
      "|1CS|Clow Internationa...|41.695976| -88.129234| 670| -6|  U|\n",
      "|1G3|  Kent State Airport| 41.15139|  -81.41511|1134| -4|  A|\n",
      "|1OH|     Fortman Airport|40.555325|  -84.38662| 885| -5|  U|\n",
      "+---+--------------------+---------+-----------+----+---+---+\n",
      "only showing top 20 rows\n",
      "\n"
     ]
    }
   ],
   "source": [
    "#para ver o dataframe\n",
    "df_airports.show(20)"
   ]
  },
  {
   "cell_type": "code",
   "execution_count": 13,
   "metadata": {
    "datalore": {
     "hide_input_from_viewers": false,
     "hide_output_from_viewers": false,
     "type": "CODE"
    }
   },
   "outputs": [
    {
     "data": {
      "text/plain": [
       "[Row(faa='04G', name='Lansdowne Airport', lat=41.13047409057617, lon=-80.61958312988281, alt=1044, tz=-5, dst='A'),\n",
       " Row(faa='06A', name='Moton Field Municipal Airport', lat=32.4605712890625, lon=-85.6800308227539, alt=264, tz=-5, dst='A'),\n",
       " Row(faa='06C', name='Schaumburg Regional', lat=41.989341735839844, lon=-88.10124206542969, alt=801, tz=-6, dst='A'),\n",
       " Row(faa='06N', name='Randall Airport', lat=41.43191146850586, lon=-74.39156341552734, alt=523, tz=-5, dst='A'),\n",
       " Row(faa='09J', name='Jekyll Island Airport', lat=31.074472427368164, lon=-81.42778015136719, alt=11, tz=-4, dst='A'),\n",
       " Row(faa='0A9', name='Elizabethton Municipal Airport', lat=36.37122344970703, lon=-82.17341613769531, alt=1593, tz=-4, dst='A'),\n",
       " Row(faa='0G6', name='Williams County Airport', lat=41.46730422973633, lon=-84.50677490234375, alt=730, tz=-5, dst='A'),\n",
       " Row(faa='0G7', name='Finger Lakes Regional Airport', lat=42.88356399536133, lon=-76.78123474121094, alt=492, tz=-5, dst='A'),\n",
       " Row(faa='0P2', name='Shoestring Aviation Airfield', lat=39.794822692871094, lon=-76.6471939086914, alt=1000, tz=-5, dst='U'),\n",
       " Row(faa='0S9', name='Jefferson County Intl', lat=48.053810119628906, lon=-122.8106460571289, alt=108, tz=-8, dst='A'),\n",
       " Row(faa='0W3', name='Harford County Airport', lat=39.566837310791016, lon=-76.20240020751953, alt=409, tz=-5, dst='A'),\n",
       " Row(faa='10C', name='Galt Field Airport', lat=42.402889251708984, lon=-88.37511444091797, alt=875, tz=-6, dst='U'),\n",
       " Row(faa='17G', name='Port Bucyrus-Crawford County Airport', lat=40.78155517578125, lon=-82.97480773925781, alt=1003, tz=-5, dst='A'),\n",
       " Row(faa='19A', name='Jackson County Airport', lat=34.175865173339844, lon=-83.56159973144531, alt=951, tz=-4, dst='U'),\n",
       " Row(faa='1A3', name='Martin Campbell Field Airport', lat=35.015804290771484, lon=-84.34683227539062, alt=1789, tz=-4, dst='A'),\n",
       " Row(faa='1B9', name='Mansfield Municipal', lat=42.0001335144043, lon=-71.19676971435547, alt=122, tz=-5, dst='A'),\n",
       " Row(faa='1C9', name='Frazier Lake Airpark', lat=54.01333236694336, lon=-124.7683334350586, alt=152, tz=-8, dst='A'),\n",
       " Row(faa='1CS', name='Clow International Airport', lat=41.69597625732422, lon=-88.12923431396484, alt=670, tz=-6, dst='U'),\n",
       " Row(faa='1G3', name='Kent State Airport', lat=41.151390075683594, lon=-81.41510772705078, alt=1134, tz=-4, dst='A'),\n",
       " Row(faa='1OH', name='Fortman Airport', lat=40.55532455444336, lon=-84.3866195678711, alt=885, tz=-5, dst='U')]"
      ]
     },
     "metadata": {},
     "output_type": "display_data"
    }
   ],
   "source": [
    "df_airports.rdd.take(20)"
   ]
  },
  {
   "attachments": {},
   "cell_type": "markdown",
   "metadata": {
    "datalore": {
     "hide_input_from_viewers": false,
     "hide_output_from_viewers": false,
     "type": "MD"
    }
   },
   "source": [
    "# 1."
   ]
  },
  {
   "cell_type": "code",
   "execution_count": 14,
   "metadata": {
    "datalore": {
     "hide_input_from_viewers": false,
     "hide_output_from_viewers": false,
     "type": "CODE"
    }
   },
   "outputs": [
    {
     "name": "stdout",
     "output_type": "stream",
     "text": [
      "+---+--------------------+---------+----------+---+---+---+\n",
      "|faa|                name|      lat|       lon|alt| tz|dst|\n",
      "+---+--------------------+---------+----------+---+---+---+\n",
      "|AGN|Angoon Seaplane Base|57.503613|  -134.585|  0| -9|  A|\n",
      "|ALZ|Alitak Seaplane Base|56.899445|-154.24777|  0| -9|  A|\n",
      "|AOS|Amook Bay Seaplan...| 57.47139|-153.81528|  0| -9|  A|\n",
      "|AQC|Klawock Seaplane ...|55.554657| -133.1017|  0| -9|  A|\n",
      "|ATT|Camp Mabry Austin...| 30.31666|  -97.7666|  0| -6|  A|\n",
      "|BYW|Blakely Island Ai...| 48.56025|-122.80243|  0| -8|  A|\n",
      "|CGA| Craig Seaplane Base| 55.47889|-133.14778|  0| -9|  A|\n",
      "|CYM|Chatham Seaplane ...|   57.515| -134.9461|  0| -9|  A|\n",
      "|ELV|Elfin Cove Seapla...| 58.19528| -136.3475|  0| -9|  A|\n",
      "|EXI|Excursion Inlet S...|58.420555|-135.44917|  0| -9|  A|\n",
      "|FBS|Friday Harbor Sea...|48.537224|-123.00972|  0| -8|  A|\n",
      "|FNR|Funter Bay Seapla...|58.254444|-134.89778|  0| -9|  A|\n",
      "|GAI|Montgomery County...|  39.1006| -77.09576|  0| -5|  A|\n",
      "|HYG|Hydaburg Seaplane...| 55.20639|-132.82834|  0| -9|  A|\n",
      "|HYL|Hollis Seaplane Base|55.481667|-132.64612|  0| -9|  A|\n",
      "|IPL|         Imperial Co| 32.83422|-115.57874|  0| -8|  A|\n",
      "|KAE|  Kake Seaplane Base|56.973057|-133.94556|  0| -9|  A|\n",
      "|KBW|Chignik Bay Seapl...|56.295555| -158.4014|  0| -9|  A|\n",
      "|KCC|Coffman Cove Seap...| 56.01472| -132.8339|  0| -9|  A|\n",
      "|KKB|Kitoi Bay Seaplan...|58.190834|-152.37056|  0| -9|  A|\n",
      "+---+--------------------+---------+----------+---+---+---+\n",
      "only showing top 20 rows\n",
      "\n",
      "+---+--------------------+---------+-----------+----+---+---+\n",
      "|faa|                name|      lat|        lon| alt| tz|dst|\n",
      "+---+--------------------+---------+-----------+----+---+---+\n",
      "|04G|   Lansdowne Airport|41.130474|  -80.61958|1044| -5|  A|\n",
      "|06A|Moton Field Munic...| 32.46057|  -85.68003| 264| -5|  A|\n",
      "|06C| Schaumburg Regional| 41.98934|  -88.10124| 801| -6|  A|\n",
      "|06N|     Randall Airport| 41.43191|  -74.39156| 523| -5|  A|\n",
      "|09J|Jekyll Island Air...|31.074472|  -81.42778|  11| -4|  A|\n",
      "|0A9|Elizabethton Muni...|36.371223| -82.173416|1593| -4|  A|\n",
      "|0G6|Williams County A...|41.467304| -84.506775| 730| -5|  A|\n",
      "|0G7|Finger Lakes Regi...|42.883564| -76.781235| 492| -5|  A|\n",
      "|0P2|Shoestring Aviati...|39.794823| -76.647194|1000| -5|  U|\n",
      "|0S9|Jefferson County ...| 48.05381|-122.810646| 108| -8|  A|\n",
      "|0W3|Harford County Ai...|39.566837|   -76.2024| 409| -5|  A|\n",
      "|10C|  Galt Field Airport| 42.40289| -88.375114| 875| -6|  U|\n",
      "|17G|Port Bucyrus-Craw...|40.781555|  -82.97481|1003| -5|  A|\n",
      "|19A|Jackson County Ai...|34.175865|   -83.5616| 951| -4|  U|\n",
      "|1A3|Martin Campbell F...|35.015804|  -84.34683|1789| -4|  A|\n",
      "|1B9| Mansfield Municipal|42.000134|  -71.19677| 122| -5|  A|\n",
      "|1C9|Frazier Lake Airpark|54.013332| -124.76833| 152| -8|  A|\n",
      "|1CS|Clow Internationa...|41.695976| -88.129234| 670| -6|  U|\n",
      "|1G3|  Kent State Airport| 41.15139|  -81.41511|1134| -4|  A|\n",
      "|1OH|     Fortman Airport|40.555325|  -84.38662| 885| -5|  U|\n",
      "+---+--------------------+---------+-----------+----+---+---+\n",
      "only showing top 20 rows\n",
      "\n"
     ]
    }
   ],
   "source": [
    "df_airports = df_airports.withColumn('alt',(\n",
    "    F.when(\n",
    "        F.col('alt') < 0, 0)\n",
    "     .when(\n",
    "        check_empty_column('alt'), \"M\").otherwise(F.col('alt'))\n",
    "))\n",
    "df_airports.select('*').where(df_airports.alt ==  0).show()\n",
    "df_airports.show(20)"
   ]
  },
  {
   "cell_type": "code",
   "execution_count": 15,
   "metadata": {
    "datalore": {
     "hide_input_from_viewers": false,
     "hide_output_from_viewers": false,
     "type": "CODE"
    }
   },
   "outputs": [
    {
     "name": "stdout",
     "output_type": "stream",
     "text": [
      "+---+--------------------+---------+----------+---+---+---+\n",
      "|faa|                name|      lat|       lon|alt| tz|dst|\n",
      "+---+--------------------+---------+----------+---+---+---+\n",
      "|AGN|Angoon Seaplane Base|57.503613|  -134.585|  0| -9|  A|\n",
      "|ALZ|Alitak Seaplane Base|56.899445|-154.24777|  0| -9|  A|\n",
      "|AOS|Amook Bay Seaplan...| 57.47139|-153.81528|  0| -9|  A|\n",
      "|AQC|Klawock Seaplane ...|55.554657| -133.1017|  0| -9|  A|\n",
      "|ATT|Camp Mabry Austin...| 30.31666|  -97.7666|  0| -6|  A|\n",
      "|BYW|Blakely Island Ai...| 48.56025|-122.80243|  0| -8|  A|\n",
      "|CGA| Craig Seaplane Base| 55.47889|-133.14778|  0| -9|  A|\n",
      "|CYM|Chatham Seaplane ...|   57.515| -134.9461|  0| -9|  A|\n",
      "|ELV|Elfin Cove Seapla...| 58.19528| -136.3475|  0| -9|  A|\n",
      "|EXI|Excursion Inlet S...|58.420555|-135.44917|  0| -9|  A|\n",
      "|FBS|Friday Harbor Sea...|48.537224|-123.00972|  0| -8|  A|\n",
      "|FNR|Funter Bay Seapla...|58.254444|-134.89778|  0| -9|  A|\n",
      "|GAI|Montgomery County...|  39.1006| -77.09576|  0| -5|  A|\n",
      "|HYG|Hydaburg Seaplane...| 55.20639|-132.82834|  0| -9|  A|\n",
      "|HYL|Hollis Seaplane Base|55.481667|-132.64612|  0| -9|  A|\n",
      "|IPL|         Imperial Co| 32.83422|-115.57874|  0| -8|  A|\n",
      "|KAE|  Kake Seaplane Base|56.973057|-133.94556|  0| -9|  A|\n",
      "|KBW|Chignik Bay Seapl...|56.295555| -158.4014|  0| -9|  A|\n",
      "|KCC|Coffman Cove Seap...| 56.01472| -132.8339|  0| -9|  A|\n",
      "|KKB|Kitoi Bay Seaplan...|58.190834|-152.37056|  0| -9|  A|\n",
      "+---+--------------------+---------+----------+---+---+---+\n",
      "only showing top 20 rows\n",
      "\n"
     ]
    }
   ],
   "source": [
    "#apenas valores 0 na coluna alt\n",
    "df_airports[df_airports.alt.isin('0')].show()"
   ]
  },
  {
   "attachments": {},
   "cell_type": "markdown",
   "metadata": {
    "datalore": {
     "hide_input_from_viewers": false,
     "hide_output_from_viewers": false,
     "type": "MD"
    }
   },
   "source": [
    "# 2."
   ]
  },
  {
   "cell_type": "code",
   "execution_count": 16,
   "metadata": {
    "datalore": {
     "hide_input_from_viewers": false,
     "hide_output_from_viewers": false,
     "type": "CODE"
    }
   },
   "outputs": [
    {
     "name": "stdout",
     "output_type": "stream",
     "text": [
      "+---+--------------------+---------+-----------+----+---+---+\n",
      "|faa|                name|      lat|        lon| alt| tz|dst|\n",
      "+---+--------------------+---------+-----------+----+---+---+\n",
      "|04G|   Lansdowne Airport|41.130474|  -80.61958|1044| -5|  A|\n",
      "|06A|Moton Field Munic...| 32.46057|  -85.68003| 264| -5|  A|\n",
      "|06C| Schaumburg Regional| 41.98934|  -88.10124| 801| -6|  A|\n",
      "|06N|     Randall Airport| 41.43191|  -74.39156| 523| -5|  A|\n",
      "|09J|Jekyll Island Air...|31.074472|  -81.42778|  11| -4|  A|\n",
      "|0A9|Elizabethton Muni...|36.371223| -82.173416|1593| -4|  A|\n",
      "|0G6|Williams County A...|41.467304| -84.506775| 730| -5|  A|\n",
      "|0G7|Finger Lakes Regi...|42.883564| -76.781235| 492| -5|  A|\n",
      "|0P2|Shoestring Aviati...|39.794823| -76.647194|1000| -5|  A|\n",
      "|0S9|Jefferson County ...| 48.05381|-122.810646| 108| -8|  A|\n",
      "|0W3|Harford County Ai...|39.566837|   -76.2024| 409| -5|  A|\n",
      "|10C|  Galt Field Airport| 42.40289| -88.375114| 875| -6|  A|\n",
      "|17G|Port Bucyrus-Craw...|40.781555|  -82.97481|1003| -5|  A|\n",
      "|19A|Jackson County Ai...|34.175865|   -83.5616| 951| -4|  U|\n",
      "|1A3|Martin Campbell F...|35.015804|  -84.34683|1789| -4|  A|\n",
      "+---+--------------------+---------+-----------+----+---+---+\n",
      "only showing top 15 rows\n",
      "\n"
     ]
    }
   ],
   "source": [
    "#valor em string A ou horario e data? \n",
    "    \n",
    "df_airports = df_airports.withColumn('dst', (\n",
    "    F.when(\n",
    "        (F.col('tz') >= -7) &\n",
    "        (F.col('tz') <= -5), 'A'\n",
    "    ).otherwise(F.col('dst'))\n",
    "))\n",
    "    \n",
    "df_airports.show(15)"
   ]
  },
  {
   "cell_type": "code",
   "execution_count": 17,
   "metadata": {
    "datalore": {
     "hide_input_from_viewers": false,
     "hide_output_from_viewers": false,
     "type": "CODE"
    }
   },
   "outputs": [
    {
     "name": "stdout",
     "output_type": "stream",
     "text": [
      "+---+--------------------+---------+----------+----+---+---+\n",
      "|faa|                name|      lat|       lon| alt| tz|dst|\n",
      "+---+--------------------+---------+----------+----+---+---+\n",
      "|04G|   Lansdowne Airport|41.130474| -80.61958|1044| -5|  A|\n",
      "|06A|Moton Field Munic...| 32.46057| -85.68003| 264| -5|  A|\n",
      "|06N|     Randall Airport| 41.43191| -74.39156| 523| -5|  A|\n",
      "|0G6|Williams County A...|41.467304|-84.506775| 730| -5|  A|\n",
      "|0G7|Finger Lakes Regi...|42.883564|-76.781235| 492| -5|  A|\n",
      "|0P2|Shoestring Aviati...|39.794823|-76.647194|1000| -5|  A|\n",
      "|0W3|Harford County Ai...|39.566837|  -76.2024| 409| -5|  A|\n",
      "|17G|Port Bucyrus-Craw...|40.781555| -82.97481|1003| -5|  A|\n",
      "|1B9| Mansfield Municipal|42.000134| -71.19677| 122| -5|  A|\n",
      "|1OH|     Fortman Airport|40.555325| -84.38662| 885| -5|  A|\n",
      "|1RL|Point Roberts Air...| 48.97972|-123.07889|  10| -7|  A|\n",
      "|24C| Lowell City Airport| 42.95392|  -85.3439| 681| -5|  A|\n",
      "|24J|Suwannee County A...|30.300125|  -83.0247| 104| -5|  A|\n",
      "|25D| Forest Lake Airport|45.247746|-92.994385| 925| -5|  A|\n",
      "|29D|  Grove City Airport|41.146027| -80.16775|1371| -5|  A|\n",
      "|2G9|Somerset County A...| 40.03887| -79.01499|2275| -5|  A|\n",
      "|2J9|Quincy Municipal ...| 30.59787| -84.55743| 225| -5|  A|\n",
      "|3D2|Ephraim-Gibraltar...|45.135418| -87.18794| 773| -5|  A|\n",
      "|3G3| Wadsworth Municipal| 41.00316| -81.75644| 974| -5|  A|\n",
      "|3G4|Ashland County Ai...|40.902973| -82.25564|1206| -5|  A|\n",
      "+---+--------------------+---------+----------+----+---+---+\n",
      "only showing top 20 rows\n",
      "\n"
     ]
    }
   ],
   "source": [
    "#apenas valores min de -7 e max de -5 na coluna TZ\n",
    "df_airports[df_airports.tz.isin(-7 ,-5)].show()"
   ]
  },
  {
   "attachments": {},
   "cell_type": "markdown",
   "metadata": {
    "datalore": {
     "hide_input_from_viewers": false,
     "hide_output_from_viewers": false,
     "type": "MD"
    }
   },
   "source": [
    "# 3."
   ]
  },
  {
   "cell_type": "code",
   "execution_count": 18,
   "metadata": {
    "datalore": {
     "hide_input_from_viewers": false,
     "hide_output_from_viewers": false,
     "type": "CODE"
    }
   },
   "outputs": [
    {
     "name": "stdout",
     "output_type": "stream",
     "text": [
      "+---+--------------------+---------+----------+----+---+---+\n",
      "|faa|                name|      lat|       lon| alt| tz|dst|\n",
      "+---+--------------------+---------+----------+----+---+---+\n",
      "|19A|Jackson County Ai...|34.175865|  -83.5616| 951| -4|  U|\n",
      "|BLD|Boulder City Muni...|  35.5651|  -114.514|2201| -8|  U|\n",
      "|GCW|Grand Canyon West...|  35.5925| -113.4859|4825| -8|  U|\n",
      "|MXY|    McCarthy Airport| 61.43706|-142.90308|1531| -8|  U|\n",
      "|NGZ|         NAS Alameda|  37.7861| -122.3186|  10| -9|  U|\n",
      "|SWD|      Seward Airport|60.126938|-149.41881|  22| -8|  U|\n",
      "|SXQ|    Soldotna Airport|60.474957|-151.03824| 113| -8|  U|\n",
      "|WWT|      Newtok Airport|60.939167|-164.64111|  25|-10|  U|\n",
      "+---+--------------------+---------+----------+----+---+---+\n",
      "\n"
     ]
    }
   ],
   "source": [
    "#apenas coluna dst com valor U\n",
    "df_airports[df_airports.dst.isin('U')].show()"
   ]
  },
  {
   "cell_type": "code",
   "execution_count": 19,
   "metadata": {
    "datalore": {
     "hide_input_from_viewers": false,
     "hide_output_from_viewers": false,
     "type": "CODE"
    }
   },
   "outputs": [
    {
     "name": "stdout",
     "output_type": "stream",
     "text": [
      "+---+--------------------+---------+-----------+----+---+---+\n",
      "|faa|                name|      lat|        lon| alt| tz|dst|\n",
      "+---+--------------------+---------+-----------+----+---+---+\n",
      "|04G|   Lansdowne Airport|41.130474|  -80.61958|1044| -5|  A|\n",
      "|06A|Moton Field Munic...| 32.46057|  -85.68003| 264| -5|  A|\n",
      "|06C| Schaumburg Regional| 41.98934|  -88.10124| 801| -6|  A|\n",
      "|06N|     Randall Airport| 41.43191|  -74.39156| 523| -5|  A|\n",
      "|09J|Jekyll Island Air...|31.074472|  -81.42778|  11| -4|  A|\n",
      "|0A9|Elizabethton Muni...|36.371223| -82.173416|1593| -4|  A|\n",
      "|0G6|Williams County A...|41.467304| -84.506775| 730| -5|  A|\n",
      "|0G7|Finger Lakes Regi...|42.883564| -76.781235| 492| -5|  A|\n",
      "|0P2|Shoestring Aviati...|39.794823| -76.647194|1000| -5|  A|\n",
      "|0S9|Jefferson County ...| 48.05381|-122.810646| 108| -8|  A|\n",
      "|0W3|Harford County Ai...|39.566837|   -76.2024| 409| -5|  A|\n",
      "|10C|  Galt Field Airport| 42.40289| -88.375114| 875| -6|  A|\n",
      "|17G|Port Bucyrus-Craw...|40.781555|  -82.97481|1003| -5|  A|\n",
      "|19A|Jackson County Ai...|34.175865|   -83.5616| 951| -4|  A|\n",
      "|1A3|Martin Campbell F...|35.015804|  -84.34683|1789| -4|  A|\n",
      "+---+--------------------+---------+-----------+----+---+---+\n",
      "only showing top 15 rows\n",
      "\n"
     ]
    }
   ],
   "source": [
    "df_airports = df_airports.withColumn('dst', (\n",
    "    F.when(\n",
    "        (F.col('dst') == 'U'), 'A'\n",
    "    ).otherwise(F.col('dst'))\n",
    "))\n",
    "\n",
    "df_airports.show(15)"
   ]
  },
  {
   "cell_type": "code",
   "execution_count": 20,
   "metadata": {
    "datalore": {
     "hide_input_from_viewers": false,
     "hide_output_from_viewers": false,
     "type": "CODE"
    }
   },
   "outputs": [
    {
     "name": "stdout",
     "output_type": "stream",
     "text": [
      "+---+--------------------+---------+-----------+----+---+---+\n",
      "|faa|                name|      lat|        lon| alt| tz|dst|\n",
      "+---+--------------------+---------+-----------+----+---+---+\n",
      "|04G|   Lansdowne Airport|41.130474|  -80.61958|1044| -5|  A|\n",
      "|06A|Moton Field Munic...| 32.46057|  -85.68003| 264| -5|  A|\n",
      "|06C| Schaumburg Regional| 41.98934|  -88.10124| 801| -6|  A|\n",
      "|06N|     Randall Airport| 41.43191|  -74.39156| 523| -5|  A|\n",
      "|09J|Jekyll Island Air...|31.074472|  -81.42778|  11| -4|  A|\n",
      "|0A9|Elizabethton Muni...|36.371223| -82.173416|1593| -4|  A|\n",
      "|0G6|Williams County A...|41.467304| -84.506775| 730| -5|  A|\n",
      "|0G7|Finger Lakes Regi...|42.883564| -76.781235| 492| -5|  A|\n",
      "|0P2|Shoestring Aviati...|39.794823| -76.647194|1000| -5|  A|\n",
      "|0S9|Jefferson County ...| 48.05381|-122.810646| 108| -8|  A|\n",
      "|0W3|Harford County Ai...|39.566837|   -76.2024| 409| -5|  A|\n",
      "|10C|  Galt Field Airport| 42.40289| -88.375114| 875| -6|  A|\n",
      "|17G|Port Bucyrus-Craw...|40.781555|  -82.97481|1003| -5|  A|\n",
      "|19A|Jackson County Ai...|34.175865|   -83.5616| 951| -4|  A|\n",
      "|1A3|Martin Campbell F...|35.015804|  -84.34683|1789| -4|  A|\n",
      "|1B9| Mansfield Municipal|42.000134|  -71.19677| 122| -5|  A|\n",
      "|1C9|Frazier Lake Airpark|54.013332| -124.76833| 152| -8|  A|\n",
      "|1CS|Clow Internationa...|41.695976| -88.129234| 670| -6|  A|\n",
      "|1G3|  Kent State Airport| 41.15139|  -81.41511|1134| -4|  A|\n",
      "|1OH|     Fortman Airport|40.555325|  -84.38662| 885| -5|  A|\n",
      "+---+--------------------+---------+-----------+----+---+---+\n",
      "only showing top 20 rows\n",
      "\n"
     ]
    }
   ],
   "source": [
    "#apenas coluna dst com valor U\n",
    "df_airports[df_airports.dst.isin('A')].show()"
   ]
  },
  {
   "attachments": {},
   "cell_type": "markdown",
   "metadata": {
    "datalore": {
     "hide_input_from_viewers": false,
     "hide_output_from_viewers": false,
     "type": "MD"
    }
   },
   "source": [
    "# 4."
   ]
  },
  {
   "cell_type": "code",
   "execution_count": 21,
   "metadata": {
    "datalore": {
     "hide_input_from_viewers": false,
     "hide_output_from_viewers": false,
     "type": "CODE"
    }
   },
   "outputs": [
    {
     "name": "stdout",
     "output_type": "stream",
     "text": [
      "+---+--------------------+---------+-----------+----+---+---+-------------+\n",
      "|faa|                name|      lat|        lon| alt| tz|dst|       region|\n",
      "+---+--------------------+---------+-----------+----+---+---+-------------+\n",
      "|04G|   Lansdowne Airport|41.130474|  -80.61958|1044| -5|  A|MAINLAND-EAST|\n",
      "|06A|Moton Field Munic...| 32.46057|  -85.68003| 264| -5|  A|MAINLAND-EAST|\n",
      "|06C| Schaumburg Regional| 41.98934|  -88.10124| 801| -6|  A|MAINLAND-EAST|\n",
      "|06N|     Randall Airport| 41.43191|  -74.39156| 523| -5|  A|MAINLAND-EAST|\n",
      "|09J|Jekyll Island Air...|31.074472|  -81.42778|  11| -4|  A|MAINLAND-EAST|\n",
      "|0A9|Elizabethton Muni...|36.371223| -82.173416|1593| -4|  A|MAINLAND-EAST|\n",
      "|0G6|Williams County A...|41.467304| -84.506775| 730| -5|  A|MAINLAND-EAST|\n",
      "|0G7|Finger Lakes Regi...|42.883564| -76.781235| 492| -5|  A|MAINLAND-EAST|\n",
      "|0P2|Shoestring Aviati...|39.794823| -76.647194|1000| -5|  A|MAINLAND-EAST|\n",
      "|0S9|Jefferson County ...| 48.05381|-122.810646| 108| -8|  A|MAINLAND-WEST|\n",
      "|0W3|Harford County Ai...|39.566837|   -76.2024| 409| -5|  A|MAINLAND-EAST|\n",
      "|10C|  Galt Field Airport| 42.40289| -88.375114| 875| -6|  A|MAINLAND-EAST|\n",
      "|17G|Port Bucyrus-Craw...|40.781555|  -82.97481|1003| -5|  A|MAINLAND-EAST|\n",
      "|19A|Jackson County Ai...|34.175865|   -83.5616| 951| -4|  A|MAINLAND-EAST|\n",
      "|1A3|Martin Campbell F...|35.015804|  -84.34683|1789| -4|  A|MAINLAND-EAST|\n",
      "+---+--------------------+---------+-----------+----+---+---+-------------+\n",
      "only showing top 15 rows\n",
      "\n"
     ]
    }
   ],
   "source": [
    "#ALASKA: Quando a longitude for menor que -124.\n",
    "#OFFSHORE: Quando a longitude for maior que -50 ou a latitude for menor que 24.\n",
    "#MAINLAND-WEST: Quando a longitude for menor ou igual -95 na região dos EUA.\n",
    "#MAINLAND-EAST: Quando a longitude for maior que -95 na região dos EUA.\n",
    "#NaN: Caso não atenda nenhuma das condições acima\n",
    "\n",
    "#check_column_range('lon', -50, 24)\n",
    "\n",
    "df_airports = df_airports.withColumn('region', (\n",
    "    F.when(\n",
    "        F.col('lon') < -124, 'ALASKA'\n",
    "    ).when(\n",
    "        ((F.col('lon') > -50) |\n",
    "         (F.col('lat') < 24)), 'OFFSHORE'\n",
    "    ).when(\n",
    "        F.col('lon') <= -95, 'MAINLAND-WEST'\n",
    "    ).when(\n",
    "        F.col('lon') >= -95, 'MAINLAND-EAST'\n",
    "    ).otherwise('NaN')\n",
    "))\n",
    "\n",
    "df_airports.show(15)"
   ]
  },
  {
   "cell_type": "code",
   "execution_count": 22,
   "metadata": {
    "datalore": {
     "hide_input_from_viewers": false,
     "hide_output_from_viewers": false,
     "type": "CODE"
    }
   },
   "outputs": [
    {
     "name": "stdout",
     "output_type": "stream",
     "text": [
      "+-------------+\n",
      "|       region|\n",
      "+-------------+\n",
      "|       ALASKA|\n",
      "|     OFFSHORE|\n",
      "|MAINLAND-EAST|\n",
      "|MAINLAND-WEST|\n",
      "+-------------+\n",
      "\n"
     ]
    }
   ],
   "source": [
    "#Conferindo se todos valores entraram\n",
    "df_airports.select('region').distinct().show()"
   ]
  },
  {
   "attachments": {},
   "cell_type": "markdown",
   "metadata": {
    "datalore": {
     "hide_input_from_viewers": false,
     "hide_output_from_viewers": false,
     "type": "MD"
    }
   },
   "source": [
    "# 5. "
   ]
  },
  {
   "cell_type": "code",
   "execution_count": 23,
   "metadata": {
    "datalore": {
     "hide_input_from_viewers": false,
     "hide_output_from_viewers": false,
     "type": "CODE"
    }
   },
   "outputs": [
    {
     "name": "stdout",
     "output_type": "stream",
     "text": [
      "+---+--------------------+---------+-----------+----+---+---+-------------+----+\n",
      "|faa|                name|      lat|        lon| alt| tz|dst|       region|type|\n",
      "+---+--------------------+---------+-----------+----+---+---+-------------+----+\n",
      "|04G|   Lansdowne Airport|41.130474|  -80.61958|1044| -5|  A|MAINLAND-EAST|  AP|\n",
      "|06A|Moton Field Munic...| 32.46057|  -85.68003| 264| -5|  A|MAINLAND-EAST|  AP|\n",
      "|06C| Schaumburg Regional| 41.98934|  -88.10124| 801| -6|  A|MAINLAND-EAST| NaN|\n",
      "|06N|     Randall Airport| 41.43191|  -74.39156| 523| -5|  A|MAINLAND-EAST|  AP|\n",
      "|09J|Jekyll Island Air...|31.074472|  -81.42778|  11| -4|  A|MAINLAND-EAST|  AP|\n",
      "|0A9|Elizabethton Muni...|36.371223| -82.173416|1593| -4|  A|MAINLAND-EAST|  AP|\n",
      "|0G6|Williams County A...|41.467304| -84.506775| 730| -5|  A|MAINLAND-EAST|  AP|\n",
      "|0G7|Finger Lakes Regi...|42.883564| -76.781235| 492| -5|  A|MAINLAND-EAST|  AP|\n",
      "|0P2|Shoestring Aviati...|39.794823| -76.647194|1000| -5|  A|MAINLAND-EAST| NaN|\n",
      "|0S9|Jefferson County ...| 48.05381|-122.810646| 108| -8|  A|MAINLAND-WEST| NaN|\n",
      "|0W3|Harford County Ai...|39.566837|   -76.2024| 409| -5|  A|MAINLAND-EAST|  AP|\n",
      "|10C|  Galt Field Airport| 42.40289| -88.375114| 875| -6|  A|MAINLAND-EAST|  AP|\n",
      "|17G|Port Bucyrus-Craw...|40.781555|  -82.97481|1003| -5|  A|MAINLAND-EAST|  AP|\n",
      "|19A|Jackson County Ai...|34.175865|   -83.5616| 951| -4|  A|MAINLAND-EAST|  AP|\n",
      "|1A3|Martin Campbell F...|35.015804|  -84.34683|1789| -4|  A|MAINLAND-EAST|  AP|\n",
      "+---+--------------------+---------+-----------+----+---+---+-------------+----+\n",
      "only showing top 15 rows\n",
      "\n"
     ]
    }
   ],
   "source": [
    "#AP: \"Airport\", \"Tradeport\", \"Heliport\", \"Airpor\", ou \"Arpt\"\n",
    "#AD: \"Aerodrome\"\n",
    "#AK : \"Airpark\" ou \"Aero Park\"\n",
    "#AS : \"Station\" ou \"Air Station\"\n",
    "#FL : \"Field\" ou \"Fld\"\n",
    "#NaN : Caso não atenda nenhuma das condições acima\n",
    "\n",
    "# Usando dataframe\n",
    "AP_TYPES = [\"Airport\", \"Tradeport\", \"Heliport\", \"Airpor\", \"Arpt\"]\n",
    "\n",
    "df_airports = df_airports.withColumn('type',(\n",
    "        F.when(F.col('name').rlike(create_regex_from_list(AP_TYPES)), 'AP')\n",
    "         .when(F.col('name').rlike(\"(AERODROME)\"), 'AD')\n",
    "         .when((\n",
    "             (F.col('name').rlike(create_regex_from_list([\"Airpark\", 'Aero Park'])))), 'AS')\n",
    "         .when(\n",
    "             (F.col('name').rlike(create_regex_from_list(['Field', \"Fld\"]))), 'FL'\n",
    "         ).otherwise('NaN')\n",
    "    ))\n",
    "\n",
    "df_airports.show(15)"
   ]
  },
  {
   "cell_type": "code",
   "execution_count": 24,
   "metadata": {
    "datalore": {
     "hide_input_from_viewers": false,
     "hide_output_from_viewers": false,
     "type": "CODE"
    }
   },
   "outputs": [
    {
     "name": "stdout",
     "output_type": "stream",
     "text": [
      "+----+\n",
      "|Type|\n",
      "+----+\n",
      "| NaN|\n",
      "|  AS|\n",
      "|  FL|\n",
      "|  AP|\n",
      "+----+\n",
      "\n"
     ]
    }
   ],
   "source": [
    "df_airports.select('Type').distinct().show()"
   ]
  },
  {
   "attachments": {},
   "cell_type": "markdown",
   "metadata": {
    "datalore": {
     "hide_input_from_viewers": false,
     "hide_output_from_viewers": false,
     "type": "MD"
    }
   },
   "source": [
    "# 6."
   ]
  },
  {
   "cell_type": "code",
   "execution_count": 25,
   "metadata": {
    "datalore": {
     "hide_input_from_viewers": false,
     "hide_output_from_viewers": false,
     "type": "CODE"
    }
   },
   "outputs": [
    {
     "name": "stdout",
     "output_type": "stream",
     "text": [
      "+---+--------------------+---------+-----------+----+---+---+-------------+----+--------+\n",
      "|faa|                name|      lat|        lon| alt| tz|dst|       region|type|military|\n",
      "+---+--------------------+---------+-----------+----+---+---+-------------+----+--------+\n",
      "|04G|   Lansdowne Airport|41.130474|  -80.61958|1044| -5|  A|MAINLAND-EAST|  AP|   false|\n",
      "|06A|Moton Field Munic...| 32.46057|  -85.68003| 264| -5|  A|MAINLAND-EAST|  AP|   false|\n",
      "|06C| Schaumburg Regional| 41.98934|  -88.10124| 801| -6|  A|MAINLAND-EAST| NaN|   false|\n",
      "|06N|     Randall Airport| 41.43191|  -74.39156| 523| -5|  A|MAINLAND-EAST|  AP|   false|\n",
      "|09J|Jekyll Island Air...|31.074472|  -81.42778|  11| -4|  A|MAINLAND-EAST|  AP|   false|\n",
      "|0A9|Elizabethton Muni...|36.371223| -82.173416|1593| -4|  A|MAINLAND-EAST|  AP|   false|\n",
      "|0G6|Williams County A...|41.467304| -84.506775| 730| -5|  A|MAINLAND-EAST|  AP|   false|\n",
      "|0G7|Finger Lakes Regi...|42.883564| -76.781235| 492| -5|  A|MAINLAND-EAST|  AP|   false|\n",
      "|0P2|Shoestring Aviati...|39.794823| -76.647194|1000| -5|  A|MAINLAND-EAST| NaN|   false|\n",
      "|0S9|Jefferson County ...| 48.05381|-122.810646| 108| -8|  A|MAINLAND-WEST| NaN|   false|\n",
      "|0W3|Harford County Ai...|39.566837|   -76.2024| 409| -5|  A|MAINLAND-EAST|  AP|   false|\n",
      "|10C|  Galt Field Airport| 42.40289| -88.375114| 875| -6|  A|MAINLAND-EAST|  AP|   false|\n",
      "|17G|Port Bucyrus-Craw...|40.781555|  -82.97481|1003| -5|  A|MAINLAND-EAST|  AP|   false|\n",
      "|19A|Jackson County Ai...|34.175865|   -83.5616| 951| -4|  A|MAINLAND-EAST|  AP|   false|\n",
      "|1A3|Martin Campbell F...|35.015804|  -84.34683|1789| -4|  A|MAINLAND-EAST|  AP|   false|\n",
      "+---+--------------------+---------+-----------+----+---+---+-------------+----+--------+\n",
      "only showing top 15 rows\n",
      "\n"
     ]
    }
   ],
   "source": [
    "#True : \"Base\", \"Aaf\", \"AFs\", \"Ahp\", \"Afb\", \"LRRS\", \"Lrrs\", \"Arb\", \"Naf\", \"NAS\", \"Nas\", \"Jrb\", \"Ns\", \"As\", \"Cgas\", \"Angb\"\n",
    "#False : Caso nenhuma substrig acima seja identificada\n",
    "\n",
    "# Usando dataframe\n",
    "MILITARY_TYPES = [\"Base\", \"Aaf\", \"AFs\", \"Ahp\", \"Afb\", \"LRRS\", \"Lrrs\", \"Arb\", \"Naf\", \"NAS\", \"Nas\", \"Jrb\", \"Ns\",\n",
    "\"As\", \"Cgas\", \"Angb\"]\n",
    "\n",
    "df_airports = df_airports.withColumn('military',(\n",
    "        F.when(\n",
    "            F.col('name').rlike(create_regex_from_list(MILITARY_TYPES)), True\n",
    "        ).otherwise(False)\n",
    "    ))\n",
    "\n",
    "df_airports.show(15)"
   ]
  },
  {
   "cell_type": "code",
   "execution_count": 26,
   "metadata": {
    "datalore": {
     "hide_input_from_viewers": false,
     "hide_output_from_viewers": false,
     "type": "CODE"
    }
   },
   "outputs": [
    {
     "name": "stdout",
     "output_type": "stream",
     "text": [
      "+--------+\n",
      "|military|\n",
      "+--------+\n",
      "|    true|\n",
      "|   false|\n",
      "+--------+\n",
      "\n"
     ]
    }
   ],
   "source": [
    "df_airports.select('military').distinct().show()"
   ]
  },
  {
   "cell_type": "code",
   "execution_count": 1,
   "metadata": {
    "datalore": {
     "hide_input_from_viewers": false,
     "hide_output_from_viewers": false,
     "type": "CODE"
    }
   },
   "outputs": [
    {
     "ename": "NameError",
     "evalue": "NameError: name 'df_airports' is not defined",
     "output_type": "error",
     "traceback": [
      "\u001b[0;31m---------------------------------------------------------------------------",
      "Traceback (most recent call last)",
      "    at line 1 in <module>",
      "NameError: name 'df_airports' is not defined"
     ]
    }
   ],
   "source": [
    "df_airports.select('*').where(df_airports.military == False).show()"
   ]
  },
  {
   "cell_type": "code",
   "execution_count": 63,
   "metadata": {
    "datalore": {
     "hide_input_from_viewers": false,
     "hide_output_from_viewers": false,
     "type": "CODE"
    }
   },
   "outputs": [
    {
     "name": "stdout",
     "output_type": "stream",
     "text": [
      "+---+--------------------+---------+-----------+----+---+---+-------------+----+--------+--------------+\n",
      "|faa|                name|      lat|        lon| alt| tz|dst|       region|type|military|administration|\n",
      "+---+--------------------+---------+-----------+----+---+---+-------------+----+--------+--------------+\n",
      "|3G4|Ashland County Ai...|40.902973|  -82.25564|1206| -5|  A|MAINLAND-EAST|  AP|    true|             R|\n",
      "|ADW|         Andrews Afb|38.810806|  -76.86703| 280| -5|  A|MAINLAND-EAST| NaN|    true|           NaN|\n",
      "|AGN|Angoon Seaplane Base|57.503613|   -134.585|   0| -9|  A|       ALASKA| NaN|    true|           NaN|\n",
      "|ALZ|Alitak Seaplane Base|56.899445| -154.24777|   0| -9|  A|       ALASKA| NaN|    true|           NaN|\n",
      "|AOS|Amook Bay Seaplan...| 57.47139| -153.81528|   0| -9|  A|       ALASKA| NaN|    true|           NaN|\n",
      "|APG|        Phillips Aaf| 39.46622|  -76.16881|  57| -5|  A|MAINLAND-EAST| NaN|    true|           NaN|\n",
      "|AQC|Klawock Seaplane ...|55.554657|  -133.1017|   0| -9|  A|       ALASKA| NaN|    true|           NaN|\n",
      "|ARB|Ann Arbor Municip...|42.132275|  -83.44442| 839| -5|  A|MAINLAND-EAST|  AP|    true|             M|\n",
      "|ASE|Aspen Pitkin Coun...|  39.2232|   -106.869|7820| -7|  A|MAINLAND-WEST|  FL|    true|             R|\n",
      "|AST|Astoria Regional ...| 46.15797| -123.87869|  15| -8|  A|MAINLAND-WEST|  AP|    true|             R|\n",
      "|AVL|Asheville Regiona...|35.436195|  -82.54181|2165| -5|  A|MAINLAND-EAST|  AP|    true|             R|\n",
      "|BAB|           Beale Afb| 39.13609| -121.43657| 113| -8|  A|MAINLAND-WEST| NaN|    true|           NaN|\n",
      "|BAD|       Barksdale Afb| 32.50182| -93.662674| 166| -6|  A|MAINLAND-EAST| NaN|    true|           NaN|\n",
      "|BIF|           Biggs Aaf|31.849527|-106.380035|3948| -7|  A|MAINLAND-WEST| NaN|    true|           NaN|\n",
      "|BIG|           Allen Aaf| 63.99455| -145.72165|1291| -9|  A|       ALASKA| NaN|    true|           NaN|\n",
      "|BIX|         Keesler Afb|30.410425|  -88.92443|  33| -6|  A|MAINLAND-EAST| NaN|    true|           NaN|\n",
      "|BKF|         Buckley Afb|39.701668| -104.75166|5662| -7|  A|MAINLAND-WEST| NaN|    true|           NaN|\n",
      "|BLV|Scott Afb Midamerica|38.545177|  -89.83518| 459| -6|  A|MAINLAND-EAST| NaN|    true|           NaN|\n",
      "|BNA|      Nashville Intl|36.124474|  -86.67819| 599| -6|  A|MAINLAND-EAST| NaN|    true|             I|\n",
      "|BSF|        Bradshaw Aaf|19.760056| -155.55371|6190|-10|  A|       ALASKA| NaN|    true|           NaN|\n",
      "+---+--------------------+---------+-----------+----+---+---+-------------+----+--------+--------------+\n",
      "only showing top 20 rows\n",
      "\n"
     ]
    }
   ],
   "source": [
    "#apenas true\n",
    "df_airports[df_airports.military.isin(True)].show()"
   ]
  },
  {
   "cell_type": "code",
   "execution_count": 64,
   "metadata": {
    "datalore": {
     "hide_input_from_viewers": false,
     "hide_output_from_viewers": false,
     "type": "CODE"
    }
   },
   "outputs": [
    {
     "name": "stdout",
     "output_type": "stream",
     "text": [
      "+---+--------------------+---------+-----------+----+---+---+-------------+----+--------+--------------+\n",
      "|faa|                name|      lat|        lon| alt| tz|dst|       region|type|military|administration|\n",
      "+---+--------------------+---------+-----------+----+---+---+-------------+----+--------+--------------+\n",
      "|04G|   Lansdowne Airport|41.130474|  -80.61958|1044| -5|  A|MAINLAND-EAST|  AP|   false|           NaN|\n",
      "|06A|Moton Field Munic...| 32.46057|  -85.68003| 264| -5|  A|MAINLAND-EAST|  AP|   false|             M|\n",
      "|06C| Schaumburg Regional| 41.98934|  -88.10124| 801| -6|  A|MAINLAND-EAST| NaN|   false|             R|\n",
      "|06N|     Randall Airport| 41.43191|  -74.39156| 523| -5|  A|MAINLAND-EAST|  AP|   false|           NaN|\n",
      "|09J|Jekyll Island Air...|31.074472|  -81.42778|  11| -4|  A|MAINLAND-EAST|  AP|   false|           NaN|\n",
      "|0A9|Elizabethton Muni...|36.371223| -82.173416|1593| -4|  A|MAINLAND-EAST|  AP|   false|             M|\n",
      "|0G6|Williams County A...|41.467304| -84.506775| 730| -5|  A|MAINLAND-EAST|  AP|   false|             R|\n",
      "|0G7|Finger Lakes Regi...|42.883564| -76.781235| 492| -5|  A|MAINLAND-EAST|  AP|   false|             R|\n",
      "|0P2|Shoestring Aviati...|39.794823| -76.647194|1000| -5|  A|MAINLAND-EAST| NaN|   false|           NaN|\n",
      "|0S9|Jefferson County ...| 48.05381|-122.810646| 108| -8|  A|MAINLAND-WEST| NaN|   false|             I|\n",
      "|0W3|Harford County Ai...|39.566837|   -76.2024| 409| -5|  A|MAINLAND-EAST|  AP|   false|             R|\n",
      "|10C|  Galt Field Airport| 42.40289| -88.375114| 875| -6|  A|MAINLAND-EAST|  AP|   false|           NaN|\n",
      "|17G|Port Bucyrus-Craw...|40.781555|  -82.97481|1003| -5|  A|MAINLAND-EAST|  AP|   false|             R|\n",
      "|19A|Jackson County Ai...|34.175865|   -83.5616| 951| -4|  A|MAINLAND-EAST|  AP|   false|             R|\n",
      "|1A3|Martin Campbell F...|35.015804|  -84.34683|1789| -4|  A|MAINLAND-EAST|  AP|   false|           NaN|\n",
      "|1B9| Mansfield Municipal|42.000134|  -71.19677| 122| -5|  A|MAINLAND-EAST| NaN|   false|             M|\n",
      "|1C9|Frazier Lake Airpark|54.013332| -124.76833| 152| -8|  A|       ALASKA|  AS|   false|           NaN|\n",
      "|1CS|Clow Internationa...|41.695976| -88.129234| 670| -6|  A|MAINLAND-EAST|  AP|   false|             I|\n",
      "|1G3|  Kent State Airport| 41.15139|  -81.41511|1134| -4|  A|MAINLAND-EAST|  AP|   false|           NaN|\n",
      "|1OH|     Fortman Airport|40.555325|  -84.38662| 885| -5|  A|MAINLAND-EAST|  AP|   false|           NaN|\n",
      "+---+--------------------+---------+-----------+----+---+---+-------------+----+--------+--------------+\n",
      "only showing top 20 rows\n",
      "\n"
     ]
    }
   ],
   "source": [
    "#apenas false\n",
    "df_airports[df_airports.military.isin(False)].show()"
   ]
  },
  {
   "attachments": {},
   "cell_type": "markdown",
   "metadata": {
    "datalore": {
     "hide_input_from_viewers": false,
     "hide_output_from_viewers": false,
     "type": "MD"
    }
   },
   "source": [
    "# 7."
   ]
  },
  {
   "cell_type": "code",
   "execution_count": 20,
   "metadata": {
    "datalore": {
     "hide_input_from_viewers": false,
     "hide_output_from_viewers": false,
     "type": "CODE"
    }
   },
   "outputs": [
    {
     "name": "stdout",
     "output_type": "stream",
     "text": [
      "+---+--------------------+---------+-----------+----+---+---+-------------+----+--------+--------------+\n",
      "|faa|                name|      lat|        lon| alt| tz|dst|       region|type|military|administration|\n",
      "+---+--------------------+---------+-----------+----+---+---+-------------+----+--------+--------------+\n",
      "|04G|   Lansdowne Airport|41.130474|  -80.61958|1044| -5|  A|MAINLAND-EAST|  AP|   false|           NaN|\n",
      "|06A|Moton Field Munic...| 32.46057|  -85.68003| 264| -5|  A|MAINLAND-EAST|  AP|   false|             M|\n",
      "|06C| Schaumburg Regional| 41.98934|  -88.10124| 801| -6|  A|MAINLAND-EAST| NaN|   false|             R|\n",
      "|06N|     Randall Airport| 41.43191|  -74.39156| 523| -5|  A|MAINLAND-EAST|  AP|   false|           NaN|\n",
      "|09J|Jekyll Island Air...|31.074472|  -81.42778|  11| -4|  A|MAINLAND-EAST|  AP|   false|           NaN|\n",
      "|0A9|Elizabethton Muni...|36.371223| -82.173416|1593| -4|  A|MAINLAND-EAST|  AP|   false|             M|\n",
      "|0G6|Williams County A...|41.467304| -84.506775| 730| -5|  A|MAINLAND-EAST|  AP|   false|             R|\n",
      "|0G7|Finger Lakes Regi...|42.883564| -76.781235| 492| -5|  A|MAINLAND-EAST|  AP|   false|             R|\n",
      "|0P2|Shoestring Aviati...|39.794823| -76.647194|1000| -5|  A|MAINLAND-EAST| NaN|   false|           NaN|\n",
      "|0S9|Jefferson County ...| 48.05381|-122.810646| 108| -8|  A|MAINLAND-WEST| NaN|   false|             I|\n",
      "|0W3|Harford County Ai...|39.566837|   -76.2024| 409| -5|  A|MAINLAND-EAST|  AP|   false|             R|\n",
      "|10C|  Galt Field Airport| 42.40289| -88.375114| 875| -6|  A|MAINLAND-EAST|  AP|   false|           NaN|\n",
      "|17G|Port Bucyrus-Craw...|40.781555|  -82.97481|1003| -5|  A|MAINLAND-EAST|  AP|   false|             R|\n",
      "|19A|Jackson County Ai...|34.175865|   -83.5616| 951| -4|  A|MAINLAND-EAST|  AP|   false|             R|\n",
      "|1A3|Martin Campbell F...|35.015804|  -84.34683|1789| -4|  A|MAINLAND-EAST|  AP|   false|           NaN|\n",
      "+---+--------------------+---------+-----------+----+---+---+-------------+----+--------+--------------+\n",
      "only showing top 15 rows\n",
      "\n"
     ]
    }
   ],
   "source": [
    "#I: \"International\", \"Intl\", ou \"Intercontinental\"\n",
    "#N: \"National\", \"Natl\"\n",
    "#R : \"Regional\", \"Reigonal\", \"Rgnl\", \"County\", \"Metro\" ou \"Metropolitan\"\n",
    "#M : \"Municipal\" \"Muni\", ou \"City\"\n",
    "#NaN : Caso não atenda nenhuma das condições acima\n",
    "\n",
    "#lists\n",
    "I_TYPES = [\"International\", \"Intl\", \"Intercontinental\"]\n",
    "N_TYPES = [\"National\", \"Natl\"]\n",
    "R_TYPES = [\"Regional\", \"Reigonal\", \"Rgnl\", \"County\", \"Metro\" \"Metropolitan\"]\n",
    "M_TYPES = [\"Municipal\", \"Muni\", 'City']\n",
    "\n",
    "# Usando dataframe\n",
    "df_airports = df_airports.withColumn('administration',(\n",
    "        F.when(\n",
    "            F.col('name').rlike(create_regex_from_list(I_TYPES)), 'I'\n",
    "        ).when(\n",
    "            F.col('name').rlike(create_regex_from_list(N_TYPES)), 'N'\n",
    "        ).when(\n",
    "            F.col('name').rlike(create_regex_from_list(R_TYPES)), 'R'\n",
    "        ).when(\n",
    "            F.col('name').rlike(create_regex_from_list(M_TYPES)), 'M'\n",
    "        ).otherwise('NaN')\n",
    "    ))\n",
    "\n",
    "df_airports.show(15)"
   ]
  },
  {
   "cell_type": "code",
   "execution_count": 65,
   "metadata": {
    "datalore": {
     "hide_input_from_viewers": false,
     "hide_output_from_viewers": false,
     "type": "CODE"
    }
   },
   "outputs": [
    {
     "name": "stdout",
     "output_type": "stream",
     "text": [
      "+--------------+\n",
      "|administration|\n",
      "+--------------+\n",
      "|             M|\n",
      "|             N|\n",
      "|             R|\n",
      "|           NaN|\n",
      "|             I|\n",
      "+--------------+\n",
      "\n"
     ]
    }
   ],
   "source": [
    "#conferindo valores\n",
    "df_airports.select('administration').distinct().show()"
   ]
  },
  {
   "cell_type": "code",
   "execution_count": 21,
   "metadata": {
    "datalore": {
     "hide_input_from_viewers": false,
     "hide_output_from_viewers": false,
     "type": "CODE"
    }
   },
   "outputs": [],
   "source": [
    "# Considere o dataset planes.csv para realizar as seguintes tarefas:"
   ]
  },
  {
   "attachments": {},
   "cell_type": "markdown",
   "metadata": {
    "datalore": {
     "hide_input_from_viewers": false,
     "hide_output_from_viewers": false,
     "type": "MD"
    }
   },
   "source": [
    "# 1."
   ]
  },
  {
   "cell_type": "code",
   "execution_count": 67,
   "metadata": {
    "datalore": {
     "hide_input_from_viewers": false,
     "hide_output_from_viewers": false,
     "type": "CODE"
    }
   },
   "outputs": [
    {
     "name": "stdout",
     "output_type": "stream",
     "text": [
      "+-------+----+--------------------+------------+--------+-------+-----+-----+---------+----+--------+\n",
      "|tailnum|year|                type|manufacturer|   model|engines|seats|speed|   engine| age|tailchar|\n",
      "+-------+----+--------------------+------------+--------+-------+-----+-----+---------+----+--------+\n",
      "| N906FR|2002|Fixed wing multi ...|      AIRBUS|A319-111|      2|  147| null|Turbo-fan|  20|      FR|\n",
      "| N908FR|null|Fixed wing multi ...|      AIRBUS|A319-111|      2|  147| null|Turbo-fan|null|      FR|\n",
      "| N912FR|null|Fixed wing multi ...|      AIRBUS|A319-111|      2|  147| null|Turbo-fan|null|      FR|\n",
      "| N918FR|null|Fixed wing multi ...|      AIRBUS|A319-111|      2|  147| null|Turbo-fan|null|      FR|\n",
      "| N919FR|null|Fixed wing multi ...|      AIRBUS|A319-111|      2|  147| null|Turbo-fan|null|      FR|\n",
      "| N920FR|null|Fixed wing multi ...|      AIRBUS|A319-111|      2|  147| null|Turbo-fan|null|      FR|\n",
      "| N921FR|null|Fixed wing multi ...|      AIRBUS|A319-111|      2|  147| null|Turbo-fan|null|      FR|\n",
      "| N922FR|null|Fixed wing multi ...|      AIRBUS|A319-111|      2|  147| null|Turbo-fan|null|      FR|\n",
      "| N923FR|null|Fixed wing multi ...|      AIRBUS|A319-111|      2|  147| null|Turbo-fan|null|      FR|\n",
      "| N924FR|null|Fixed wing multi ...|      AIRBUS|A319-111|      2|  147| null|Turbo-fan|null|      FR|\n",
      "+-------+----+--------------------+------------+--------+-------+-----+-----+---------+----+--------+\n",
      "only showing top 10 rows\n",
      "\n"
     ]
    }
   ],
   "source": [
    "data = df_planes.withColumn('tailchar',(\n",
    "    F.when(check_empty_column('tailnum'), None)\n",
    "     .when(F.col('tailnum').rlike(REGEX_NNUMBER) ,tailnum_chars(F.col('tailnum')))\n",
    ") )\n",
    "data.show(10)"
   ]
  },
  {
   "cell_type": "code",
   "execution_count": null,
   "metadata": {
    "datalore": {
     "hide_input_from_viewers": false,
     "hide_output_from_viewers": false,
     "type": "CODE"
    }
   },
   "outputs": [],
   "source": [
    "#apenas false\n",
    "df_planes[df_airports.military.isin(False)].show()"
   ]
  },
  {
   "attachments": {},
   "cell_type": "markdown",
   "metadata": {
    "datalore": {
     "hide_input_from_viewers": false,
     "hide_output_from_viewers": false,
     "type": "MD"
    }
   },
   "source": [
    "# 2."
   ]
  },
  {
   "cell_type": "code",
   "execution_count": 23,
   "metadata": {
    "datalore": {
     "hide_input_from_viewers": false,
     "hide_output_from_viewers": false,
     "type": "CODE"
    }
   },
   "outputs": [
    {
     "name": "stdout",
     "output_type": "stream",
     "text": [
      "+-------+----+--------------------+----------------+--------+-------+-----+-----+---------+\n",
      "|tailnum|year|                type|    manufacturer|   model|engines|seats|speed|   engine|\n",
      "+-------+----+--------------------+----------------+--------+-------+-----+-----+---------+\n",
      "| N102UW|1998|Fixed wing multi ...|AIRBUS INDUSTRIE|A320-214|      2|  182| null|Turbo-fan|\n",
      "| N103US|1999|Fixed wing multi ...|AIRBUS INDUSTRIE|A320-214|      2|  182| null|Turbo-fan|\n",
      "| N104UW|1999|Fixed wing multi ...|AIRBUS INDUSTRIE|A320-214|      2|  182| null|Turbo-fan|\n",
      "| N105UW|1999|Fixed wing multi ...|AIRBUS INDUSTRIE|A320-214|      2|  182| null|Turbo-fan|\n",
      "| N107US|1999|Fixed wing multi ...|AIRBUS INDUSTRIE|A320-214|      2|  182| null|Turbo-fan|\n",
      "| N108UW|1999|Fixed wing multi ...|AIRBUS INDUSTRIE|A320-214|      2|  182| null|Turbo-fan|\n",
      "| N109UW|1999|Fixed wing multi ...|AIRBUS INDUSTRIE|A320-214|      2|  182| null|Turbo-fan|\n",
      "| N110UW|1999|Fixed wing multi ...|AIRBUS INDUSTRIE|A320-214|      2|  182| null|Turbo-fan|\n",
      "| N111US|1999|Fixed wing multi ...|AIRBUS INDUSTRIE|A320-214|      2|  182| null|Turbo-fan|\n",
      "| N11206|2000|Fixed wing multi ...|          BOEING| 737-824|      2|  149| null|Turbo-fan|\n",
      "+-------+----+--------------------+----------------+--------+-------+-----+-----+---------+\n",
      "only showing top 10 rows\n",
      "\n"
     ]
    }
   ],
   "source": [
    "df_planes = df_planes.withColumn('year', (\n",
    "    F.when(F.col('year') == 0, 1996)\n",
    "     .otherwise(F.col('year'))\n",
    "))\n",
    "\n",
    "df_planes.show(10)"
   ]
  },
  {
   "attachments": {},
   "cell_type": "markdown",
   "metadata": {
    "datalore": {
     "hide_input_from_viewers": false,
     "hide_output_from_viewers": false,
     "type": "MD"
    }
   },
   "source": [
    "# 3."
   ]
  },
  {
   "cell_type": "code",
   "execution_count": 24,
   "metadata": {
    "datalore": {
     "hide_input_from_viewers": false,
     "hide_output_from_viewers": false,
     "type": "CODE"
    }
   },
   "outputs": [
    {
     "name": "stdout",
     "output_type": "stream",
     "text": [
      "+-------+----+--------------------+------------+--------+-------+-----+-----+---------+----------------+---------+--------+\n",
      "|tailnum|year|                type|manufacturer|   model|engines|seats|speed|   engine|old_manufacturer|old_model|old_year|\n",
      "+-------+----+--------------------+------------+--------+-------+-----+-----+---------+----------------+---------+--------+\n",
      "| N906FR|2002|Fixed wing multi ...|      AIRBUS|A319-111|      2|  147| null|Turbo-fan|            null|     null|    null|\n",
      "| N908FR|null|Fixed wing multi ...|      AIRBUS|A319-111|      2|  147| null|Turbo-fan|          AIRBUS| A319-111|    2002|\n",
      "| N912FR|null|Fixed wing multi ...|      AIRBUS|A319-111|      2|  147| null|Turbo-fan|          AIRBUS| A319-111|    2002|\n",
      "| N918FR|null|Fixed wing multi ...|      AIRBUS|A319-111|      2|  147| null|Turbo-fan|          AIRBUS| A319-111|    2002|\n",
      "| N919FR|null|Fixed wing multi ...|      AIRBUS|A319-111|      2|  147| null|Turbo-fan|          AIRBUS| A319-111|    2003|\n",
      "| N920FR|null|Fixed wing multi ...|      AIRBUS|A319-111|      2|  147| null|Turbo-fan|          AIRBUS| A319-111|    2003|\n",
      "| N921FR|null|Fixed wing multi ...|      AIRBUS|A319-111|      2|  147| null|Turbo-fan|          AIRBUS| A319-111|    2003|\n",
      "| N922FR|null|Fixed wing multi ...|      AIRBUS|A319-111|      2|  147| null|Turbo-fan|          AIRBUS| A319-111|    2003|\n",
      "| N923FR|null|Fixed wing multi ...|      AIRBUS|A319-111|      2|  147| null|Turbo-fan|          AIRBUS| A319-111|    2003|\n",
      "| N924FR|null|Fixed wing multi ...|      AIRBUS|A319-111|      2|  147| null|Turbo-fan|          AIRBUS| A319-111|    2003|\n",
      "| N925FR|null|Fixed wing multi ...|      AIRBUS|A319-111|      2|  147| null|Turbo-fan|          AIRBUS| A319-111|    2003|\n",
      "| N926FR|null|Fixed wing multi ...|      AIRBUS|A319-111|      2|  147| null|Turbo-fan|          AIRBUS| A319-111|    2004|\n",
      "| N928FR|null|Fixed wing multi ...|      AIRBUS|A319-111|      2|  147| null|Turbo-fan|          AIRBUS| A319-111|    2004|\n",
      "| N929FR|null|Fixed wing multi ...|      AIRBUS|A319-111|      2|  147| null|Turbo-fan|          AIRBUS| A319-111|    2004|\n",
      "| N931FR|null|Fixed wing multi ...|      AIRBUS|A319-111|      2|  147| null|Turbo-fan|          AIRBUS| A319-111|    2004|\n",
      "| N932FR|null|Fixed wing multi ...|      AIRBUS|A319-111|      2|  147| null|Turbo-fan|          AIRBUS| A319-111|    2004|\n",
      "| N933FR|null|Fixed wing multi ...|      AIRBUS|A319-111|      2|  147| null|Turbo-fan|          AIRBUS| A319-111|    2004|\n",
      "| N934FR|null|Fixed wing multi ...|      AIRBUS|A319-111|      2|  147| null|Turbo-fan|          AIRBUS| A319-111|    2004|\n",
      "| N935FR|null|Fixed wing multi ...|      AIRBUS|A319-111|      2|  147| null|Turbo-fan|          AIRBUS| A319-111|    2004|\n",
      "| N947FR|null|Fixed wing multi ...|      AIRBUS|A319-111|      2|  147| null|Turbo-fan|          AIRBUS| A319-111|    2004|\n",
      "+-------+----+--------------------+------------+--------+-------+-----+-----+---------+----------------+---------+--------+\n",
      "only showing top 20 rows\n",
      "\n"
     ]
    }
   ],
   "source": [
    "#Ordene por manufacturer, model e year\n",
    "#Use o valor da primeira linha anterior que compartilhe os mesmos valores das seguintes colunas, em prioridade:\n",
    "#A. manufacturer e model\n",
    "#B. manufacturer\n",
    "\n",
    "from pyspark.sql.window import Window\n",
    "\n",
    "year_window = Window.partitionBy().orderBy(\"manufacturer\", \"model\", \"year\")\n",
    "\n",
    "valueColumns = [\"manufacturer\", \"model\", \"year\"]\n",
    "\n",
    "data = df_planes.select(\n",
    "    \"*\",\n",
    "     *[F.lag(c).over(year_window).alias(\"old_\" + c) for c in valueColumns]\n",
    ")\n",
    "\n",
    "df_planes = data.withColumn('year',(\n",
    "                F.when(\n",
    "                    (F.col('manufacturer') == F.col('old_manufacturer')) &\n",
    "                    (F.col('model')        == F.col('old_model')), None\n",
    "                ).when(\n",
    "                    (F.col('manufacturer') == F.col('old_manufacturer')), None\n",
    "                ).otherwise(F.col('year'))\n",
    "            ))\n",
    "\n",
    "df_planes.show()"
   ]
  },
  {
   "cell_type": "code",
   "execution_count": 25,
   "metadata": {
    "datalore": {
     "hide_input_from_viewers": false,
     "hide_output_from_viewers": false,
     "type": "CODE"
    }
   },
   "outputs": [
    {
     "name": "stdout",
     "output_type": "stream",
     "text": [
      "+-------+----+--------------------+--------------------+--------------+-------+-----+-----+-------------+--------------------+-------------+--------+\n",
      "|tailnum|year|                type|        manufacturer|         model|engines|seats|speed|       engine|    old_manufacturer|    old_model|old_year|\n",
      "+-------+----+--------------------+--------------------+--------------+-------+-----+-----+-------------+--------------------+-------------+--------+\n",
      "| N906FR|2002|Fixed wing multi ...|              AIRBUS|      A319-111|      2|  147| null|    Turbo-fan|                null|         null|    null|\n",
      "| N902FR|2001|Fixed wing multi ...|    AIRBUS INDUSTRIE|      A319-111|      2|  147| null|    Turbo-jet|              AIRBUS|     A330-323|    2007|\n",
      "| N508AA|1975|          Rotorcraft|                BELL|          206B|      1|    5|  112|  Turbo-shaft|       BARKER JACK L|ZODIAC 601HDS|    null|\n",
      "| N659SW|1985|Fixed wing multi ...|              BOEING|       737-301|      2|  149| null|    Turbo-fan|                BELL|         206B|    1975|\n",
      "| N201AA|1959|Fixed wing single...|              CESSNA|           150|      1|    2|   90|Reciprocating|            CANADAIR|  CL-600-2B19|    1997|\n",
      "| N508JB|2007|Fixed wing single...|  CIRRUS DESIGN CORP|          SR22|      1|    4| null|Reciprocating|              CESSNA|         421C|    1980|\n",
      "| N563SW|1998|Fixed wing multi ...|             EMBRAER|       EMB-120|      2|   32| null|   Turbo-prop|  CIRRUS DESIGN CORP|         SR22|    2007|\n",
      "| N550AA|2003|Fixed wing multi ...|GULFSTREAM AEROSPACE|  GV-SP (G550)|      2|   20| null|    Turbo-fan|             EMBRAER|    EMB-120ER|    1999|\n",
      "| N520AA|1985|Fixed wing single...|        KILDALL GARY|     FALCON-XP|      1|    2| null|Reciprocating|GULFSTREAM AEROSPACE| GV-SP (G550)|    2003|\n",
      "| N557AA|1993|Fixed wing single...|          MARZ BARRY|     KITFOX IV|      1|    2| null|Reciprocating|     LAMBERT RICHARD|    FALCON XP|    null|\n",
      "| N426AA|1986|Fixed wing multi ...|   MCDONNELL DOUGLAS|DC-9-82(MD-82)|      2|  172| null|    Turbo-fan|          MARZ BARRY|    KITFOX IV|    1993|\n",
      "| N907DL|1987|Fixed wing multi ...|MCDONNELL DOUGLAS...|         MD-88|      2|  142| null|    Turbo-fan|   MCDONNELL DOUGLAS|     MD-90-30|    1998|\n",
      "| N425AA|1968|Fixed wing single...|               PIPER|     PA-28-180|      1|    4|  107|Reciprocating|MCDONNELL DOUGLAS...|        MD-88|    1989|\n",
      "| N537JB|2012|          Rotorcraft|ROBINSON HELICOPT...|           R66|      1|    5| null|  Turbo-shaft|               PIPER|   PA-32R-300|    1976|\n",
      "| N347AA|1985|          Rotorcraft|            SIKORSKY|         S-76A|      2|   14| null|  Turbo-shaft|ROBINSON HELICOPT...|          R66|    2012|\n",
      "+-------+----+--------------------+--------------------+--------------+-------+-----+-----+-------------+--------------------+-------------+--------+\n",
      "\n"
     ]
    }
   ],
   "source": [
    "df_planes.select('*').where(df_planes.year.isNotNull()).show()"
   ]
  },
  {
   "attachments": {},
   "cell_type": "markdown",
   "metadata": {
    "datalore": {
     "hide_input_from_viewers": false,
     "hide_output_from_viewers": false,
     "type": "MD"
    }
   },
   "source": [
    "# 4."
   ]
  },
  {
   "cell_type": "code",
   "execution_count": 26,
   "metadata": {
    "datalore": {
     "hide_input_from_viewers": false,
     "hide_output_from_viewers": false,
     "type": "CODE"
    }
   },
   "outputs": [
    {
     "name": "stdout",
     "output_type": "stream",
     "text": [
      "+-------+----+--------------------+------------+--------+-------+-----+-----+---------+----------------+---------+--------+----+\n",
      "|tailnum|year|                type|manufacturer|   model|engines|seats|speed|   engine|old_manufacturer|old_model|old_year| age|\n",
      "+-------+----+--------------------+------------+--------+-------+-----+-----+---------+----------------+---------+--------+----+\n",
      "| N906FR|2002|Fixed wing multi ...|      AIRBUS|A319-111|      2|  147| null|Turbo-fan|            null|     null|    null|  20|\n",
      "| N908FR|null|Fixed wing multi ...|      AIRBUS|A319-111|      2|  147| null|Turbo-fan|          AIRBUS| A319-111|    2002|null|\n",
      "| N912FR|null|Fixed wing multi ...|      AIRBUS|A319-111|      2|  147| null|Turbo-fan|          AIRBUS| A319-111|    2002|null|\n",
      "| N918FR|null|Fixed wing multi ...|      AIRBUS|A319-111|      2|  147| null|Turbo-fan|          AIRBUS| A319-111|    2002|null|\n",
      "| N919FR|null|Fixed wing multi ...|      AIRBUS|A319-111|      2|  147| null|Turbo-fan|          AIRBUS| A319-111|    2003|null|\n",
      "| N920FR|null|Fixed wing multi ...|      AIRBUS|A319-111|      2|  147| null|Turbo-fan|          AIRBUS| A319-111|    2003|null|\n",
      "| N921FR|null|Fixed wing multi ...|      AIRBUS|A319-111|      2|  147| null|Turbo-fan|          AIRBUS| A319-111|    2003|null|\n",
      "| N922FR|null|Fixed wing multi ...|      AIRBUS|A319-111|      2|  147| null|Turbo-fan|          AIRBUS| A319-111|    2003|null|\n",
      "| N923FR|null|Fixed wing multi ...|      AIRBUS|A319-111|      2|  147| null|Turbo-fan|          AIRBUS| A319-111|    2003|null|\n",
      "| N924FR|null|Fixed wing multi ...|      AIRBUS|A319-111|      2|  147| null|Turbo-fan|          AIRBUS| A319-111|    2003|null|\n",
      "| N925FR|null|Fixed wing multi ...|      AIRBUS|A319-111|      2|  147| null|Turbo-fan|          AIRBUS| A319-111|    2003|null|\n",
      "| N926FR|null|Fixed wing multi ...|      AIRBUS|A319-111|      2|  147| null|Turbo-fan|          AIRBUS| A319-111|    2004|null|\n",
      "| N928FR|null|Fixed wing multi ...|      AIRBUS|A319-111|      2|  147| null|Turbo-fan|          AIRBUS| A319-111|    2004|null|\n",
      "| N929FR|null|Fixed wing multi ...|      AIRBUS|A319-111|      2|  147| null|Turbo-fan|          AIRBUS| A319-111|    2004|null|\n",
      "| N931FR|null|Fixed wing multi ...|      AIRBUS|A319-111|      2|  147| null|Turbo-fan|          AIRBUS| A319-111|    2004|null|\n",
      "| N932FR|null|Fixed wing multi ...|      AIRBUS|A319-111|      2|  147| null|Turbo-fan|          AIRBUS| A319-111|    2004|null|\n",
      "| N933FR|null|Fixed wing multi ...|      AIRBUS|A319-111|      2|  147| null|Turbo-fan|          AIRBUS| A319-111|    2004|null|\n",
      "| N934FR|null|Fixed wing multi ...|      AIRBUS|A319-111|      2|  147| null|Turbo-fan|          AIRBUS| A319-111|    2004|null|\n",
      "| N935FR|null|Fixed wing multi ...|      AIRBUS|A319-111|      2|  147| null|Turbo-fan|          AIRBUS| A319-111|    2004|null|\n",
      "| N947FR|null|Fixed wing multi ...|      AIRBUS|A319-111|      2|  147| null|Turbo-fan|          AIRBUS| A319-111|    2004|null|\n",
      "+-------+----+--------------------+------------+--------+-------+-----+-----+---------+----------------+---------+--------+----+\n",
      "only showing top 20 rows\n",
      "\n"
     ]
    }
   ],
   "source": [
    "from datetime import date\n",
    "\n",
    "current_year = date.today().year\n",
    "\n",
    "df_planes = df_planes.withColumn('age',(\n",
    "                F.when(\n",
    "                   check_empty_column('year'), None\n",
    "                ).otherwise(( current_year - F.col('year')))\n",
    "            ))\n",
    "\n",
    "df_planes.show()"
   ]
  },
  {
   "cell_type": "code",
   "execution_count": 27,
   "metadata": {
    "datalore": {
     "hide_input_from_viewers": false,
     "hide_output_from_viewers": false,
     "type": "CODE"
    }
   },
   "outputs": [
    {
     "name": "stdout",
     "output_type": "stream",
     "text": [
      "+-------+----+--------------------+--------------------+--------------+-------+-----+-----+-------------+--------------------+-------------+--------+---+\n",
      "|tailnum|year|                type|        manufacturer|         model|engines|seats|speed|       engine|    old_manufacturer|    old_model|old_year|age|\n",
      "+-------+----+--------------------+--------------------+--------------+-------+-----+-----+-------------+--------------------+-------------+--------+---+\n",
      "| N906FR|2002|Fixed wing multi ...|              AIRBUS|      A319-111|      2|  147| null|    Turbo-fan|                null|         null|    null| 20|\n",
      "| N902FR|2001|Fixed wing multi ...|    AIRBUS INDUSTRIE|      A319-111|      2|  147| null|    Turbo-jet|              AIRBUS|     A330-323|    2007| 21|\n",
      "| N508AA|1975|          Rotorcraft|                BELL|          206B|      1|    5|  112|  Turbo-shaft|       BARKER JACK L|ZODIAC 601HDS|    null| 47|\n",
      "| N659SW|1985|Fixed wing multi ...|              BOEING|       737-301|      2|  149| null|    Turbo-fan|                BELL|         206B|    1975| 37|\n",
      "| N201AA|1959|Fixed wing single...|              CESSNA|           150|      1|    2|   90|Reciprocating|            CANADAIR|  CL-600-2B19|    1997| 63|\n",
      "| N508JB|2007|Fixed wing single...|  CIRRUS DESIGN CORP|          SR22|      1|    4| null|Reciprocating|              CESSNA|         421C|    1980| 15|\n",
      "| N563SW|1998|Fixed wing multi ...|             EMBRAER|       EMB-120|      2|   32| null|   Turbo-prop|  CIRRUS DESIGN CORP|         SR22|    2007| 24|\n",
      "| N550AA|2003|Fixed wing multi ...|GULFSTREAM AEROSPACE|  GV-SP (G550)|      2|   20| null|    Turbo-fan|             EMBRAER|    EMB-120ER|    1999| 19|\n",
      "| N520AA|1985|Fixed wing single...|        KILDALL GARY|     FALCON-XP|      1|    2| null|Reciprocating|GULFSTREAM AEROSPACE| GV-SP (G550)|    2003| 37|\n",
      "| N557AA|1993|Fixed wing single...|          MARZ BARRY|     KITFOX IV|      1|    2| null|Reciprocating|     LAMBERT RICHARD|    FALCON XP|    null| 29|\n",
      "| N426AA|1986|Fixed wing multi ...|   MCDONNELL DOUGLAS|DC-9-82(MD-82)|      2|  172| null|    Turbo-fan|          MARZ BARRY|    KITFOX IV|    1993| 36|\n",
      "| N907DL|1987|Fixed wing multi ...|MCDONNELL DOUGLAS...|         MD-88|      2|  142| null|    Turbo-fan|   MCDONNELL DOUGLAS|     MD-90-30|    1998| 35|\n",
      "| N425AA|1968|Fixed wing single...|               PIPER|     PA-28-180|      1|    4|  107|Reciprocating|MCDONNELL DOUGLAS...|        MD-88|    1989| 54|\n",
      "| N537JB|2012|          Rotorcraft|ROBINSON HELICOPT...|           R66|      1|    5| null|  Turbo-shaft|               PIPER|   PA-32R-300|    1976| 10|\n",
      "| N347AA|1985|          Rotorcraft|            SIKORSKY|         S-76A|      2|   14| null|  Turbo-shaft|ROBINSON HELICOPT...|          R66|    2012| 37|\n",
      "+-------+----+--------------------+--------------------+--------------+-------+-----+-----+-------------+--------------------+-------------+--------+---+\n",
      "\n"
     ]
    }
   ],
   "source": [
    "df_planes.select('*').where(df_planes.age.isNotNull()).show()\n",
    "\n",
    "df_planes = df_planes.drop('old_manufacturer', 'old_model', 'old_year')"
   ]
  },
  {
   "attachments": {},
   "cell_type": "markdown",
   "metadata": {
    "datalore": {
     "hide_input_from_viewers": false,
     "hide_output_from_viewers": false,
     "type": "MD"
    }
   },
   "source": [
    "# 5."
   ]
  },
  {
   "cell_type": "code",
   "execution_count": 28,
   "metadata": {
    "datalore": {
     "hide_input_from_viewers": false,
     "hide_output_from_viewers": false,
     "type": "CODE"
    }
   },
   "outputs": [
    {
     "name": "stdout",
     "output_type": "stream",
     "text": [
      "+-------+----+----------+--------------------+--------------+-------+-----+-----+-------------+---+\n",
      "|tailnum|year|      type|        manufacturer|         model|engines|seats|speed|       engine|age|\n",
      "+-------+----+----------+--------------------+--------------+-------+-----+-----+-------------+---+\n",
      "| N906FR|2002|      null|              AIRBUS|      A319-111|      2|  147| null|    Turbo-fan| 20|\n",
      "| N902FR|2001|      null|    AIRBUS INDUSTRIE|      A319-111|      2|  147| null|    Turbo-jet| 21|\n",
      "| N508AA|1975|ROTORCRAFT|                BELL|          206B|      1|    5|  112|  Turbo-shaft| 47|\n",
      "| N659SW|1985|      null|              BOEING|       737-301|      2|  149| null|    Turbo-fan| 37|\n",
      "| N201AA|1959|      null|              CESSNA|           150|      1|    2|   90|Reciprocating| 63|\n",
      "| N508JB|2007|      null|  CIRRUS DESIGN CORP|          SR22|      1|    4| null|Reciprocating| 15|\n",
      "| N563SW|1998|      null|             EMBRAER|       EMB-120|      2|   32| null|   Turbo-prop| 24|\n",
      "| N550AA|2003|      null|GULFSTREAM AEROSPACE|  GV-SP (G550)|      2|   20| null|    Turbo-fan| 19|\n",
      "| N520AA|1985|      null|        KILDALL GARY|     FALCON-XP|      1|    2| null|Reciprocating| 37|\n",
      "| N557AA|1993|      null|          MARZ BARRY|     KITFOX IV|      1|    2| null|Reciprocating| 29|\n",
      "| N426AA|1986|      null|   MCDONNELL DOUGLAS|DC-9-82(MD-82)|      2|  172| null|    Turbo-fan| 36|\n",
      "| N907DL|1987|      null|MCDONNELL DOUGLAS...|         MD-88|      2|  142| null|    Turbo-fan| 35|\n",
      "| N425AA|1968|      null|               PIPER|     PA-28-180|      1|    4|  107|Reciprocating| 54|\n",
      "| N537JB|2012|ROTORCRAFT|ROBINSON HELICOPT...|           R66|      1|    5| null|  Turbo-shaft| 10|\n",
      "| N347AA|1985|ROTORCRAFT|            SIKORSKY|         S-76A|      2|   14| null|  Turbo-shaft| 37|\n",
      "+-------+----+----------+--------------------+--------------+-------+-----+-----+-------------+---+\n",
      "\n"
     ]
    }
   ],
   "source": [
    "#Fixed wing multi engine: MULTI_ENG\n",
    "#Fixed wing single engine: SINGLE_ENG\n",
    "#Rotorcraft: ROTORCRAFT\n",
    "\n",
    "data = df_planes.withColumn('type', (\n",
    "    F.when(\n",
    "        check_empty_column('type'), None\n",
    "    ).when(\n",
    "        F.col('type').rlike('.*(Fixed wing multi engine).*'), 'MULTI_ENG'\n",
    "    ).when(\n",
    "        F.col('type').rlike('.*(Fixed wing single engine).*'), 'SINGLE_ENG'\n",
    "    ).when(\n",
    "        F.col('type').rlike('.*(Rotorcraft).*'), 'ROTORCRAFT'\n",
    "    )\n",
    "))\n",
    "\n",
    "data.select('*').where(df_planes.age.isNotNull()).show()"
   ]
  },
  {
   "cell_type": "code",
   "execution_count": 29,
   "metadata": {
    "datalore": {
     "hide_input_from_viewers": false,
     "hide_output_from_viewers": false,
     "type": "CODE"
    }
   },
   "outputs": [
    {
     "name": "stdout",
     "output_type": "stream",
     "text": [
      "+-------+----+----+------------+--------+-------+-----+-----+---------+----+\n",
      "|tailnum|year|type|manufacturer|   model|engines|seats|speed|   engine| age|\n",
      "+-------+----+----+------------+--------+-------+-----+-----+---------+----+\n",
      "| N906FR|2002|null|      AIRBUS|A319-111|      2|  147| null|Turbo-fan|  20|\n",
      "| N908FR|null|null|      AIRBUS|A319-111|      2|  147| null|Turbo-fan|null|\n",
      "| N912FR|null|null|      AIRBUS|A319-111|      2|  147| null|Turbo-fan|null|\n",
      "| N918FR|null|null|      AIRBUS|A319-111|      2|  147| null|Turbo-fan|null|\n",
      "| N919FR|null|null|      AIRBUS|A319-111|      2|  147| null|Turbo-fan|null|\n",
      "| N920FR|null|null|      AIRBUS|A319-111|      2|  147| null|Turbo-fan|null|\n",
      "| N921FR|null|null|      AIRBUS|A319-111|      2|  147| null|Turbo-fan|null|\n",
      "| N922FR|null|null|      AIRBUS|A319-111|      2|  147| null|Turbo-fan|null|\n",
      "| N923FR|null|null|      AIRBUS|A319-111|      2|  147| null|Turbo-fan|null|\n",
      "| N924FR|null|null|      AIRBUS|A319-111|      2|  147| null|Turbo-fan|null|\n",
      "| N925FR|null|null|      AIRBUS|A319-111|      2|  147| null|Turbo-fan|null|\n",
      "| N926FR|null|null|      AIRBUS|A319-111|      2|  147| null|Turbo-fan|null|\n",
      "| N928FR|null|null|      AIRBUS|A319-111|      2|  147| null|Turbo-fan|null|\n",
      "| N929FR|null|null|      AIRBUS|A319-111|      2|  147| null|Turbo-fan|null|\n",
      "| N931FR|null|null|      AIRBUS|A319-111|      2|  147| null|Turbo-fan|null|\n",
      "| N932FR|null|null|      AIRBUS|A319-111|      2|  147| null|Turbo-fan|null|\n",
      "| N933FR|null|null|      AIRBUS|A319-111|      2|  147| null|Turbo-fan|null|\n",
      "| N934FR|null|null|      AIRBUS|A319-111|      2|  147| null|Turbo-fan|null|\n",
      "| N935FR|null|null|      AIRBUS|A319-111|      2|  147| null|Turbo-fan|null|\n",
      "| N947FR|null|null|      AIRBUS|A319-111|      2|  147| null|Turbo-fan|null|\n",
      "+-------+----+----+------------+--------+-------+-----+-----+---------+----+\n",
      "only showing top 20 rows\n",
      "\n"
     ]
    }
   ],
   "source": [
    "data.show(20)"
   ]
  },
  {
   "attachments": {},
   "cell_type": "markdown",
   "metadata": {
    "datalore": {
     "hide_input_from_viewers": false,
     "hide_output_from_viewers": false,
     "type": "MD"
    }
   },
   "source": [
    "# 6."
   ]
  },
  {
   "cell_type": "code",
   "execution_count": 30,
   "metadata": {
    "datalore": {
     "hide_input_from_viewers": false,
     "hide_output_from_viewers": false,
     "type": "CODE"
    }
   },
   "outputs": [],
   "source": [
    "#AIRBUS\n",
    "#BOEING\n",
    "#BOMBARDIER\n",
    "#CESSNA\n",
    "#EMBRAER\n",
    "#SIKORSKY\n",
    "#CANADAIR\n",
    "#PIPER\n",
    "#MCDONNELL DOUGLAS\n",
    "#CIRRUS\n",
    "#BELL\n",
    "#KILDALL GARY\n",
    "#LAMBERT RICHARD\n",
    "#BARKER JACK\n",
    "#ROBINSON HELICOPTER\n",
    "#GULFSTREAM\n",
    "#MARZ BARRY"
   ]
  },
  {
   "cell_type": "code",
   "execution_count": 31,
   "metadata": {
    "datalore": {
     "hide_input_from_viewers": false,
     "hide_output_from_viewers": false,
     "type": "CODE"
    }
   },
   "outputs": [
    {
     "name": "stdout",
     "output_type": "stream",
     "text": [
      "+-------+----+--------------------+------------+--------+-------+-----+-----+---------+----+\n",
      "|tailnum|year|                type|manufacturer|   model|engines|seats|speed|   engine| age|\n",
      "+-------+----+--------------------+------------+--------+-------+-----+-----+---------+----+\n",
      "| N906FR|2002|Fixed wing multi ...|      AIRBUS|A319-111|      2|  147| null|Turbo-fan|  20|\n",
      "| N908FR|null|Fixed wing multi ...|      AIRBUS|A319-111|      2|  147| null|Turbo-fan|null|\n",
      "| N912FR|null|Fixed wing multi ...|      AIRBUS|A319-111|      2|  147| null|Turbo-fan|null|\n",
      "| N918FR|null|Fixed wing multi ...|      AIRBUS|A319-111|      2|  147| null|Turbo-fan|null|\n",
      "| N919FR|null|Fixed wing multi ...|      AIRBUS|A319-111|      2|  147| null|Turbo-fan|null|\n",
      "| N920FR|null|Fixed wing multi ...|      AIRBUS|A319-111|      2|  147| null|Turbo-fan|null|\n",
      "| N921FR|null|Fixed wing multi ...|      AIRBUS|A319-111|      2|  147| null|Turbo-fan|null|\n",
      "| N922FR|null|Fixed wing multi ...|      AIRBUS|A319-111|      2|  147| null|Turbo-fan|null|\n",
      "| N923FR|null|Fixed wing multi ...|      AIRBUS|A319-111|      2|  147| null|Turbo-fan|null|\n",
      "| N924FR|null|Fixed wing multi ...|      AIRBUS|A319-111|      2|  147| null|Turbo-fan|null|\n",
      "| N925FR|null|Fixed wing multi ...|      AIRBUS|A319-111|      2|  147| null|Turbo-fan|null|\n",
      "| N926FR|null|Fixed wing multi ...|      AIRBUS|A319-111|      2|  147| null|Turbo-fan|null|\n",
      "| N928FR|null|Fixed wing multi ...|      AIRBUS|A319-111|      2|  147| null|Turbo-fan|null|\n",
      "| N929FR|null|Fixed wing multi ...|      AIRBUS|A319-111|      2|  147| null|Turbo-fan|null|\n",
      "| N931FR|null|Fixed wing multi ...|      AIRBUS|A319-111|      2|  147| null|Turbo-fan|null|\n",
      "| N932FR|null|Fixed wing multi ...|      AIRBUS|A319-111|      2|  147| null|Turbo-fan|null|\n",
      "| N933FR|null|Fixed wing multi ...|      AIRBUS|A319-111|      2|  147| null|Turbo-fan|null|\n",
      "| N934FR|null|Fixed wing multi ...|      AIRBUS|A319-111|      2|  147| null|Turbo-fan|null|\n",
      "| N935FR|null|Fixed wing multi ...|      AIRBUS|A319-111|      2|  147| null|Turbo-fan|null|\n",
      "| N947FR|null|Fixed wing multi ...|      AIRBUS|A319-111|      2|  147| null|Turbo-fan|null|\n",
      "+-------+----+--------------------+------------+--------+-------+-----+-----+---------+----+\n",
      "only showing top 20 rows\n",
      "\n"
     ]
    }
   ],
   "source": [
    "# Usando dataframe\n",
    "\n",
    "PLANES_MANUFACTURERS = [\"AIRBUS\",\"BOEING\",\"BOMBARDIER\",\"CESSNA\",\"EMBRAER\",\"SIKORSKY\",\"CANADAIR\",\"PIPER\",\"MCDONNELL DOUGLAS\",\"CIRRUS\",\"BELL\",\"KILDALL GARY\",\"LAMBERT RICHARD\",\"BARKER JACK\",\"ROBINSON HELICOPTER\",\"GULFSTREAM\",\"MARZ BARRY\"]\n",
    "REGEX_MANUFACTURERS = r'|'.join(map(lambda x : f\".*({x}).*\", PLANES_MANUFACTURERS))\n",
    "\"\"\"\n",
    "def get_byregex_and_extract(r_pattern, col_to_search):\n",
    "    return (getattr(re.search(r_pattern, F.col(col_to_search), re.IGNORECASE), 'groups', lambda:[\"\"])().upper())\n",
    "\n",
    "nteste = F.udf(get_byregex_and_extract)\n",
    "\n",
    "data = df_planes.withColumn('q_manufacturer', (\n",
    "                F.when(check_empty_column('manufacturer'), 'M')\n",
    "                 .when(F.col('manufacturer').rlike(REGEX_MANUFACTURERS),\n",
    "                    nteste(REGEX_MANUFACTURERS, 'manufacturers')\n",
    "                 )\n",
    "            ))\n",
    "\n",
    "data.select('*').where(data.q_manufacturer.isNotNull()).show()\"\"\"\n",
    "\n",
    "data = df_planes.withColumn('manufacturer',(\n",
    "                F.when(check_empty_column('manufacturer'), 'M')\n",
    "                 .when(\n",
    "                     F.col('manufacturer').rlike('.*(AIRBUS).*'),\"AIRBUS\"\n",
    "                 )\n",
    "                 .when(\n",
    "                     F.col('manufacturer').rlike('.*(BOEING).*'),\"BOEING\"\n",
    "                 )\n",
    "                 .when(\n",
    "                     F.col('manufacturer').rlike('.*(BOMBARDIER).*'),\"BOMBARDIER\"\n",
    "                 )\n",
    "                 .when(\n",
    "                     F.col('manufacturer').rlike('.*(CESSNA).*'),\"CESSNA\"\n",
    "                 )\n",
    "                 .when(\n",
    "                     F.col('manufacturer').rlike('.*(EMBRAER).*'),\"EMBRAER\"\n",
    "                 )\n",
    "                 .when(\n",
    "                     F.col('manufacturer').rlike('.*(SIKORSKY).*'),\"SIKORSKY\"\n",
    "                 )\n",
    "                 .when(\n",
    "                     F.col('manufacturer').rlike('.*(CANADAIR).*'),\"CANADAIR\"\n",
    "                 )\n",
    "                 .when(\n",
    "                     F.col('manufacturer').rlike('.*(PIPER).*'),\"PIPER\"\n",
    "                 )\n",
    "                 .when(\n",
    "                    F.col('manufacturer').rlike('.*(MCDONNELL DOUGLAS).*'),\"MCDONNELL DOUGLAS\"\n",
    "                 )\n",
    "                 .when(\n",
    "                     F.col('manufacturer').rlike('.*(CIRRUS).*'),\"CIRRUS\"\n",
    "                 )\n",
    "                 .when(\n",
    "                     F.col('manufacturer').rlike('.*(BELL).*'),\"BELL\"\n",
    "                 )\n",
    "                 .when(\n",
    "                     F.col('manufacturer').rlike('.*(KILDALL GARY).*'),\"KILDALL GARY\"\n",
    "                 )\n",
    "                 .when(\n",
    "                     F.col('manufacturer').rlike('.*(LAMBERT RICHARD).*'),\"LAMBERT RICHARD\"\n",
    "                 )\n",
    "                 .when(\n",
    "                     F.col('manufacturer').rlike('.*(BARKER JACK).*'),\"BARKER JACK\"\n",
    "                 )\n",
    "                 .when(\n",
    "                     F.col('manufacturer').rlike('.*(ROBINSON HELICOPTER).*'),\"ROBINSON HELICOPTER\"\n",
    "                 )\n",
    "                 .when(\n",
    "                     F.col('manufacturer').rlike('.*(GULFSTREAM).*'),\"GULFSTREAM\"\n",
    "                 )\n",
    "                 .when(\n",
    "                     F.col('manufacturer').rlike('.*(MARZ BARRY).*'),\"MARZ BARRY\"\n",
    "                 )\n",
    "            ))\n",
    "\n",
    "data.show()\n",
    "\n",
    "#com rdd\n",
    "#lambda manufacture:  manufacture, re.IGNORECASE), 'groups', lambda:[u\"\"])()[0].upper()\n",
    "#rdd_df_planes.map(lambda manufacturer: re.search(REGEX_MANUFACTURERS, manufacturer[3], re.IGNORECASE).group(1)  ).collect()"
   ]
  },
  {
   "attachments": {},
   "cell_type": "markdown",
   "metadata": {
    "datalore": {
     "hide_input_from_viewers": false,
     "hide_output_from_viewers": false,
     "type": "MD"
    }
   },
   "source": [
    "# 7."
   ]
  },
  {
   "cell_type": "code",
   "execution_count": 35,
   "metadata": {
    "datalore": {
     "hide_input_from_viewers": false,
     "hide_output_from_viewers": false,
     "type": "CODE"
    }
   },
   "outputs": [
    {
     "name": "stdout",
     "output_type": "stream",
     "text": [
      "+-------+----+----+------------+-----+-------+-----+-----+------+---+\n",
      "|tailnum|year|type|manufacturer|model|engines|seats|speed|engine|age|\n",
      "+-------+----+----+------------+-----+-------+-----+-----+------+---+\n",
      "+-------+----+----+------------+-----+-------+-----+-----+------+---+\n",
      "\n",
      "+-------+----+--------------------+----------------+--------+-------+-----+-----+---------+--------+\n",
      "|tailnum|year|                type|    manufacturer|   model|engines|seats|speed|   engine|   model|\n",
      "+-------+----+--------------------+----------------+--------+-------+-----+-----+---------+--------+\n",
      "| N102UW|1998|Fixed wing multi ...|AIRBUS INDUSTRIE|A320-214|      2|  182| null|Turbo-fan|A320-214|\n",
      "| N103US|1999|Fixed wing multi ...|AIRBUS INDUSTRIE|A320-214|      2|  182| null|Turbo-fan|A320-214|\n",
      "| N104UW|1999|Fixed wing multi ...|AIRBUS INDUSTRIE|A320-214|      2|  182| null|Turbo-fan|A320-214|\n",
      "| N105UW|1999|Fixed wing multi ...|AIRBUS INDUSTRIE|A320-214|      2|  182| null|Turbo-fan|A320-214|\n",
      "| N107US|1999|Fixed wing multi ...|AIRBUS INDUSTRIE|A320-214|      2|  182| null|Turbo-fan|A320-214|\n",
      "| N108UW|1999|Fixed wing multi ...|AIRBUS INDUSTRIE|A320-214|      2|  182| null|Turbo-fan|A320-214|\n",
      "| N109UW|1999|Fixed wing multi ...|AIRBUS INDUSTRIE|A320-214|      2|  182| null|Turbo-fan|A320-214|\n",
      "| N110UW|1999|Fixed wing multi ...|AIRBUS INDUSTRIE|A320-214|      2|  182| null|Turbo-fan|A320-214|\n",
      "| N111US|1999|Fixed wing multi ...|AIRBUS INDUSTRIE|A320-214|      2|  182| null|Turbo-fan|A320-214|\n",
      "| N11206|2000|Fixed wing multi ...|          BOEING| 737-824|      2|  149| null|Turbo-fan| 737-824|\n",
      "| N112US|1999|Fixed wing multi ...|AIRBUS INDUSTRIE|A320-214|      2|  182| null|Turbo-fan|A320-214|\n",
      "| N113UW|1999|Fixed wing multi ...|AIRBUS INDUSTRIE|A320-214|      2|  182| null|Turbo-fan|A320-214|\n",
      "| N114UW|1999|Fixed wing multi ...|AIRBUS INDUSTRIE|A320-214|      2|  182| null|Turbo-fan|A320-214|\n",
      "| N117UW|2000|Fixed wing multi ...|AIRBUS INDUSTRIE|A320-214|      2|  182| null|Turbo-fan|A320-214|\n",
      "| N118US|2000|Fixed wing multi ...|AIRBUS INDUSTRIE|A320-214|      2|  182| null|Turbo-fan|A320-214|\n",
      "| N119US|2000|Fixed wing multi ...|AIRBUS INDUSTRIE|A320-214|      2|  182| null|Turbo-fan|A320-214|\n",
      "| N1200K|1998|Fixed wing multi ...|          BOEING| 767-332|      2|  330| null|Turbo-fan| 767-332|\n",
      "| N1201P|1998|Fixed wing multi ...|          BOEING| 767-332|      2|  330| null|Turbo-fan| 767-332|\n",
      "| N12114|1995|Fixed wing multi ...|          BOEING| 757-224|      2|  178| null|Turbo-jet| 757-224|\n",
      "| N121DE|1987|Fixed wing multi ...|          BOEING| 767-332|      2|  330| null|Turbo-fan| 767-332|\n",
      "+-------+----+--------------------+----------------+--------+-------+-----+-----+---------+--------+\n",
      "only showing top 20 rows\n",
      "\n"
     ]
    }
   ],
   "source": [
    "data = df_planes.withColumn('model', (\n",
    "            F.when(\n",
    "                F.col('model').rlike('\\(.*\\)'), F.regexp_replace('model', r'[(].*[)]', '')\n",
    "\n",
    "            ).otherwise(F.col('model'))\n",
    "        ))\n",
    "\n",
    "#check for values with parentheses\n",
    "data.select('*').where(data.model.rlike('\\(.*\\)')).sort(F.desc('model')).show()\n",
    "\n",
    "parenthesis_sql = spark.getOrCreate().sql(\n",
    "\"\"\"\n",
    "select *,\n",
    "        case \n",
    "            when model like '\\(.*\\)' then regexp_replace(model, '[(].*[)]', '')\n",
    "        else\n",
    "            model\n",
    "        end as model\n",
    "\n",
    "    from planes_view\n",
    "\"\"\"\n",
    ")\n",
    "\n",
    "parenthesis_sql.show()"
   ]
  },
  {
   "attachments": {},
   "cell_type": "markdown",
   "metadata": {
    "datalore": {
     "hide_input_from_viewers": false,
     "hide_output_from_viewers": false,
     "type": "MD"
    }
   },
   "source": [
    "# 8."
   ]
  },
  {
   "cell_type": "code",
   "execution_count": 36,
   "metadata": {
    "datalore": {
     "hide_input_from_viewers": false,
     "hide_output_from_viewers": false,
     "type": "CODE"
    }
   },
   "outputs": [
    {
     "name": "stdout",
     "output_type": "stream",
     "text": [
      "+-------+----+--------------------+------------+--------+-------+-----+-----+---------+----+\n",
      "|tailnum|year|                type|manufacturer|   model|engines|seats|speed|   engine| age|\n",
      "+-------+----+--------------------+------------+--------+-------+-----+-----+---------+----+\n",
      "| N906FR|2002|Fixed wing multi ...|      AIRBUS|A319-111|      2|  147|  387|Turbo-fan|  20|\n",
      "| N908FR|null|Fixed wing multi ...|      AIRBUS|A319-111|      2|  147|  387|Turbo-fan|null|\n",
      "| N912FR|null|Fixed wing multi ...|      AIRBUS|A319-111|      2|  147|  387|Turbo-fan|null|\n",
      "| N918FR|null|Fixed wing multi ...|      AIRBUS|A319-111|      2|  147|  387|Turbo-fan|null|\n",
      "| N919FR|null|Fixed wing multi ...|      AIRBUS|A319-111|      2|  147|  387|Turbo-fan|null|\n",
      "| N920FR|null|Fixed wing multi ...|      AIRBUS|A319-111|      2|  147|  387|Turbo-fan|null|\n",
      "| N921FR|null|Fixed wing multi ...|      AIRBUS|A319-111|      2|  147|  387|Turbo-fan|null|\n",
      "| N922FR|null|Fixed wing multi ...|      AIRBUS|A319-111|      2|  147|  387|Turbo-fan|null|\n",
      "| N923FR|null|Fixed wing multi ...|      AIRBUS|A319-111|      2|  147|  387|Turbo-fan|null|\n",
      "| N924FR|null|Fixed wing multi ...|      AIRBUS|A319-111|      2|  147|  387|Turbo-fan|null|\n",
      "| N925FR|null|Fixed wing multi ...|      AIRBUS|A319-111|      2|  147|  387|Turbo-fan|null|\n",
      "| N926FR|null|Fixed wing multi ...|      AIRBUS|A319-111|      2|  147|  387|Turbo-fan|null|\n",
      "| N928FR|null|Fixed wing multi ...|      AIRBUS|A319-111|      2|  147|  387|Turbo-fan|null|\n",
      "| N929FR|null|Fixed wing multi ...|      AIRBUS|A319-111|      2|  147|  387|Turbo-fan|null|\n",
      "| N931FR|null|Fixed wing multi ...|      AIRBUS|A319-111|      2|  147|  387|Turbo-fan|null|\n",
      "| N932FR|null|Fixed wing multi ...|      AIRBUS|A319-111|      2|  147|  387|Turbo-fan|null|\n",
      "| N933FR|null|Fixed wing multi ...|      AIRBUS|A319-111|      2|  147|  387|Turbo-fan|null|\n",
      "| N934FR|null|Fixed wing multi ...|      AIRBUS|A319-111|      2|  147|  387|Turbo-fan|null|\n",
      "| N935FR|null|Fixed wing multi ...|      AIRBUS|A319-111|      2|  147|  387|Turbo-fan|null|\n",
      "| N947FR|null|Fixed wing multi ...|      AIRBUS|A319-111|      2|  147|  387|Turbo-fan|null|\n",
      "+-------+----+--------------------+------------+--------+-------+-----+-----+---------+----+\n",
      "only showing top 20 rows\n",
      "\n"
     ]
    }
   ],
   "source": [
    "data = df_planes.withColumn(\"speed\", (F.when(\n",
    "                                    check_empty_column('speed'), (F.ceil(F.column('seats').cast(FloatType()) /.38))\n",
    "                                ).otherwise(F.col('speed')))\n",
    "                           )\n",
    "data.show()\n",
    "\n",
    "sql_results = spark.getOrCreate().sql(\"\"\"\n",
    "select\n",
    "        *,\n",
    "        case\n",
    "            when \n",
    "               speed is null or speed like '' then ceil(seats/.38)\n",
    "            else\n",
    "               speed\n",
    "        end as speed\n",
    "    from planes_view\n",
    "\"\"\") "
   ]
  },
  {
   "cell_type": "markdown",
   "metadata": {},
   "source": [
    "# 9. Crie a coluna engine_type (category) e atribua os valores a partir de substrings identificadas na coluna engine de acordo com as condições abaixo:"
   ]
  },
  {
   "cell_type": "code",
   "execution_count": null,
   "metadata": {
    "datalore": {
     "hide_input_from_viewers": false,
     "hide_output_from_viewers": false,
     "type": "CODE"
    }
   },
   "outputs": [],
   "source": [
    "data = df_planes.withColumn('engine_type', (\n",
    "    F.when(\n",
    "        check_empty_column('engine'), 'M'\n",
    "    ).when(\n",
    "        F.col('engine') == 'Turbo-fan', 'FAN'\n",
    "    ).when(\n",
    "        F.col('engine') == 'Turbo-jet', 'JET'\n",
    "   ).when(\n",
    "        F.col('engine') == 'Turbo-prop', 'PROP'\n",
    "   ).when(\n",
    "        F.col('engine') == 'Turbo-shaft', 'SHAFT'\n",
    "   ).when(\n",
    "        F.col('engine') == '4 Cycle', 'Cycle'\n",
    "   )\n",
    "))\n",
    "\n",
    "data.show()"
   ]
  },
  {
   "cell_type": "markdown",
   "metadata": {
    "datalore": {
     "hide_input_from_viewers": false,
     "hide_output_from_viewers": false,
     "type": "CODE"
    }
   },
   "source": [
    "## Flights Dataset - Perguntas"
   ]
  },
  {
   "attachments": {},
   "cell_type": "markdown",
   "metadata": {
    "datalore": {
     "hide_input_from_viewers": false,
     "hide_output_from_viewers": false,
     "type": "MD"
    }
   },
   "source": [
    "# 1."
   ]
  },
  {
   "cell_type": "code",
   "execution_count": 38,
   "metadata": {
    "datalore": {
     "hide_input_from_viewers": false,
     "hide_output_from_viewers": false,
     "type": "CODE"
    }
   },
   "outputs": [
    {
     "name": "stdout",
     "output_type": "stream",
     "text": [
      "+----+-----+---+--------+---------+--------+---------+-------+-------+------+------+----+--------+--------+----+------+\n",
      "|year|month|day|dep_time|dep_delay|arr_time|arr_delay|carrier|tailnum|flight|origin|dest|air_time|distance|hour|minute|\n",
      "+----+-----+---+--------+---------+--------+---------+-------+-------+------+------+----+--------+--------+----+------+\n",
      "+----+-----+---+--------+---------+--------+---------+-------+-------+------+------+----+--------+--------+----+------+\n",
      "\n",
      "+----+-----+---+--------+---------+--------+---------+-------+-------+------+------+----+--------+--------+----+------+\n",
      "|year|month|day|dep_time|dep_delay|arr_time|arr_delay|carrier|tailnum|flight|origin|dest|air_time|distance|hour|minute|\n",
      "+----+-----+---+--------+---------+--------+---------+-------+-------+------+------+----+--------+--------+----+------+\n",
      "|2014|   12|  8|     658|       -7|     935|       -5|     VX| N846VA|  1780|   SEA| LAX|     132|     954|   6|    58|\n",
      "|2014|    1| 22|    1040|        5|    1505|        5|     AS| N559AS|   851|   SEA| HNL|     360|    2677|  10|    40|\n",
      "|2014|    3|  9|    1443|       -2|    1652|        2|     VX| N847VA|   755|   SEA| SFO|     111|     679|  14|    43|\n",
      "|2014|    4|  9|    1705|       45|    1839|       34|     WN| N360SW|   344|   PDX| SJC|      83|     569|  17|     5|\n",
      "|2014|    3|  9|     754|       -1|    1015|        1|     AS| N612AS|   522|   SEA| BUR|     127|     937|   7|    54|\n",
      "|2014|    1| 15|    1037|        7|    1352|        2|     WN| N646SW|    48|   PDX| DEN|     121|     991|  10|    37|\n",
      "|2014|    7|  2|     847|       42|    1041|       51|     WN| N422WN|  1520|   PDX| OAK|      90|     543|   8|    47|\n",
      "|2014|    5| 12|    1655|       -5|    1842|      -18|     VX| N361VA|   755|   SEA| SFO|      98|     679|  16|    55|\n",
      "|2014|    4| 19|    1236|       -4|    1508|       -7|     AS| N309AS|   490|   SEA| SAN|     135|    1050|  12|    36|\n",
      "|2014|   11| 19|    1812|       -3|    2352|       -4|     AS| N564AS|    26|   SEA| ORD|     198|    1721|  18|    12|\n",
      "|2014|   11|  8|    1653|       -2|    1924|       -1|     AS| N323AS|   448|   SEA| LAX|     130|     954|  16|    53|\n",
      "|2014|    8|  3|    1120|        0|    1415|        2|     AS| N305AS|   656|   SEA| PHX|     154|    1107|  11|    20|\n",
      "|2014|   10| 30|     811|       21|    1038|       29|     AS| N433AS|   608|   SEA| LAS|     127|     867|   8|    11|\n",
      "|2014|   11| 12|    2346|       -4|     217|      -28|     AS| N765AS|   121|   SEA| ANC|     183|    1448|  23|    46|\n",
      "|2014|   10| 31|    1314|       89|    1544|      111|     AS| N713AS|   306|   SEA| SFO|     129|     679|  13|    14|\n",
      "|2014|    1| 29|    2009|        3|    2159|        9|     UA| N27205|  1458|   PDX| SFO|      90|     550|  20|     9|\n",
      "|2014|   12| 17|    2015|       50|    2150|       41|     AS| N626AS|   368|   SEA| SMF|      76|     605|  20|    15|\n",
      "|2014|    8| 11|    1017|       -3|    1613|       -7|     WN| N8634A|   827|   SEA| MDW|     216|    1733|  10|    17|\n",
      "|2014|    1| 13|    2156|       -9|     607|      -15|     AS| N597AS|    24|   SEA| BOS|     290|    2496|  21|    56|\n",
      "|2014|    6|  5|    1733|      -12|    1945|      -10|     OO| N215AG|  3488|   PDX| BUR|     111|     817|  17|    33|\n",
      "+----+-----+---+--------+---------+--------+---------+-------+-------+------+------+----+--------+--------+----+------+\n",
      "only showing top 20 rows\n",
      "\n"
     ]
    }
   ],
   "source": [
    "data = df_flights.withColumn('hour',(\n",
    "            F.when(\n",
    "                check_empty_column('hour'), 0\n",
    "            ).otherwise(F.col('hour'))\n",
    "        )).withColumn('minute',(\n",
    "            F.when(\n",
    "                check_empty_column('minute'), 0\n",
    "            ).otherwise(F.col('minute'))\n",
    "        ))\n",
    "data.select('*').where(F.col('hour').isNull() | F.col('minute').isNull()).show()\n",
    "\n",
    "data.show()\n",
    "\n",
    "df_flights = data"
   ]
  },
  {
   "attachments": {},
   "cell_type": "markdown",
   "metadata": {
    "datalore": {
     "hide_input_from_viewers": false,
     "hide_output_from_viewers": false,
     "type": "MD"
    }
   },
   "source": [
    "# 2."
   ]
  },
  {
   "cell_type": "code",
   "execution_count": 39,
   "metadata": {
    "datalore": {
     "hide_input_from_viewers": false,
     "hide_output_from_viewers": false,
     "type": "CODE"
    }
   },
   "outputs": [
    {
     "name": "stdout",
     "output_type": "stream",
     "text": [
      "+----+-----+---+--------+---------+--------+---------+-------+-------+------+------+----+--------+--------+----+------+\n",
      "|year|month|day|dep_time|dep_delay|arr_time|arr_delay|carrier|tailnum|flight|origin|dest|air_time|distance|hour|minute|\n",
      "+----+-----+---+--------+---------+--------+---------+-------+-------+------+------+----+--------+--------+----+------+\n",
      "+----+-----+---+--------+---------+--------+---------+-------+-------+------+------+----+--------+--------+----+------+\n",
      "\n",
      "+----+-----+---+--------+---------+--------+---------+-------+-------+------+------+----+--------+--------+----+------+\n",
      "|year|month|day|dep_time|dep_delay|arr_time|arr_delay|carrier|tailnum|flight|origin|dest|air_time|distance|hour|minute|\n",
      "+----+-----+---+--------+---------+--------+---------+-------+-------+------+------+----+--------+--------+----+------+\n",
      "+----+-----+---+--------+---------+--------+---------+-------+-------+------+------+----+--------+--------+----+------+\n",
      "\n",
      "+----+-----+---+--------+---------+--------+---------+-------+-------+------+------+----+--------+--------+----+------+\n",
      "|year|month|day|dep_time|dep_delay|arr_time|arr_delay|carrier|tailnum|flight|origin|dest|air_time|distance|hour|minute|\n",
      "+----+-----+---+--------+---------+--------+---------+-------+-------+------+------+----+--------+--------+----+------+\n",
      "|2014|   12|  8|     658|       -7|     935|       -5|     VX| N846VA|  1780|   SEA| LAX|     132|     954|   6|    58|\n",
      "|2014|    1| 22|    1040|        5|    1505|        5|     AS| N559AS|   851|   SEA| HNL|     360|    2677|  10|    40|\n",
      "|2014|    3|  9|    1443|       -2|    1652|        2|     VX| N847VA|   755|   SEA| SFO|     111|     679|  14|    43|\n",
      "|2014|    4|  9|    1705|       45|    1839|       34|     WN| N360SW|   344|   PDX| SJC|      83|     569|  17|     5|\n",
      "|2014|    3|  9|     754|       -1|    1015|        1|     AS| N612AS|   522|   SEA| BUR|     127|     937|   7|    54|\n",
      "|2014|    1| 15|    1037|        7|    1352|        2|     WN| N646SW|    48|   PDX| DEN|     121|     991|  10|    37|\n",
      "|2014|    7|  2|     847|       42|    1041|       51|     WN| N422WN|  1520|   PDX| OAK|      90|     543|   8|    47|\n",
      "|2014|    5| 12|    1655|       -5|    1842|      -18|     VX| N361VA|   755|   SEA| SFO|      98|     679|  16|    55|\n",
      "|2014|    4| 19|    1236|       -4|    1508|       -7|     AS| N309AS|   490|   SEA| SAN|     135|    1050|  12|    36|\n",
      "|2014|   11| 19|    1812|       -3|    2352|       -4|     AS| N564AS|    26|   SEA| ORD|     198|    1721|  18|    12|\n",
      "|2014|   11|  8|    1653|       -2|    1924|       -1|     AS| N323AS|   448|   SEA| LAX|     130|     954|  16|    53|\n",
      "|2014|    8|  3|    1120|        0|    1415|        2|     AS| N305AS|   656|   SEA| PHX|     154|    1107|  11|    20|\n",
      "|2014|   10| 30|     811|       21|    1038|       29|     AS| N433AS|   608|   SEA| LAS|     127|     867|   8|    11|\n",
      "|2014|   11| 12|    2346|       -4|     217|      -28|     AS| N765AS|   121|   SEA| ANC|     183|    1448|  23|    46|\n",
      "|2014|   10| 31|    1314|       89|    1544|      111|     AS| N713AS|   306|   SEA| SFO|     129|     679|  13|    14|\n",
      "|2014|    1| 29|    2009|        3|    2159|        9|     UA| N27205|  1458|   PDX| SFO|      90|     550|  20|     9|\n",
      "|2014|   12| 17|    2015|       50|    2150|       41|     AS| N626AS|   368|   SEA| SMF|      76|     605|  20|    15|\n",
      "|2014|    8| 11|    1017|       -3|    1613|       -7|     WN| N8634A|   827|   SEA| MDW|     216|    1733|  10|    17|\n",
      "|2014|    1| 13|    2156|       -9|     607|      -15|     AS| N597AS|    24|   SEA| BOS|     290|    2496|  21|    56|\n",
      "|2014|    6|  5|    1733|      -12|    1945|      -10|     OO| N215AG|  3488|   PDX| BUR|     111|     817|  17|    33|\n",
      "+----+-----+---+--------+---------+--------+---------+-------+-------+------+------+----+--------+--------+----+------+\n",
      "only showing top 20 rows\n",
      "\n"
     ]
    }
   ],
   "source": [
    "data = df_flights.withColumn('hour', (\n",
    "    F.when(\n",
    "        (F.col('hour') == 24), 0\n",
    "    ).otherwise(F.col('hour'))\n",
    "))\n",
    "\n",
    "data.select('*').where(F.col('hour').isNull()).show()\n",
    "data.select('*').where(F.col('hour') > 23).show()\n",
    "\n",
    "\n",
    "data.show()\n",
    "\n",
    "df_flights = data"
   ]
  },
  {
   "attachments": {},
   "cell_type": "markdown",
   "metadata": {
    "datalore": {
     "hide_input_from_viewers": false,
     "hide_output_from_viewers": false,
     "type": "MD"
    }
   },
   "source": [
    "# 3."
   ]
  },
  {
   "cell_type": "code",
   "execution_count": null,
   "metadata": {
    "datalore": {
     "hide_input_from_viewers": false,
     "hide_output_from_viewers": false,
     "type": "CODE"
    }
   },
   "outputs": [],
   "source": [
    "mapping = F.create_map()\n",
    "data = df_flights.withColumn('dep_datetime', (\n",
    "    F.when(\n",
    "        check_empty_column('minute'), None\n",
    "    ).otherwise(F.concat(\n",
    "        F.col('year'), F.lit('-'), F.col('month'),F.lit('-'),F.col('day'),\n",
    "        F.lit(' '), F.col('hour'), F.lit(':'), F.col('minute'), F.lit(':00')\n",
    "    ))\n",
    "))\n",
    "\n",
    "data.show()\n",
    "\n",
    "df_flights = data"
   ]
  },
  {
   "attachments": {},
   "cell_type": "markdown",
   "metadata": {
    "datalore": {
     "hide_input_from_viewers": false,
     "hide_output_from_viewers": false,
     "type": "MD"
    }
   },
   "source": [
    "# 4."
   ]
  },
  {
   "cell_type": "code",
   "execution_count": 40,
   "metadata": {
    "datalore": {
     "hide_input_from_viewers": false,
     "hide_output_from_viewers": false,
     "type": "CODE"
    }
   },
   "outputs": [
    {
     "name": "stdout",
     "output_type": "stream",
     "text": [
      "+----+-----+---+--------+---------+--------+---------+-------+-------+------+------+----+--------+--------+----+------+\n",
      "|year|month|day|dep_time|dep_delay|arr_time|arr_delay|carrier|tailnum|flight|origin|dest|air_time|distance|hour|minute|\n",
      "+----+-----+---+--------+---------+--------+---------+-------+-------+------+------+----+--------+--------+----+------+\n",
      "|2014|   12|  8|     658|       -7|     935|       -5|     VX| N846VA|  1780|   SEA| LAX|     132|     954|   6|    58|\n",
      "|2014|    1| 22|    1040|        5|    1505|        5|     AS| N559AS|   851|   SEA| HNL|     360|    2677|  10|    40|\n",
      "|2014|    3|  9|    1443|       -2|    1652|        2|     VX| N847VA|   755|   SEA| SFO|     111|     679|  14|    43|\n",
      "|2014|    4|  9|    1705|       45|    1839|       34|     WN| N360SW|   344|   PDX| SJC|      83|     569|  17|     5|\n",
      "|2014|    3|  9|     754|       -1|    1015|        1|     AS| N612AS|   522|   SEA| BUR|     127|     937|   7|    54|\n",
      "|2014|    1| 15|    1037|        7|    1352|        2|     WN| N646SW|    48|   PDX| DEN|     121|     991|  10|    37|\n",
      "|2014|    7|  2|     847|       42|    1041|       51|     WN| N422WN|  1520|   PDX| OAK|      90|     543|   8|    47|\n",
      "|2014|    5| 12|    1655|       -5|    1842|      -18|     VX| N361VA|   755|   SEA| SFO|      98|     679|  16|    55|\n",
      "|2014|    4| 19|    1236|       -4|    1508|       -7|     AS| N309AS|   490|   SEA| SAN|     135|    1050|  12|    36|\n",
      "|2014|   11| 19|    1812|       -3|    2352|       -4|     AS| N564AS|    26|   SEA| ORD|     198|    1721|  18|    12|\n",
      "|2014|   11|  8|    1653|       -2|    1924|       -1|     AS| N323AS|   448|   SEA| LAX|     130|     954|  16|    53|\n",
      "|2014|    8|  3|    1120|        0|    1415|        2|     AS| N305AS|   656|   SEA| PHX|     154|    1107|  11|    20|\n",
      "|2014|   10| 30|     811|       21|    1038|       29|     AS| N433AS|   608|   SEA| LAS|     127|     867|   8|    11|\n",
      "|2014|   11| 12|    2346|       -4|     217|      -28|     AS| N765AS|   121|   SEA| ANC|     183|    1448|  23|    46|\n",
      "|2014|   10| 31|    1314|       89|    1544|      111|     AS| N713AS|   306|   SEA| SFO|     129|     679|  13|    14|\n",
      "|2014|    1| 29|    2009|        3|    2159|        9|     UA| N27205|  1458|   PDX| SFO|      90|     550|  20|     9|\n",
      "|2014|   12| 17|    2015|       50|    2150|       41|     AS| N626AS|   368|   SEA| SMF|      76|     605|  20|    15|\n",
      "|2014|    8| 11|    1017|       -3|    1613|       -7|     WN| N8634A|   827|   SEA| MDW|     216|    1733|  10|    17|\n",
      "|2014|    1| 13|    2156|       -9|     607|      -15|     AS| N597AS|    24|   SEA| BOS|     290|    2496|  21|    56|\n",
      "|2014|    6|  5|    1733|      -12|    1945|      -10|     OO| N215AG|  3488|   PDX| BUR|     111|     817|  17|    33|\n",
      "+----+-----+---+--------+---------+--------+---------+-------+-------+------+------+----+--------+--------+----+------+\n",
      "only showing top 20 rows\n",
      "\n",
      "+----+-----+---+--------+---------+--------+---------+-------+-------+------+------+----+--------+--------+----+------+\n",
      "|year|month|day|dep_time|dep_delay|arr_time|arr_delay|carrier|tailnum|flight|origin|dest|air_time|distance|hour|minute|\n",
      "+----+-----+---+--------+---------+--------+---------+-------+-------+------+------+----+--------+--------+----+------+\n",
      "+----+-----+---+--------+---------+--------+---------+-------+-------+------+------+----+--------+--------+----+------+\n",
      "\n"
     ]
    }
   ],
   "source": [
    "data = df_flights.withColumn('dep_time', (\n",
    "    F.when(\n",
    "        check_empty_column('dep_time'), (\n",
    "                F.concat(\n",
    "                    F.col('hour'), F.col('minute')\n",
    "                )\n",
    "        )\n",
    "    ).otherwise(F.col('dep_time'))\n",
    "))\n",
    "\n",
    "data.show()\n",
    "\n",
    "df_flights.select('*').where(df_flights.dep_time == None).show()"
   ]
  },
  {
   "attachments": {},
   "cell_type": "markdown",
   "metadata": {
    "datalore": {
     "hide_input_from_viewers": false,
     "hide_output_from_viewers": false,
     "type": "MD"
    }
   },
   "source": [
    "# 5."
   ]
  },
  {
   "cell_type": "code",
   "execution_count": 42,
   "metadata": {
    "datalore": {
     "hide_input_from_viewers": false,
     "hide_output_from_viewers": false,
     "type": "CODE"
    }
   },
   "outputs": [
    {
     "name": "stdout",
     "output_type": "stream",
     "text": [
      "+----+-----+---+--------+---------+--------+---------+-------+-------+------+------+----+--------+--------+----+------+\n",
      "|year|month|day|dep_time|dep_delay|arr_time|arr_delay|carrier|tailnum|flight|origin|dest|air_time|distance|hour|minute|\n",
      "+----+-----+---+--------+---------+--------+---------+-------+-------+------+------+----+--------+--------+----+------+\n",
      "+----+-----+---+--------+---------+--------+---------+-------+-------+------+------+----+--------+--------+----+------+\n",
      "\n",
      "+----+-----+---+--------+---------+--------+---------+-------+-------+------+------+----+--------+--------+----+------+\n",
      "|year|month|day|dep_time|dep_delay|arr_time|arr_delay|carrier|tailnum|flight|origin|dest|air_time|distance|hour|minute|\n",
      "+----+-----+---+--------+---------+--------+---------+-------+-------+------+------+----+--------+--------+----+------+\n",
      "|2014|   12|  8|     658|       -7|     935|       -5|     VX| N846VA|  1780|   SEA| LAX|     132|     954|   6|    58|\n",
      "|2014|    1| 22|    1040|        5|    1505|        5|     AS| N559AS|   851|   SEA| HNL|     360|    2677|  10|    40|\n",
      "|2014|    3|  9|    1443|       -2|    1652|        2|     VX| N847VA|   755|   SEA| SFO|     111|     679|  14|    43|\n",
      "|2014|    4|  9|    1705|       45|    1839|       34|     WN| N360SW|   344|   PDX| SJC|      83|     569|  17|     5|\n",
      "|2014|    3|  9|     754|       -1|    1015|        1|     AS| N612AS|   522|   SEA| BUR|     127|     937|   7|    54|\n",
      "|2014|    1| 15|    1037|        7|    1352|        2|     WN| N646SW|    48|   PDX| DEN|     121|     991|  10|    37|\n",
      "|2014|    7|  2|     847|       42|    1041|       51|     WN| N422WN|  1520|   PDX| OAK|      90|     543|   8|    47|\n",
      "|2014|    5| 12|    1655|       -5|    1842|      -18|     VX| N361VA|   755|   SEA| SFO|      98|     679|  16|    55|\n",
      "|2014|    4| 19|    1236|       -4|    1508|       -7|     AS| N309AS|   490|   SEA| SAN|     135|    1050|  12|    36|\n",
      "|2014|   11| 19|    1812|       -3|    2352|       -4|     AS| N564AS|    26|   SEA| ORD|     198|    1721|  18|    12|\n",
      "|2014|   11|  8|    1653|       -2|    1924|       -1|     AS| N323AS|   448|   SEA| LAX|     130|     954|  16|    53|\n",
      "|2014|    8|  3|    1120|        0|    1415|        2|     AS| N305AS|   656|   SEA| PHX|     154|    1107|  11|    20|\n",
      "|2014|   10| 30|     811|       21|    1038|       29|     AS| N433AS|   608|   SEA| LAS|     127|     867|   8|    11|\n",
      "|2014|   11| 12|    2346|       -4|     217|      -28|     AS| N765AS|   121|   SEA| ANC|     183|    1448|  23|    46|\n",
      "|2014|   10| 31|    1314|       89|    1544|      111|     AS| N713AS|   306|   SEA| SFO|     129|     679|  13|    14|\n",
      "|2014|    1| 29|    2009|        3|    2159|        9|     UA| N27205|  1458|   PDX| SFO|      90|     550|  20|     9|\n",
      "|2014|   12| 17|    2015|       50|    2150|       41|     AS| N626AS|   368|   SEA| SMF|      76|     605|  20|    15|\n",
      "|2014|    8| 11|    1017|       -3|    1613|       -7|     WN| N8634A|   827|   SEA| MDW|     216|    1733|  10|    17|\n",
      "|2014|    1| 13|    2156|       -9|     607|      -15|     AS| N597AS|    24|   SEA| BOS|     290|    2496|  21|    56|\n",
      "|2014|    6|  5|    1733|      -12|    1945|      -10|     OO| N215AG|  3488|   PDX| BUR|     111|     817|  17|    33|\n",
      "+----+-----+---+--------+---------+--------+---------+-------+-------+------+------+----+--------+--------+----+------+\n",
      "only showing top 20 rows\n",
      "\n"
     ]
    }
   ],
   "source": [
    "data = df_flights.withColumn('dep_delay', (\n",
    "    F.when(\n",
    "        (check_empty_column('dep_delay')), 0\n",
    "    ).otherwise(F.col('dep_delay'))\n",
    "))\n",
    "\n",
    "data.select('*').where(F.col('dep_delay').isNull()).show()\n",
    "\n",
    "\n",
    "data.show()\n",
    "\n",
    "df_flights = data"
   ]
  },
  {
   "attachments": {},
   "cell_type": "markdown",
   "metadata": {
    "datalore": {
     "hide_input_from_viewers": false,
     "hide_output_from_viewers": false,
     "type": "MD"
    }
   },
   "source": [
    "# 6."
   ]
  },
  {
   "cell_type": "code",
   "execution_count": null,
   "metadata": {
    "datalore": {
     "hide_input_from_viewers": false,
     "hide_output_from_viewers": false,
     "type": "CODE"
    }
   },
   "outputs": [],
   "source": [
    "data = df_flights.withColumn('arr_delay', (\n",
    "    F.when(\n",
    "        (check_empty_column('arr_delay')), 0\n",
    "    ).otherwise(F.col('arr_delay'))\n",
    "))\n",
    "\n",
    "data.select('*').where(F.col('arr_delay').isNull()).show()\n",
    "\n",
    "\n",
    "data.show()\n",
    "\n",
    "df_flights = data"
   ]
  },
  {
   "attachments": {},
   "cell_type": "markdown",
   "metadata": {
    "datalore": {
     "hide_input_from_viewers": false,
     "hide_output_from_viewers": false,
     "type": "MD"
    }
   },
   "source": [
    "# 7."
   ]
  },
  {
   "cell_type": "code",
   "execution_count": 44,
   "metadata": {
    "datalore": {
     "hide_input_from_viewers": false,
     "hide_output_from_viewers": false,
     "type": "CODE"
    }
   },
   "outputs": [
    {
     "name": "stdout",
     "output_type": "stream",
     "text": [
      "+----+-----+---+--------+---------+--------+---------+-------+-------+------+------+----+--------+--------+----+------+\n",
      "|year|month|day|dep_time|dep_delay|arr_time|arr_delay|carrier|tailnum|flight|origin|dest|air_time|distance|hour|minute|\n",
      "+----+-----+---+--------+---------+--------+---------+-------+-------+------+------+----+--------+--------+----+------+\n",
      "|2014|   12|  8|     658|       -7|     935|       -5|     VX| N846VA|  1780|   SEA| LAX|     132|     954|   6|    58|\n",
      "|2014|    1| 22|    1040|        5|    1505|        5|     AS| N559AS|   851|   SEA| HNL|     360|    2677|  10|    40|\n",
      "|2014|    3|  9|    1443|       -2|    1652|        2|     VX| N847VA|   755|   SEA| SFO|     111|     679|  14|    43|\n",
      "|2014|    4|  9|    1705|       45|    1839|       34|     WN| N360SW|   344|   PDX| SJC|      83|     569|  17|     5|\n",
      "|2014|    3|  9|     754|       -1|    1015|        1|     AS| N612AS|   522|   SEA| BUR|     127|     937|   7|    54|\n",
      "|2014|    1| 15|    1037|        7|    1352|        2|     WN| N646SW|    48|   PDX| DEN|     121|     991|  10|    37|\n",
      "|2014|    7|  2|     847|       42|    1041|       51|     WN| N422WN|  1520|   PDX| OAK|      90|     543|   8|    47|\n",
      "|2014|    5| 12|    1655|       -5|    1842|      -18|     VX| N361VA|   755|   SEA| SFO|      98|     679|  16|    55|\n",
      "|2014|    4| 19|    1236|       -4|    1508|       -7|     AS| N309AS|   490|   SEA| SAN|     135|    1050|  12|    36|\n",
      "|2014|   11| 19|    1812|       -3|    2352|       -4|     AS| N564AS|    26|   SEA| ORD|     198|    1721|  18|    12|\n",
      "+----+-----+---+--------+---------+--------+---------+-------+-------+------+------+----+--------+--------+----+------+\n",
      "only showing top 10 rows\n",
      "\n",
      "+--------+---------+--------+---------+-------+-------+------+------+----+--------+--------+\n",
      "|dep_time|dep_delay|arr_time|arr_delay|carrier|tailnum|flight|origin|dest|air_time|distance|\n",
      "+--------+---------+--------+---------+-------+-------+------+------+----+--------+--------+\n",
      "|     658|       -7|     935|       -5|     VX| N846VA|  1780|   SEA| LAX|     132|     954|\n",
      "|    1040|        5|    1505|        5|     AS| N559AS|   851|   SEA| HNL|     360|    2677|\n",
      "|    1443|       -2|    1652|        2|     VX| N847VA|   755|   SEA| SFO|     111|     679|\n",
      "|    1705|       45|    1839|       34|     WN| N360SW|   344|   PDX| SJC|      83|     569|\n",
      "|     754|       -1|    1015|        1|     AS| N612AS|   522|   SEA| BUR|     127|     937|\n",
      "|    1037|        7|    1352|        2|     WN| N646SW|    48|   PDX| DEN|     121|     991|\n",
      "|     847|       42|    1041|       51|     WN| N422WN|  1520|   PDX| OAK|      90|     543|\n",
      "|    1655|       -5|    1842|      -18|     VX| N361VA|   755|   SEA| SFO|      98|     679|\n",
      "|    1236|       -4|    1508|       -7|     AS| N309AS|   490|   SEA| SAN|     135|    1050|\n",
      "|    1812|       -3|    2352|       -4|     AS| N564AS|    26|   SEA| ORD|     198|    1721|\n",
      "+--------+---------+--------+---------+-------+-------+------+------+----+--------+--------+\n",
      "only showing top 10 rows\n",
      "\n"
     ]
    }
   ],
   "source": [
    "df_flights.show(10)\n",
    "\n",
    "data = df_flights.drop(*('year', 'month', 'day', 'hour', 'minute'))\n",
    "data.show(10)\n",
    "\n",
    "df_flights = data"
   ]
  },
  {
   "cell_type": "markdown",
   "metadata": {},
   "source": [
    "# 8. Crie a coluna air_time_projected(int) de acordo com a fórmula [Distance x 0.1+ 20]"
   ]
  },
  {
   "cell_type": "code",
   "execution_count": null,
   "metadata": {},
   "outputs": [],
   "source": [
    "df_flights = df_flights.withColumn('air_time_projected',\n",
    "                                   ((F.col('distance') * 0.1) + 20).cast(IntegerType()))"
   ]
  },
  {
   "cell_type": "code",
   "execution_count": null,
   "metadata": {},
   "outputs": [],
   "source": [
    "df_flights.printSchema()"
   ]
  },
  {
   "cell_type": "code",
   "execution_count": null,
   "metadata": {},
   "outputs": [],
   "source": [
    "df_flights.groupBy(\"air_time_projected\").count().distinct().orderBy(\"air_time_projected\", ascending=True).show(270)"
   ]
  },
  {
   "cell_type": "markdown",
   "metadata": {},
   "source": [
    "## Pergunta 9"
   ]
  },
  {
   "cell_type": "code",
   "execution_count": null,
   "metadata": {},
   "outputs": [],
   "source": [
    "df_flights.toPandas()"
   ]
  },
  {
   "cell_type": "code",
   "execution_count": null,
   "metadata": {},
   "outputs": [],
   "source": [
    "df_flights_1 = df_flights.groupBy(\"origin\", \"dest\").agg(F.avg('air_time').cast(IntegerType()).alias('air_time_expected')).orderBy('origin')"
   ]
  },
  {
   "cell_type": "code",
   "execution_count": null,
   "metadata": {},
   "outputs": [],
   "source": [
    "print('Actual columns:', df_flights_1.columns)\n",
    "\n",
    "\n",
    "df_flights_1 = (df_flights_1.withColumnRenamed('origin', 'O1')\n",
    "                          .withColumnRenamed('dest', 'D1')\n",
    "                          .withColumnRenamed('air_time_expected', 'air_time_expected')\n",
    "                                       \n",
    "              )\n",
    "print('modified columns:', df_flights_1.columns)\n",
    "\n",
    "df_flights_1.show()"
   ]
  },
  {
   "cell_type": "code",
   "execution_count": null,
   "metadata": {},
   "outputs": [],
   "source": [
    "df_flights_Final = (df_flights.join(df_flights_1,\n",
    "                  (df_flights.origin == df_flights_1.O1)\n",
    "                     & (df_flights.dest == df_flights_1.D1)\n",
    "                        ,\"left\")\n",
    ")"
   ]
  },
  {
   "cell_type": "code",
   "execution_count": null,
   "metadata": {},
   "outputs": [],
   "source": [
    "df_flights_Final.toPandas()"
   ]
  },
  {
   "cell_type": "code",
   "execution_count": null,
   "metadata": {},
   "outputs": [],
   "source": [
    "df_flights = df_flights_Final.drop(\"O1\", \"D1\")"
   ]
  },
  {
   "cell_type": "code",
   "execution_count": null,
   "metadata": {},
   "outputs": [],
   "source": [
    "df_flights.toPandas()"
   ]
  },
  {
   "cell_type": "markdown",
   "metadata": {},
   "source": [
    "## Pergunta 10"
   ]
  },
  {
   "cell_type": "code",
   "execution_count": null,
   "metadata": {},
   "outputs": [],
   "source": [
    "df_flights.groupBy(\"air_time\").count().distinct().orderBy(\"air_time\", ascending=True).show()"
   ]
  },
  {
   "cell_type": "code",
   "execution_count": null,
   "metadata": {},
   "outputs": [],
   "source": [
    "# Função greatest (Retorna o maior valor de todos os parâmetros)\n",
    "df_flights = (df_flights.withColumn('air_time',\n",
    "                                  F.when(F.col('air_time').isNull(), \n",
    "                                         F.greatest(F.col('air_time_projected'), F.col('air_time_expected')))\n",
    "                                   .otherwise(F.col('air_time'))                     \n",
    "                               \n",
    "            ))"
   ]
  },
  {
   "cell_type": "code",
   "execution_count": null,
   "metadata": {},
   "outputs": [],
   "source": [
    "df_flights.groupBy(\"air_time\").count().distinct().orderBy(\"air_time\", ascending=True).show()"
   ]
  },
  {
   "cell_type": "markdown",
   "metadata": {},
   "source": [
    "## Pergunta 11"
   ]
  },
  {
   "cell_type": "code",
   "execution_count": null,
   "metadata": {},
   "outputs": [],
   "source": [
    "df_flights.filter(F.col('arr_time') == 'NA').toPandas()"
   ]
  },
  {
   "cell_type": "code",
   "execution_count": null,
   "metadata": {},
   "outputs": [],
   "source": [
    "# Transforma a coluna dep_datetime em segundos com a função unix_timestamp e soma com a coluna air_time \n",
    "# transformada em segundos, transformando novamente em timestamp depois\n",
    "df_flights = df_flights.withColumn('sum', \n",
    "                        (F.unix_timestamp(\"dep_datetime\") + \n",
    "                        (F.col('air_time') * 60).cast('int')).cast('timestamp'))\n",
    "\n",
    "# Verifica aonde a coluna arr_time está nulo e troca o valor\n",
    "df_flights = df_flights.withColumn('arr_time',\n",
    "             F.when(F.col('arr_time') == 'NA', F.format_string('%d%d', F.hour(F.col('sum')), \n",
    "                                                                       F.minute(F.col('sum'))))\n",
    "             .otherwise(F.col('arr_time')))\n",
    "\n",
    "# Remove a coluna sum\n",
    "df_flights = df_flights.drop('sum')\n",
    "\n",
    "df_flights.toPandas()"
   ]
  },
  {
   "cell_type": "code",
   "execution_count": null,
   "metadata": {},
   "outputs": [],
   "source": [
    "df_flights.select(F.col('origin'),\n",
    "                  F.col('dest'),\n",
    "                  F.col('arr_time'),\n",
    "                  F.col('dep_time'),\n",
    "                  F.col('air_time')).where((F.col('origin') == 'SEA') & (F.col('dest') == 'PHX')).show()"
   ]
  },
  {
   "cell_type": "code",
   "execution_count": null,
   "metadata": {},
   "outputs": [],
   "source": [
    "df_flights.filter(F.col('arr_time') == 'NA').show(truncate = 5)\n",
    "\n",
    "(df_flights\n",
    ".select(F.col('dep_time'), \n",
    "        F.col('dep_delay'), \n",
    "        F.col('arr_time'), \n",
    "        F.col('arr_delay'), \n",
    "        F.col('air_time'), \n",
    "        F.col('tailnum'))\n",
    ".where(F.col('tailnum') == 'N612AS')\n",
    ".show(50))"
   ]
  },
  {
   "cell_type": "markdown",
   "metadata": {},
   "source": [
    "## Pergunta 12"
   ]
  },
  {
   "cell_type": "code",
   "execution_count": null,
   "metadata": {},
   "outputs": [],
   "source": [
    "df_flights = df_flights.withColumn('haul_duration', (\n",
    "                      F.when((F.col('air_time').between(20,180)), \"SHORT-HAUL\")\n",
    "                       .when((F.col('air_time').between(181,360)), \"MEDIUM-HAUL\")\n",
    "                       .otherwise('LONG-HAUL')))"
   ]
  },
  {
   "cell_type": "code",
   "execution_count": null,
   "metadata": {},
   "outputs": [],
   "source": [
    "df_flights.groupBy(\"haul_duration\").count().distinct().orderBy(\"haul_duration\", ascending=True).show()"
   ]
  },
  {
   "cell_type": "markdown",
   "metadata": {},
   "source": [
    "## Pergunta 13"
   ]
  },
  {
   "cell_type": "code",
   "execution_count": null,
   "metadata": {},
   "outputs": [],
   "source": [
    "df_flights.groupBy(\"dep_season\").count().distinct().orderBy(\"dep_season\", ascending=True).show()"
   ]
  },
  {
   "cell_type": "markdown",
   "metadata": {},
   "source": [
    "## Pergunta 14"
   ]
  },
  {
   "cell_type": "code",
   "execution_count": null,
   "metadata": {},
   "outputs": [],
   "source": [
    "df_flights = df_flights.withColumn('dep_delay_category', (\n",
    "                      F.when((F.col('dep_delay') < 0), \"ANTECIPATED\")\n",
    "                       .when((F.col('dep_delay') == 0), \"INTIME\")\n",
    "                       .when((F.col('dep_delay') >= 60 ), \"MAJOR\")\n",
    "                       .otherwise(\"MINOR\")))"
   ]
  },
  {
   "cell_type": "code",
   "execution_count": null,
   "metadata": {},
   "outputs": [],
   "source": [
    "df_flights.groupBy(\"dep_delay_category\").count().distinct().orderBy(\"dep_delay_category\", ascending=True).show()"
   ]
  }
 ],
 "metadata": {
  "datalore": {
   "base_environment": "default",
   "computation_mode": "JUPYTER",
   "package_manager": "pip",
   "packages": [],
   "version": 1
  },
  "language_info": {
   "name": "python"
  }
 },
 "nbformat": 4,
 "nbformat_minor": 4
}
